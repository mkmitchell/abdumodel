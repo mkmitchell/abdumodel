{
 "cells": [
  {
   "cell_type": "code",
   "execution_count": null,
   "id": "70fbf51f",
   "metadata": {},
   "outputs": [],
   "source": [
    "'''\n",
    "Getting the ABDU model to work in notebook\n",
    "\n",
    "EPSG: 5070\n",
    "'''\n",
    "import duckdb #version 0.9.2\n",
    "import geopandas as gpd #version 0.14.1\n",
    "import os, time\n",
    "from shapely import wkt\n",
    "import pandas as pd\n",
    "import pyarrow as pa\n",
    "import rasterio\n",
    "from rasterio import mask\n",
    "from shapely.geometry import shape\n",
    "from threading import Thread, current_thread\n",
    "\n",
    "con = duckdb.connect()\n",
    "con.install_extension(\"spatial\")\n",
    "con.load_extension(\"spatial\")\n",
    "con.install_extension(\"azure\")\n",
    "con.load_extension(\"azure\")\n",
    "con.install_extension(\"json\")\n",
    "con.load_extension(\"json\")\n",
    "print(duckdb.__version__)"
   ]
  },
  {
   "cell_type": "code",
   "execution_count": null,
   "id": "afce3077",
   "metadata": {
    "tags": [
     "parameters"
    ]
   },
   "outputs": [],
   "source": [
    "inaoifile = '28001'\n",
    "local = False"
   ]
  },
  {
   "cell_type": "code",
   "execution_count": null,
   "id": "513a0be6",
   "metadata": {},
   "outputs": [],
   "source": [
    "start_time = time.time()"
   ]
  },
  {
   "cell_type": "code",
   "execution_count": null,
   "id": "883fd219",
   "metadata": {},
   "outputs": [],
   "source": [
    "if local:\n",
    "    nwiurl = './nwi/**/*.parquet'\n",
    "else:\n",
    "    nwiurl = 'azure://abdu/nwi/**/*.parquet'"
   ]
  },
  {
   "cell_type": "code",
   "execution_count": null,
   "id": "0690ae04",
   "metadata": {},
   "outputs": [],
   "source": [
    "'''\n",
    "SELECT fips geometry based on inaoifile to use as aoi for calculation.  All hucs should have center in fips.\n",
    "'''\n",
    "con.sql('''CREATE OR REPLACE SECRET (\n",
    "    TYPE AZURE,\n",
    "    ACCOUNT_NAME 'giscog')''')\n",
    "#con.sql(\"SET azure_transport_option_type = 'curl'\")\n",
    "con.sql(\"\"\"\n",
    "CREATE OR REPLACE TABLE selectedcounty AS\n",
    "SELECT NAME, STATE_NAME, FIPS, geometry FROM read_parquet('azure://abdu/uscounties.parquet')\n",
    "WHERE FIPS = '{0}'\n",
    "\"\"\".format(inaoifile))"
   ]
  },
  {
   "cell_type": "code",
   "execution_count": null,
   "id": "49ce0b2c",
   "metadata": {},
   "outputs": [],
   "source": [
    "con.sql('select * from selectedcounty')"
   ]
  },
  {
   "cell_type": "code",
   "execution_count": null,
   "id": "3a8b78c3",
   "metadata": {},
   "outputs": [],
   "source": [
    "'''\n",
    "Read in hucs partitioned to huc2/huc4 level that have center with the aoi.  Don't clip hucs\n",
    "'''\n",
    "con.sql(f\"\"\"\n",
    "CREATE OR REPLACE TABLE huc12 AS\n",
    "SELECT LEFT(huc12,2) AS huc2,LEFT(huc12,4) AS huc4, huc12, areaacres, huc.geometry\n",
    "FROM (SELECT huc12, areaacres, geometry FROM read_parquet('azure://abdu/huc/**/*.parquet', hive_partitioning=true)\n",
    "WHERE CAST(LEFT(huc12,2) AS INTEGER)<=12) AS huc\n",
    "JOIN selectedcounty ON \n",
    "ST_Within(ST_Centroid(ST_GeomFromWKB(huc.geometry)), ST_GeomFromWKB(selectedcounty.geometry))\n",
    "\"\"\")"
   ]
  },
  {
   "cell_type": "code",
   "execution_count": null,
   "id": "32e60c3e",
   "metadata": {},
   "outputs": [],
   "source": [
    "#################################\n",
    "#################################\n",
    "#################################\n",
    "#################################\n",
    "#################################\n",
    "#################################\n",
    "#################################\n",
    "#################################\n",
    "#################################\n",
    "#################################\n",
    "'''\n",
    "Wetland energy calculation\n",
    "'''"
   ]
  },
  {
   "cell_type": "code",
   "execution_count": null,
   "id": "e9277213",
   "metadata": {},
   "outputs": [],
   "source": [
    "hucs = con.sql(\"select huc4 from huc12 GROUP BY huc4\").df().values.tolist()\n",
    "hucs = sorted([item for items in hucs for item in items])\n",
    "print(hucs)"
   ]
  },
  {
   "cell_type": "code",
   "execution_count": null,
   "id": "f902dfbc",
   "metadata": {},
   "outputs": [],
   "source": [
    "con.execute(\"\"\"\n",
    "    CREATE OR REPLACE TABLE my_wetlands (\n",
    "        ATTRIBUTE VARCHAR,\n",
    "        huc2 VARCHAR,\n",
    "        huc4 VARCHAR,\n",
    "        huc12 VARCHAR,\n",
    "        geometry VARCHAR,\n",
    "    )\n",
    "\"\"\")\n",
    "def write_from_thread(con):\n",
    "    local_con = con.cursor()\n",
    "    huc = str(current_thread().name)\n",
    "    local_con.sql('''CREATE OR REPLACE SECRET (\n",
    "    TYPE AZURE,\n",
    "    ACCOUNT_NAME 'giscog')''')\n",
    "    #local_con.sql(\"SET azure_transport_option_type = 'curl'\")\n",
    "    sql = '''INSERT INTO my_wetlands (SELECT ATTRIBUTE,huc2, huc4, huc12, ST_AsWKB(ST_Intersection(ST_GeomFromWKB(wetlnd.geometry), \n",
    "        ST_GeomFromWKB(huc12.geometry))) as geometry\n",
    "        FROM (SELECT ATTRIBUTE, geometry FROM read_parquet('{1}',hive_partitioning=true) \n",
    "        WHERE WETLAND_TYPE != 'Riverine' AND huc4 = '{0}') AS wetlnd\n",
    "        JOIN huc12 ON \n",
    "        ST_Intersects(ST_GeomFromWKB(wetlnd.geometry), ST_GeomFromWKB(huc12.geometry)))'''.format(huc, nwiurl)\n",
    "    result = local_con.execute(sql).fetchall()"
   ]
  },
  {
   "cell_type": "code",
   "execution_count": null,
   "id": "38cb8035",
   "metadata": {},
   "outputs": [],
   "source": [
    "threads = []\n",
    "print(hucs)\n",
    "for i in range(len(hucs)):\n",
    "    huc = hucs[i]\n",
    "    threads.append(Thread(target = write_from_thread,\n",
    "                            args = (con,),\n",
    "                            name = huc))"
   ]
  },
  {
   "cell_type": "code",
   "execution_count": null,
   "id": "e56b5bec",
   "metadata": {},
   "outputs": [],
   "source": [
    "%%time\n",
    "# Kick off all threads in parallel\n",
    "for thread in threads:\n",
    "    thread.start()\n",
    "\n",
    "# Ensure all threads complete before printing final results\n",
    "for thread in threads:\n",
    "    thread.join()\n",
    "\n",
    "con.sql(\"\"\"\n",
    "    CREATE OR REPLACE TABLE wetlands AS \n",
    "    SELECT * FROM my_wetlands \n",
    "\"\"\")"
   ]
  },
  {
   "cell_type": "code",
   "execution_count": null,
   "id": "8fc1ec5f",
   "metadata": {},
   "outputs": [],
   "source": [
    "'''\n",
    "Import wetland crossclass data and assign classes to the nwi table\n",
    "'''\n",
    "con.sql(\"\"\"CREATE OR REPLACE TABLE crossnwi AS (UNPIVOT (FROM (SELECT * FROM read_json_auto('https://giscog.blob.core.windows.net/abdu/aoiWetland.json', maximum_object_size=100000000))) ON COLUMNS(*))\"\"\")\n",
    "con.sql(\"\"\"CREATE OR REPLACE TABLE crossnwi AS SELECT name, UNNEST(value) AS value FROM crossnwi\"\"\")\n",
    "con.sql(\"\"\"CREATE OR REPLACE TABLE wetlands AS\n",
    "SELECT name, huc12, geometry FROM (SELECT DISTINCT geometry, ATTRIBUTE, huc2, huc4, huc12 FROM wetlands) AS wetselect\n",
    "LEFT JOIN crossnwi ON wetselect.ATTRIBUTE LIKE crossnwi.value\n",
    "\"\"\")\n",
    "con.sql(f\"\"\"CREATE OR REPLACE TABLE wetlands AS\n",
    "(SELECT replace(wetlands.name, '_', '') AS name, huc12, ST_Area(st_geomfromtext(geometry))*0.0001 AS ha, kcal, kcal*ha AS avalNrgy, st_buffer(st_geomfromtext(geometry),0) as geometry FROM wetlands\n",
    "LEFT JOIN read_csv_auto('azure://abdu/kcal.csv') ON replace(wetlands.name, '_', '') = read_csv_auto.habitatType\n",
    "WHERE wetlands.name IS NOT NULL)\n",
    "\"\"\")\n",
    "print(con.sql('SELECT count(name) FROM wetlands'))"
   ]
  },
  {
   "cell_type": "code",
   "execution_count": null,
   "id": "7ce5cb28",
   "metadata": {},
   "outputs": [],
   "source": [
    "'''\n",
    "Import Waterfowl demographic data to assign a fips to a specific code (breeding [4b] and non-breeding [4d])\n",
    "'''\n",
    "code = con.sql(\"\"\"\n",
    "SELECT code FROM read_parquet('azure://abdu/WaterfowlDemographic.parquet')\n",
    "JOIN selectedcounty ON \n",
    "ST_Within(ST_Centroid(ST_GeomFromWKB(selectedcounty.geometry)), ST_GeomFromWKB(read_parquet.geometry))\n",
    "\"\"\").df().values.tolist()[0][0]\n",
    "print(code)"
   ]
  },
  {
   "cell_type": "code",
   "execution_count": null,
   "id": "f6b3eca5",
   "metadata": {},
   "outputs": [],
   "source": [
    "#################################\n",
    "#################################\n",
    "#################################\n",
    "#################################\n",
    "#################################\n",
    "#################################\n",
    "#################################\n",
    "#################################\n",
    "#################################\n",
    "#################################"
   ]
  },
  {
   "cell_type": "code",
   "execution_count": null,
   "id": "61983cb9",
   "metadata": {},
   "outputs": [],
   "source": [
    "'''\n",
    "Read in PADUS\n",
    "'''\n",
    "con.sql(\"\"\"\n",
    "CREATE OR REPLACE TABLE protected AS \n",
    "SELECT CATEGORY, huc12, huc2, huc4, ST_Intersection(ST_GeomFromWKB(huc12.geometry), ST_GeomFromWKB(prot.geometry)) as geometry\n",
    "FROM (SELECT CATEGORY, geometry FROM read_parquet('azure://abdu/padus/**/*.parquet', hive_partitioning=true)\n",
    "WHERE CATEGORY IN ('Fee', 'Easements', 'Other') AND huc4 IN {0}) AS prot\n",
    "JOIN huc12 ON \n",
    "ST_Intersects(ST_GeomFromWKB(huc12.geometry), ST_GeomFromWKB(prot.geometry))\n",
    "\"\"\".format(tuple(hucs)))"
   ]
  },
  {
   "cell_type": "code",
   "execution_count": null,
   "id": "00a51875",
   "metadata": {},
   "outputs": [],
   "source": [
    "con.sql(\"\"\"\n",
    "CREATE OR REPLACE TABLE protwetlands AS\n",
    "SELECT name, wetlands.huc12, kcal, ST_Intersection(protected.geometry, wetlands.geometry) as geometry\n",
    "FROM (SELECT ST_Union_Agg(geometry) as geometry from protected) as protected\n",
    "JOIN wetlands ON \n",
    "ST_Intersects(wetlands.geometry, protected.geometry)\n",
    "\"\"\")"
   ]
  },
  {
   "cell_type": "code",
   "execution_count": null,
   "id": "68528bf5",
   "metadata": {},
   "outputs": [],
   "source": [
    "con.sql(\"\"\"\n",
    "CREATE OR REPLACE TABLE protwetlands AS\n",
    "SELECT DISTINCT geometry, name, huc12, ST_Area(geometry)*0.0001 AS ProtHabHa, kcal, kcal*ProtHabHa AS protNrgy FROM protwetlands\n",
    "\"\"\")"
   ]
  },
  {
   "cell_type": "code",
   "execution_count": null,
   "id": "6643d598",
   "metadata": {},
   "outputs": [],
   "source": [
    "#################################\n",
    "#################################\n",
    "#################################\n",
    "#################################\n",
    "#################################\n",
    "#################################\n",
    "#################################\n",
    "#################################\n",
    "#################################\n",
    "#################################"
   ]
  },
  {
   "cell_type": "code",
   "execution_count": null,
   "id": "f0af6999",
   "metadata": {},
   "outputs": [],
   "source": [
    "# Need huc12 geometry\n",
    "df = con.sql('SELECT ST_AsText(ST_geomfromwkb(geometry)) as geometry from huc12').df()\n",
    "df['geometry'] = df['geometry'].apply(wkt.loads)\n",
    "df = gpd.GeoDataFrame(df, geometry='geometry', crs=5070)"
   ]
  },
  {
   "cell_type": "code",
   "execution_count": null,
   "id": "40468785",
   "metadata": {},
   "outputs": [],
   "source": [
    "'''\n",
    "Read in NLCD clipped to hucs\n",
    "'''\n",
    "with rasterio.open('https://giscog.blob.core.windows.net/newcontainer/nlcd2019_cog.tif') as src:\n",
    "    # Clip the raster to the geometry of the shapefile\n",
    "    clipped_data, transform = mask.mask(src, df.geometry, crop=True)\n",
    "\n",
    "clipped_data[clipped_data>23]=0\n",
    "clipped_data[clipped_data<21]=0\n",
    "clipped_data[clipped_data==21]=1\n",
    "clipped_data[clipped_data==22]=1\n",
    "clipped_data[clipped_data==23]=1\n",
    "shapes = rasterio.features.shapes(clipped_data[0], transform=transform, mask=clipped_data[0] == 1)\n",
    "# Create a GeoDataFrame from the vector polygons\n",
    "gdf_vector = gpd.GeoDataFrame({'geometry': [shape(geom) for geom, value in shapes]})\n",
    "gdf_vector['geometry'] = gdf_vector.to_wkb().geometry\n",
    "con.sql(\"CREATE OR REPLACE TABLE urban AS SELECT * EXCLUDE geometry, ST_GeomFromWKB(geometry) AS geometry FROM gdf_vector\")"
   ]
  },
  {
   "cell_type": "code",
   "execution_count": null,
   "id": "9525ec62",
   "metadata": {},
   "outputs": [],
   "source": [
    "con.sql('select * from urban')"
   ]
  },
  {
   "cell_type": "code",
   "execution_count": null,
   "id": "56e27c2d",
   "metadata": {},
   "outputs": [],
   "source": [
    "con.sql(\"\"\"\n",
    "CREATE OR REPLACE TABLE urban AS \n",
    "SELECT huc12, ST_Intersection(ST_GeomFromWKB(huc12.geometry), urban.geometry) as geometry\n",
    "FROM (SELECT geometry FROM urban) as urban\n",
    "JOIN huc12 ON \n",
    "ST_Intersects(ST_GeomFromWKB(huc12.geometry), urban.geometry)\n",
    "\"\"\")"
   ]
  },
  {
   "cell_type": "code",
   "execution_count": null,
   "id": "99a8c0a8",
   "metadata": {},
   "outputs": [],
   "source": [
    "con.sql(\"\"\"\n",
    "CREATE OR REPLACE TABLE urbanwetlands AS\n",
    "SELECT name, wetlands.huc12, kcal, ST_Intersection((urban.geometry), wetlands.geometry) as geometry\n",
    "FROM (SELECT geometry from urban) as urban\n",
    "JOIN wetlands ON \n",
    "ST_Intersects(wetlands.geometry, (urban.geometry))\n",
    "\"\"\")\n"
   ]
  },
  {
   "cell_type": "code",
   "execution_count": null,
   "id": "2deb2546",
   "metadata": {},
   "outputs": [],
   "source": [
    "con.sql(\"\"\"\n",
    "CREATE OR REPLACE TABLE urbanwetlands AS\n",
    "SELECT DISTINCT geometry, name, huc12, ST_Area(geometry)*0.0001 AS ha, kcal, kcal*ha AS urbanNrgy FROM urbanwetlands\n",
    "\"\"\")"
   ]
  },
  {
   "cell_type": "code",
   "execution_count": null,
   "id": "5540cd74",
   "metadata": {},
   "outputs": [],
   "source": [
    "con.sql(\"\"\"\n",
    "CREATE OR REPLACE TABLE urban AS\n",
    "SELECT huc12, ST_Area(geometry)*0.0001 AS urbanHa, geometry FROM urban\n",
    "\"\"\")"
   ]
  },
  {
   "cell_type": "code",
   "execution_count": null,
   "id": "32db5e52",
   "metadata": {},
   "outputs": [],
   "source": [
    "con.sql(\"\"\"\n",
    "CREATE OR REPLACE TABLE unavailable AS\n",
    "SELECT huc12, ST_Area(geometry)*0.0001 AS unavailHa, ST_Union_Agg(geometry) as geometry FROM\n",
    "(\n",
    "SELECT huc12, geometry FROM urban\n",
    "UNION ALL\n",
    "SELECT huc12, geometry from protected\n",
    ")\n",
    "group by huc12, geometry\n",
    "\"\"\")"
   ]
  },
  {
   "cell_type": "code",
   "execution_count": null,
   "id": "46fcc924",
   "metadata": {},
   "outputs": [],
   "source": [
    "#################################\n",
    "#################################\n",
    "#################################\n",
    "#################################\n",
    "#################################\n",
    "#################################\n",
    "#################################\n",
    "#################################\n",
    "#################################\n",
    "#################################\n",
    "'''\n",
    "#################################\n",
    "End of data import\n",
    "Starting model process\n",
    "#################################\n",
    "'''\n",
    "#### Prepping energy - Join energy to nwi.  Need to create the spatial kcal table first. What's the best way to do this?\n",
    "# parquet is the best to read in but it's not easily editable.  Rest service would be ok but again, not great because\n",
    "# reading those is difficult.  I wonder if"
   ]
  },
  {
   "cell_type": "code",
   "execution_count": null,
   "id": "96a32432",
   "metadata": {},
   "outputs": [],
   "source": [
    "'''\n",
    "Demand\n",
    "\n",
    "######\n",
    "Need to proportion demand based on available energy.  Available energy is spatially explicit but demand is at the fips\n",
    "count level.  We need to calculate total energy and demand at the huc12 scale.\n",
    "To proportion demand we need to calclulate total energy by fips then calculate how much energy is in each huc12. A proportion\n",
    "can then be calculated by dividing total energy within a fips by (huc12,fips) group.  Demand at the huc12 level is multiplied\n",
    "by that energy proportion.\n",
    "######\n",
    "'''"
   ]
  },
  {
   "cell_type": "code",
   "execution_count": null,
   "id": "9bc6f466",
   "metadata": {},
   "outputs": [],
   "source": [
    "'''\n",
    "Read in demand clipped by hucs\n",
    "'''\n",
    "con.sql(f\"\"\"\n",
    "CREATE OR REPLACE TABLE demandfull AS SELECT * EXCLUDE geometry, ST_GeomFromWKB(read_parquet.geometry) as geometry\n",
    "FROM read_parquet('azure://abdu/Demand9Species.parquet')\n",
    "JOIN huc12 ON \n",
    "ST_Intersects(ST_GeomFromWKB(read_parquet.geometry), ST_GeomFromWKB(huc12.geometry))\n",
    "\"\"\")\n",
    "con.sql(f\"\"\"\n",
    "CREATE OR REPLACE TABLE demand AS SELECT * EXCLUDE geometry, ST_Intersection(ST_GeomFromWKB(huc12.geometry), ST_GeomFromWKB(read_parquet.geometry)) as geometry\n",
    "FROM read_parquet('azure://abdu/Demand9Species.parquet')\n",
    "JOIN huc12 ON \n",
    "ST_Intersects(ST_GeomFromWKB(huc12.geometry), ST_GeomFromWKB(read_parquet.geometry))\n",
    "\"\"\")\n",
    "con.sql(\"\"\"CREATE OR REPLACE TABLE demand AS SELECT fips, huc12, CODE, LTADUD, LTADemand, LTAPopObj, x80DUD, X80Demand, X80PopObj, ST_Area(geometry)*0.0001 AS ha, geometry FROM (\n",
    "SELECT * FROM demand\n",
    "WHERE species='All')\n",
    "\"\"\")"
   ]
  },
  {
   "cell_type": "code",
   "execution_count": null,
   "id": "c5fd87f8",
   "metadata": {},
   "outputs": [],
   "source": [
    "'''Get sum of energy within huc12'''\n",
    "energysum = con.sql('select sum(avalNrgy) from wetlands').df().values.tolist()[0]\n",
    "print(energysum)"
   ]
  },
  {
   "cell_type": "code",
   "execution_count": null,
   "id": "ee004680",
   "metadata": {},
   "outputs": [],
   "source": [
    "con.sql(\"\"\"CREATE OR REPLACE TABLE hucdemandenergy AS \n",
    "    (SELECT name,fips, wetlands.huc12, CODE, LTADUD, LTADemand, LTAPopObj, x80DUD, X80Demand, X80PopObj, kcal, \n",
    "    ST_Intersection(wetlands.geometry, (demand.geometry)) as geometry FROM wetlands\n",
    "    JOIN demand ON ST_Intersects(wetlands.geometry, (demand.geometry)))\"\"\")"
   ]
  },
  {
   "cell_type": "code",
   "execution_count": null,
   "id": "cee2b3ac",
   "metadata": {},
   "outputs": [],
   "source": [
    "'''\n",
    "Select rows from wetland where the code is the same as pullcode\n",
    "'''\n",
    "con.sql(\"\"\"CREATE OR REPLACE TABLE hucdemandenergy AS SELECT * from hucdemandenergy WHERE CODE = '{0}'\"\"\".format(code.upper()))"
   ]
  },
  {
   "cell_type": "code",
   "execution_count": null,
   "id": "70336ac4",
   "metadata": {},
   "outputs": [],
   "source": [
    "'''\n",
    "######\n",
    "Calculate available energy (avalNrgy) of wetlands by calculating area in Hectares (HA) and multiplying by kcal.\n",
    "Select only distinct rows.\n",
    "Create new table habitatenergy\n",
    "######\n",
    "'''\n",
    "#\n",
    "con.sql(\"\"\"CREATE OR REPLACE TABLE hucdemandenergy AS (SELECT DISTINCT name, fips, huc12, CODE, LTADUD, LTADemand, LTAPopObj, x80DUD, X80Demand, X80PopObj, kcal, geometry, ST_Area(geometry)*0.0001 AS ha,ha*kcal AS avalNrgy FROM hucdemandenergy)\"\"\")"
   ]
  },
  {
   "cell_type": "code",
   "execution_count": null,
   "id": "663fef6b",
   "metadata": {},
   "outputs": [],
   "source": [
    "'''Total of availenergy'''\n",
    "'''Get sum of energy within huc12'''\n",
    "energysumfromdemand = con.sql('select sum(avalNrgy) from hucdemandenergy').df().values.tolist()[0]\n",
    "print('Wetland energy: {:,.0%}'.format(energysum[0]))\n",
    "print('Demand energy: {:,.0%}'.format(energysumfromdemand[0]))\n",
    "dif = energysumfromdemand[0] - energysum[0]\n",
    "print('Difference: {:,.0%}'.format(abs(dif/((energysumfromdemand[0] + energysum[0])/2))))\n"
   ]
  },
  {
   "cell_type": "code",
   "execution_count": null,
   "id": "11ab9a85",
   "metadata": {},
   "outputs": [],
   "source": [
    "con.sql(\"\"\"CREATE OR REPLACE TABLE test AS (select name, hucdemandenergy.fips as fips,huc12, CODE, LTADUD, LTADemand, LTAPopObj, x80DUD, X80Demand, X80PopObj, kcal, avalNrgy, (hucdemandenergy.avalNrgy/{0}) as pct, geometry from hucdemandenergy)\"\"\".format(energysum[0]))"
   ]
  },
  {
   "cell_type": "raw",
   "id": "1f9256e4",
   "metadata": {},
   "source": [
    "fullfips = sorted([item for items in fullfips for item in items])\n",
    "sqlcall =\"\"\"CREATE OR REPLACE TABLE rdydemand as SELECT * FROM test WHERE fips In {0}\"\"\".format(tuple(fullfips))\n",
    "con.sql(sqlcall)"
   ]
  },
  {
   "cell_type": "code",
   "execution_count": null,
   "id": "d123e12f",
   "metadata": {},
   "outputs": [],
   "source": [
    "sqlcall =\"\"\"CREATE OR REPLACE TABLE rdydemand as SELECT * FROM test\"\"\"\n",
    "con.sql(sqlcall)\n",
    "con.sql(\"\"\"UPDATE rdydemand SET fips ='{0}'\"\"\".format(inaoifile))\n",
    "print(con.sql('select fips, sum(pct) from rdydemand group by fips'))"
   ]
  },
  {
   "cell_type": "code",
   "execution_count": null,
   "id": "e116794a",
   "metadata": {},
   "outputs": [],
   "source": [
    "#con.sql(\"\"\"describe rdydemand\"\"\")\n",
    "con.sql(\"\"\"CREATE OR REPLACE TABLE hucdemand AS (SELECT huc12, code, \n",
    "sum(pct * LTADUD) AS LTADUD,\n",
    "sum(pct * LTADemand) AS LTADemand,\n",
    "sum(pct * LTAPopObj) AS LTAPopObj,\n",
    "sum(pct * x80DUD) AS x80DUD,\n",
    "sum(pct * X80Demand) AS X80Demand,\n",
    "sum(pct * X80PopObj) AS X80PopObj,\n",
    "FROM rdydemand\n",
    "GROUP BY huc12, code)\"\"\")"
   ]
  },
  {
   "cell_type": "code",
   "execution_count": null,
   "id": "0a4df329",
   "metadata": {},
   "outputs": [],
   "source": [
    "'''\n",
    "END Demand\n",
    "'''\n",
    "#################################\n",
    "#################################\n",
    "#################################\n",
    "#################################\n",
    "#################################\n",
    "#################################\n",
    "#################################\n",
    "#################################\n",
    "#################################\n",
    "#################################"
   ]
  },
  {
   "cell_type": "code",
   "execution_count": null,
   "id": "ce059546",
   "metadata": {},
   "outputs": [],
   "source": [
    "con.sql(\"\"\"CREATE OR REPLACE TABLE athuclevel AS\n",
    "SELECT huc12.huc12, CODE, LTADUD, LTADemand, LTAPopObj, X80DUD, X80Demand, X80PopObj,\n",
    "huc12.geometry\n",
    "FROM huc12\n",
    "LEFT JOIN hucdemand on hucdemand.huc12 = huc12.huc12\n",
    "ORDER by huc12.huc12, CODE\n",
    "\"\"\")"
   ]
  },
  {
   "cell_type": "code",
   "execution_count": null,
   "id": "05a8c6a2",
   "metadata": {},
   "outputs": [],
   "source": [
    "# Specified selection in a cell or two below.  Many don't need geometry at this later point.  Joining is by huc12 so selecting\n",
    "# only the required columns makes the join go much faster.\n",
    "con.sql(\"\"\"CREATE OR REPLACE TABLE athuclevel AS\n",
    "SELECT athuclevel.huc12, CODE, LTADUD, LTADemand, LTAPopObj, X80DUD, X80Demand, X80PopObj, \n",
    "sum(avalNrgy) as tothabitat_kcal, \n",
    "athuclevel.geometry\n",
    "FROM athuclevel\n",
    "LEFT JOIN wetlands on wetlands.huc12 = athuclevel.huc12\n",
    "GROUP BY athuclevel.huc12, CODE,LTADUD, LTADemand, LTAPopObj, X80DUD, X80Demand, X80PopObj, athuclevel.geometry\n",
    "ORDER by athuclevel.huc12\n",
    "\"\"\")"
   ]
  },
  {
   "cell_type": "code",
   "execution_count": null,
   "id": "c8b47286",
   "metadata": {},
   "outputs": [],
   "source": [
    "con.sql(\"\"\"CREATE OR REPLACE TABLE athuclevel AS\n",
    "SELECT athuclevel.huc12, CODE, LTADUD, LTADemand, LTAPopObj, X80DUD, X80Demand, X80PopObj, tothabitat_kcal, \n",
    "sum(urbanHa) as urbanHa,\n",
    "athuclevel.geometry\n",
    "FROM athuclevel\n",
    "LEFT JOIN urban on urban.huc12 = athuclevel.huc12\n",
    "GROUP BY athuclevel.huc12, CODE,LTADUD, LTADemand, LTAPopObj, X80DUD, X80Demand, X80PopObj, tothabitat_kcal, athuclevel.geometry\n",
    "ORDER by athuclevel.huc12, CODE\n",
    "\"\"\")"
   ]
  },
  {
   "cell_type": "code",
   "execution_count": null,
   "id": "f5fa7416",
   "metadata": {},
   "outputs": [],
   "source": [
    "con.sql(\"\"\"CREATE OR REPLACE TABLE athuclevel AS\n",
    "SELECT athuclevel.huc12, CODE, LTADUD, LTADemand, LTAPopObj, X80DUD, X80Demand, X80PopObj, tothabitat_kcal, urbanHa,\n",
    "sum(protNrgy) as protected_kcal,\n",
    "athuclevel.geometry\n",
    "FROM athuclevel\n",
    "LEFT JOIN protwetlands on protwetlands.huc12 = athuclevel.huc12\n",
    "GROUP BY athuclevel.huc12, CODE,LTADUD, LTADemand, LTAPopObj, X80DUD, X80Demand, X80PopObj, tothabitat_kcal, urbanHa, athuclevel.geometry\n",
    "ORDER by athuclevel.huc12, CODE\n",
    "\"\"\")"
   ]
  },
  {
   "cell_type": "code",
   "execution_count": null,
   "id": "e31850d1",
   "metadata": {},
   "outputs": [],
   "source": [
    "con.sql(\"\"\"CREATE OR REPLACE TABLE athuclevel AS\n",
    "SELECT athuclevel.huc12, CODE, LTADUD, LTADemand, LTAPopObj, X80DUD, X80Demand, X80PopObj, tothabitat_kcal, urbanHa, protected_kcal,\n",
    "sum(ProtHabHa) as protectedhabitat_ha,\n",
    "sum(protNrgy) as protected_kcal,\n",
    "athuclevel.geometry\n",
    "FROM athuclevel\n",
    "LEFT JOIN protwetlands on protwetlands.huc12 = athuclevel.huc12\n",
    "GROUP BY athuclevel.huc12, CODE,LTADUD, LTADemand, LTAPopObj, X80DUD, X80Demand, X80PopObj, tothabitat_kcal, urbanHa, protected_kcal,athuclevel.geometry\n",
    "ORDER by athuclevel.huc12, CODE\n",
    "\"\"\")"
   ]
  },
  {
   "cell_type": "code",
   "execution_count": null,
   "id": "1f4140c6",
   "metadata": {},
   "outputs": [],
   "source": [
    "con.sql(\"\"\"CREATE OR REPLACE TABLE athuclevel AS\n",
    "SELECT athuclevel.huc12, CODE, LTADUD, LTADemand, LTAPopObj, X80DUD, X80Demand, X80PopObj, tothabitat_kcal, urbanHa, protectedhabitat_ha, protected_kcal,\n",
    "sum(urbanNrgy) as urbanNrgy,\n",
    "athuclevel.geometry\n",
    "FROM athuclevel\n",
    "LEFT JOIN (SELECT huc12, urbanNrgy FROM urbanwetlands) as urbanwetlands on urbanwetlands.huc12 = athuclevel.huc12\n",
    "GROUP BY athuclevel.huc12, CODE,LTADUD, LTADemand, LTAPopObj, X80DUD, X80Demand, X80PopObj, tothabitat_kcal, urbanHa, protectedhabitat_ha, protected_kcal, athuclevel.geometry\n",
    "\"\"\")"
   ]
  },
  {
   "cell_type": "code",
   "execution_count": null,
   "id": "b4660f66",
   "metadata": {},
   "outputs": [],
   "source": [
    "con.sql(\"\"\"CREATE OR REPLACE TABLE athuclevel AS\n",
    "SELECT athuclevel.huc12, CODE, LTADUD, LTADemand, LTAPopObj, X80DUD, X80Demand, X80PopObj, tothabitat_kcal, urbanHa, protectedhabitat_ha, protected_kcal,urbanNrgy,\n",
    "sum(unavailHa) as unavailHa,\n",
    "athuclevel.geometry\n",
    "FROM athuclevel\n",
    "LEFT JOIN (SELECT huc12, unavailHa FROM unavailable) as unavailable on unavailable.huc12 = athuclevel.huc12\n",
    "GROUP BY athuclevel.huc12, CODE,LTADUD, LTADemand, LTAPopObj, X80DUD, X80Demand, X80PopObj, tothabitat_kcal, urbanHa, protectedhabitat_ha, protected_kcal, urbanNrgy, athuclevel.geometry\n",
    "\"\"\")"
   ]
  },
  {
   "cell_type": "code",
   "execution_count": null,
   "id": "d790d3f5",
   "metadata": {},
   "outputs": [],
   "source": [
    "con.sql(\"\"\"CREATE OR REPLACE TABLE athuclevel AS\n",
    "SELECT athuclevel.huc12,\n",
    "ST_Area(ST_GeomFromWKB(geometry))*0.0001 huc12_ha,\n",
    "CODE, \n",
    "COALESCE(LTADUD, 0) dud_lta,\n",
    "COALESCE(LTADemand,0) demand_lta_kcal, \n",
    "COALESCE(LTAPopObj,0) popobj_lta, \n",
    "COALESCE(X80DUD,0) dud_80th, \n",
    "COALESCE(X80Demand,0) demand_80th_kcal, \n",
    "COALESCE(X80PopObj,0) popobj_80th, \n",
    "COALESCE(tothabitat_kcal,0) tothabitat_kcal,\n",
    "COALESCE(protected_kcal,0) protected_kcal,\n",
    "COALESCE(protectedhabitat_ha,0) protectedhabitat_ha,\n",
    "COALESCE(urbanHa,0) urbanHa, \n",
    "COALESCE(sum(urbanNrgy),0) urbanNrgy,\n",
    "COALESCE(sum(unavailHa),0) unavailha,\n",
    "COALESCE(sum(unavailHa),0) huc12_ha_unavailha,\n",
    "COALESCE(tothabitat_kcal - demand_lta_kcal,0) surpdef_lta_kcal,\n",
    "COALESCE(tothabitat_kcal - demand_80th_kcal,0) surpdef_80th_kcal,\n",
    "athuclevel.geometry\n",
    "FROM athuclevel\n",
    "GROUP BY athuclevel.huc12, CODE, LTADUD, LTADemand, LTAPopObj, X80DUD, X80Demand, X80PopObj, tothabitat_kcal, protected_kcal, protectedhabitat_ha,urbanHa, geometry\n",
    "ORDER BY athuclevel.huc12, CODE\n",
    "\"\"\")"
   ]
  },
  {
   "cell_type": "code",
   "execution_count": null,
   "id": "60b7e8ad",
   "metadata": {},
   "outputs": [],
   "source": [
    "con.sql('''CREATE OR REPLACE TABLE athuclevel AS \n",
    "SELECT *,\n",
    "CASE WHEN \n",
    "demand_lta_kcal - protected_kcal > 0\n",
    "THEN\n",
    "demand_lta_kcal - protected_kcal\n",
    "ELSE 0\n",
    "END\n",
    "AS nrgprot_lta_kcal,\n",
    "CASE WHEN\n",
    "demand_80th_kcal - protected_kcal > 0 \n",
    "THEN\n",
    "demand_80th_kcal - protected_kcal\n",
    "ELSE 0\n",
    "END\n",
    "AS nrgprot_80th_kcal\n",
    "FROM athuclevel\n",
    "''')"
   ]
  },
  {
   "cell_type": "code",
   "execution_count": null,
   "id": "6728bc2a",
   "metadata": {},
   "outputs": [],
   "source": [
    "'''\n",
    "Calculate weighted mean\n",
    "'''\n",
    "con.sql('''\n",
    "CREATE OR REPLACE TABLE wtmean AS \n",
    "SELECT huctotal.huc12, name, avalNrgname/avalNrgtot as pct, hucnametotal.kcal * pct as wtmean FROM\n",
    "((SELECT huc12,sum(avalNrgy) as avalNrgtot from wetlands group by huc12) huctotal\n",
    "join\n",
    "(SELECT huc12, name, kcal, sum(avalNrgy) as avalNrgname from wetlands group by huc12, name, kcal) hucnametotal\n",
    "on hucnametotal.huc12 = huctotal.huc12)\n",
    "''')\n",
    "con.sql('''CREATE OR REPLACE TABLE wtmeanpivot AS\n",
    "(select * exclude pct FROM\n",
    "(pivot wtmean\n",
    "    on name\n",
    "    USING sum(wtmean)))\n",
    "''')"
   ]
  },
  {
   "cell_type": "code",
   "execution_count": null,
   "id": "be7c43ff",
   "metadata": {},
   "outputs": [],
   "source": [
    "cols = con.sql('describe wtmeanpivot').df()['column_name'].tolist()\n",
    "for cls in ('DeepwaterFresh', 'FreshMarsh', 'FreshShallowOpenWater', 'FreshwaterWoody', 'ManagedFreshMarsh', 'ManagedFreshShallowOpenWater', 'ManagedFreshwaterAquaticBed'):\n",
    "    if cls not in cols:\n",
    "        con.sql('''ALTER TABLE wtmeanpivot ADD COLUMN {0} DOUBLE'''.format(cls))"
   ]
  },
  {
   "cell_type": "code",
   "execution_count": null,
   "id": "84385d4f",
   "metadata": {},
   "outputs": [],
   "source": [
    "con.sql('''CREATE OR REPLACE TABLE wtmeanpivot AS \n",
    "SELECT\n",
    "huc12,\n",
    "COALESCE(DeepwaterFresh, 0) DeepwaterFresh,\n",
    "COALESCE(FreshMarsh, 0) FreshMarsh, \n",
    "COALESCE(FreshShallowOpenWater, 0) FreshShallowOpenWater,\n",
    "COALESCE(FreshwaterWoody, 0) FreshwaterWoody,\n",
    "COALESCE(ManagedFreshMarsh, 0) ManagedFreshMarsh,\n",
    "COALESCE(ManagedFreshShallowOpenWater, 0) ManagedFreshShallowOpenWater,\n",
    "COALESCE(ManagedFreshwaterAquaticBed, 0) ManagedFreshwaterAquaticBed\n",
    "FROM wtmeanpivot\n",
    "''')\n",
    "con.sql('''create or replace table wtmeanbyhuc as\n",
    "        select huc12, \n",
    "        sum(DeepwaterFresh + FreshMarsh + FreshShallowOpenWater + FreshwaterWoody + ManagedFreshMarsh +ManagedFreshShallowOpenWater + ManagedFreshwaterAquaticBed)\n",
    "        as wtmean from wtmeanpivot group by huc12''')"
   ]
  },
  {
   "cell_type": "code",
   "execution_count": null,
   "id": "e66e9387",
   "metadata": {},
   "outputs": [],
   "source": [
    "#########\n",
    "########\n",
    "con.sql('''CREATE OR REPLACE TABLE athuclevel AS\n",
    "SELECT * \n",
    "from athuclevel\n",
    "left join wtmeanbyhuc on athuclevel.huc12=wtmeanbyhuc.huc12\n",
    "order by athuclevel.huc12\n",
    "''')\n",
    "con.sql('ALTER TABLE athuclevel RENAME wtmean TO wtMean_kcal_per_ha')"
   ]
  },
  {
   "cell_type": "code",
   "execution_count": null,
   "id": "0f7cde1e",
   "metadata": {},
   "outputs": [],
   "source": [
    "con.sql('''CREATE OR REPLACE TABLE athuclevel AS\n",
    "SELECT *,\n",
    "CASE WHEN \n",
    "surpdef_lta_kcal < 0\n",
    "THEN\n",
    "abs(surpdef_lta_kcal/wtMean_kcal_per_ha)\n",
    "ELSE 0\n",
    "END\n",
    "AS restoregoal_lta_ha,\n",
    "\n",
    "CASE WHEN \n",
    "surpdef_80th_kcal < 0\n",
    "THEN\n",
    "abs(surpdef_80th_kcal/wtMean_kcal_per_ha)\n",
    "ELSE 0\n",
    "END\n",
    "AS restoregoal_80th_ha\n",
    "\n",
    "FROM athuclevel\n",
    "''')"
   ]
  },
  {
   "cell_type": "code",
   "execution_count": null,
   "id": "d486d414",
   "metadata": {},
   "outputs": [],
   "source": [
    "## Need to double check huc12_ha and unavailha\n",
    "con.sql('''CREATE OR REPLACE TABLE athuclevel AS \n",
    "        select huc12, huc12_ha, CODE as code, dud_lta, demand_lta_kcal, popobj_lta, dud_80th, demand_80th_kcal, popobj_80th,\n",
    "        tothabitat_kcal, protected_kcal, protectedhabitat_ha, urbanHa, urbanNrgy, unavailha, surpdef_lta_kcal, surpdef_80th_kcal,\n",
    "        nrgprot_lta_kcal, nrgprot_80th_kcal, wtMean_kcal_per_ha, restoregoal_lta_ha, restoregoal_80th_ha, \n",
    "        CASE WHEN\n",
    "        huc12_ha - unavailha > 0\n",
    "        THEN\n",
    "        huc12_ha - unavailha\n",
    "        ELSE 0\n",
    "        END \n",
    "        AS available_ha,\n",
    "        geometry\n",
    "        FROM athuclevel\n",
    "        ''')"
   ]
  },
  {
   "cell_type": "code",
   "execution_count": null,
   "id": "650228cf",
   "metadata": {},
   "outputs": [],
   "source": [
    "con.sql('''CREATE OR REPLACE TABLE athuclevel AS\n",
    "SELECT * EXCLUDE (restoregoal_lta_ha, restoregoal_80th_ha),\n",
    "CASE WHEN \n",
    "restoregoal_lta_ha > available_ha\n",
    "THEN\n",
    "available_ha\n",
    "ELSE restoregoal_lta_ha\n",
    "END\n",
    "AS restoregoal_lta_ha,\n",
    "\n",
    "CASE WHEN \n",
    "restoregoal_80th_ha > available_ha\n",
    "THEN\n",
    "available_ha\n",
    "ELSE restoregoal_80th_ha\n",
    "END\n",
    "AS restoregoal_80th_ha,\n",
    "\n",
    "FROM athuclevel\n",
    "''')"
   ]
  },
  {
   "cell_type": "code",
   "execution_count": null,
   "id": "e994973a",
   "metadata": {},
   "outputs": [],
   "source": [
    "#field='protectgoal_lta_ha', expression=\"(!nrgprot_lta_kcal!/!wtMean_kcal_per_ha!) if !nrgprot_lta_kcal! > 0 else 0\"\n",
    "#field='protectgoal_80th_ha', expression=\"(!nrgprot_80th_kcal!/!wtMean_kcal_per_ha!) if !nrgprot_80th_kcal! > 0 else 0\"\n",
    "con.sql('''CREATE OR REPLACE TABLE athuclevel AS\n",
    "SELECT *,\n",
    "CASE WHEN \n",
    "nrgprot_lta_kcal > 0 \n",
    "THEN\n",
    "nrgprot_lta_kcal/wtMean_kcal_per_ha\n",
    "ELSE 0\n",
    "END\n",
    "AS protectgoal_lta_ha,\n",
    "\n",
    "CASE WHEN \n",
    "nrgprot_80th_kcal > 0\n",
    "THEN\n",
    "nrgprot_80th_kcal/wtMean_kcal_per_ha\n",
    "ELSE 0\n",
    "END\n",
    "AS protectgoal_80th_ha,\n",
    "FROM athuclevel\n",
    "''')"
   ]
  },
  {
   "cell_type": "code",
   "execution_count": null,
   "id": "792d570e",
   "metadata": {},
   "outputs": [],
   "source": [
    "#field='protectgoal_lta_ha', expression=\"!available_ha! if !protectgoal_lta_ha! > !available_ha! else !protectgoal_lta_ha!\"\n",
    "#field='protectgoal_80th_ha', expression=\"!available_ha! if !protectgoal_80th_ha! > !available_ha! else !protectgoal_80th_ha!\"\n",
    "con.sql('''CREATE OR REPLACE TABLE athuclevel AS\n",
    "SELECT * EXCLUDE (protectgoal_lta_ha, protectgoal_80th_ha),\n",
    "CASE WHEN \n",
    "protectgoal_lta_ha > available_ha\n",
    "THEN\n",
    "available_ha\n",
    "ELSE protectgoal_lta_ha\n",
    "END\n",
    "AS  protectgoal_lta_ha,\n",
    "\n",
    "CASE WHEN \n",
    "protectgoal_80th_ha > available_ha\n",
    "THEN\n",
    "available_ha\n",
    "ELSE protectgoal_80th_ha\n",
    "END\n",
    "AS protectgoal_80th_ha,\n",
    "FROM athuclevel\n",
    "''')"
   ]
  },
  {
   "cell_type": "code",
   "execution_count": null,
   "id": "e7d664be",
   "metadata": {},
   "outputs": [],
   "source": [
    "'''\n",
    "Protected wetlands, urban wetlands, and wetland energy all calculated by huc12.  Need to calculate total urban outside of\n",
    "wetland energy\n",
    "\n",
    "Calculations:\n",
    "    Energy supply\n",
    "        Total habitat energy within huc - THabNrg\n",
    "        Total habitat hectares within huc - THabHA\n",
    "\n",
    "    Energy demand\n",
    "        LTA and X80 DUD by huc - TLTADUD anc X80DUD\n",
    "        LTA and X80 Demand by huc - TLTADemand and X80Demand\n",
    "        LTA and X80 Population objective by huc - LTAPopObj and X80PopObj\n",
    "        \n",
    "    Protected lands\n",
    "        Total protected hectares by huc - ProtHA\n",
    "\n",
    "    Protected habitat hectares and energy\n",
    "        Total protected hectares - ProtHabHA\n",
    "        Total protected energy - ProtHabNrg\n",
    "\n",
    "    Weighted mean and calculations based off of it\n",
    "        Weighted mean kcal/ha with weight being Total habitat energy\n",
    "        Energy Protection needed - NrgProtRq\n",
    "        Restoration HA based off of weighted mean - RstorHA\n",
    "        Protection HA based off weighted mean - RstorProtHA  \n",
    "\n",
    "'''\n",
    "#################################\n",
    "#################################\n",
    "#################################\n"
   ]
  },
  {
   "cell_type": "code",
   "execution_count": null,
   "id": "91fa9de8",
   "metadata": {},
   "outputs": [],
   "source": [
    "con.sql(\"\"\"COPY (SELECT * EXCLUDE geometry, ST_AsWKB(ST_GeomFromWKB(geometry)) as geometry, FROM athuclevel) TO './output/{0}.parquet' (FORMAT PARQUET)\"\"\".format(inaoifile))\n",
    "print('Done in {0:.1f} seconds'.format(time.time() - start_time))"
   ]
  }
 ],
 "metadata": {
  "celltoolbar": "Tags",
  "kernelspec": {
   "display_name": "Python 3 (ipykernel)",
   "language": "python",
   "name": "python3"
  },
  "language_info": {
   "codemirror_mode": {
    "name": "ipython",
    "version": 3
   },
   "file_extension": ".py",
   "mimetype": "text/x-python",
   "name": "python",
   "nbconvert_exporter": "python",
   "pygments_lexer": "ipython3",
   "version": "3.10.13"
  }
 },
 "nbformat": 4,
 "nbformat_minor": 5
}
