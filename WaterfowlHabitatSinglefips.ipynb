{
 "cells": [
  {
   "cell_type": "code",
   "execution_count": 1,
   "id": "70fbf51f",
   "metadata": {},
   "outputs": [],
   "source": [
    "'''\n",
    "Getting the ABDU model to work in notebook\n",
    "\n",
    "EPSG: 5070\n",
    "'''\n",
    "import duckdb #version 0.9.2\n",
    "import geopandas as gpd #version 0.14.1\n",
    "import leafmap, os, time\n",
    "from shapely import wkt\n",
    "import pandas as pd\n",
    "import pyarrow as pa\n",
    "import geoarrow.pyarrow as ga\n",
    "import geoarrow.pandas as _\n",
    "import rasterio\n",
    "from rasterio import mask\n",
    "from shapely.geometry import shape\n",
    "from threading import Thread, current_thread\n",
    "\n",
    "con = duckdb.connect()\n",
    "con.install_extension(\"spatial\")\n",
    "con.load_extension(\"spatial\")\n",
    "con.install_extension(\"azure\")\n",
    "con.load_extension(\"azure\")\n",
    "con.install_extension(\"json\")\n",
    "con.load_extension(\"json\")"
   ]
  },
  {
   "cell_type": "code",
   "execution_count": 2,
   "id": "afce3077",
   "metadata": {
    "tags": [
     "parameters"
    ]
   },
   "outputs": [],
   "source": [
    "inaoifile = '28027'\n",
    "local = True"
   ]
  },
  {
   "cell_type": "code",
   "execution_count": 3,
   "id": "883fd219",
   "metadata": {},
   "outputs": [],
   "source": [
    "if local:\n",
    "    nwiurl = './nwi/**/*.parquet'\n",
    "else:\n",
    "    nwiurl = 'azure://abdu/nwi/**/*.parquet'"
   ]
  },
  {
   "cell_type": "code",
   "execution_count": 4,
   "id": "0690ae04",
   "metadata": {},
   "outputs": [],
   "source": [
    "'''\n",
    "SELECT fips geometry based on inaoifile to use as aoi for calculation.  All hucs should have center in fips.\n",
    "'''\n",
    "con.sql(\"SET azure_storage_connection_string = 'DefaultEndpointsProtocol=https;AccountName=giscog;EndpointSuffix=core.windows.net';\")\n",
    "con.sql(\"\"\"\n",
    "CREATE OR REPLACE TABLE selectedcounty AS\n",
    "SELECT NAME, STATE_NAME, FIPS, geometry FROM read_parquet('azure://abdu/uscounties.parquet')\n",
    "WHERE FIPS = '{0}'\n",
    "\"\"\".format(inaoifile))"
   ]
  },
  {
   "cell_type": "code",
   "execution_count": 5,
   "id": "49ce0b2c",
   "metadata": {},
   "outputs": [
    {
     "data": {
      "text/plain": [
       "┌─────────┬─────────────┬─────────┬────────────────────────────────────────────────────────────────────────────────────┐\n",
       "│  NAME   │ STATE_NAME  │  FIPS   │                                      geometry                                      │\n",
       "│ varchar │   varchar   │ varchar │                                        blob                                        │\n",
       "├─────────┼─────────────┼─────────┼────────────────────────────────────────────────────────────────────────────────────┤\n",
       "│ Coahoma │ Mississippi │ 28027   │ \\x01\\x06\\x00\\x00\\x00\\x01\\x00\\x00\\x00\\x01\\x03\\x00\\x00\\x00\\x01\\x00\\x00\\x00\\x27\\x00…  │\n",
       "└─────────┴─────────────┴─────────┴────────────────────────────────────────────────────────────────────────────────────┘"
      ]
     },
     "execution_count": 5,
     "metadata": {},
     "output_type": "execute_result"
    }
   ],
   "source": [
    "con.sql('select * from selectedcounty')"
   ]
  },
  {
   "cell_type": "code",
   "execution_count": 6,
   "id": "3a8b78c3",
   "metadata": {},
   "outputs": [
    {
     "data": {
      "application/vnd.jupyter.widget-view+json": {
       "model_id": "d231cbc38553448b864be5b7b92e0882",
       "version_major": 2,
       "version_minor": 0
      },
      "text/plain": [
       "FloatProgress(value=0.0, layout=Layout(width='auto'), style=ProgressStyle(bar_color='black'))"
      ]
     },
     "metadata": {},
     "output_type": "display_data"
    }
   ],
   "source": [
    "'''\n",
    "Read in hucs partitioned to huc2/huc4 level that overlap with the aoi.  Don't clip hucs\n",
    "'''\n",
    "con.sql(f\"\"\"\n",
    "CREATE OR REPLACE TABLE huc12 AS\n",
    "SELECT LEFT(huc12,2) AS huc2,LEFT(huc12,4) AS huc4, huc12, areaacres, huc.geometry\n",
    "FROM (SELECT huc12, areaacres, geometry FROM read_parquet('azure://abdu/huc/**/*.parquet')\n",
    "WHERE CAST(LEFT(huc12,2) AS INTEGER)<=12) AS huc\n",
    "JOIN selectedcounty ON \n",
    "ST_Within(ST_Centroid(ST_GeomFromWKB(huc.geometry)), ST_GeomFromWKB(selectedcounty.geometry))\n",
    "\"\"\")"
   ]
  },
  {
   "cell_type": "code",
   "execution_count": 7,
   "id": "32e60c3e",
   "metadata": {},
   "outputs": [
    {
     "data": {
      "text/plain": [
       "'\\nWetland energy calculation\\n'"
      ]
     },
     "execution_count": 7,
     "metadata": {},
     "output_type": "execute_result"
    }
   ],
   "source": [
    "#################################\n",
    "#################################\n",
    "#################################\n",
    "#################################\n",
    "#################################\n",
    "#################################\n",
    "#################################\n",
    "#################################\n",
    "#################################\n",
    "#################################\n",
    "'''\n",
    "Wetland energy calculation\n",
    "'''"
   ]
  },
  {
   "cell_type": "code",
   "execution_count": 8,
   "id": "e9277213",
   "metadata": {},
   "outputs": [
    {
     "name": "stdout",
     "output_type": "stream",
     "text": [
      "['0802', '0803']\n"
     ]
    }
   ],
   "source": [
    "hucs = con.sql(\"select huc4 from huc12 GROUP BY huc4\").df().values.tolist()\n",
    "hucs = sorted([item for items in hucs for item in items])\n",
    "print(hucs)"
   ]
  },
  {
   "cell_type": "code",
   "execution_count": 10,
   "id": "f902dfbc",
   "metadata": {},
   "outputs": [],
   "source": [
    "con.execute(\"\"\"\n",
    "    CREATE OR REPLACE TABLE my_wetlands (\n",
    "        ATTRIBUTE VARCHAR,\n",
    "        huc2 VARCHAR,\n",
    "        huc4 VARCHAR,\n",
    "        huc12 VARCHAR,\n",
    "        geometry VARCHAR,\n",
    "    )\n",
    "\"\"\")\n",
    "def write_from_thread(con):\n",
    "    local_con = con.cursor()\n",
    "    huc = str(current_thread().name)\n",
    "    local_con.sql(\"SET azure_storage_connection_string = 'DefaultEndpointsProtocol=https;AccountName=giscog;EndpointSuffix=core.windows.net';\")\n",
    "    sql = '''INSERT INTO my_wetlands (SELECT ATTRIBUTE,huc2, huc4, huc12, ST_AsWKB(ST_Intersection(ST_GeomFromWKB(wetlnd.geometry), \n",
    "        ST_GeomFromWKB(huc12.geometry))) as geometry\n",
    "        FROM (SELECT ATTRIBUTE, geometry FROM read_parquet('{1}') \n",
    "        WHERE WETLAND_TYPE != 'Riverine' AND huc4 = '{0}') AS wetlnd\n",
    "        JOIN huc12 ON \n",
    "        ST_Intersects(ST_GeomFromWKB(wetlnd.geometry), ST_GeomFromWKB(huc12.geometry)))'''.format(huc, nwiurl)\n",
    "    result = local_con.execute(sql).fetchall()"
   ]
  },
  {
   "cell_type": "code",
   "execution_count": 49,
   "id": "38cb8035",
   "metadata": {},
   "outputs": [
    {
     "name": "stdout",
     "output_type": "stream",
     "text": [
      "['0802', '0803']\n"
     ]
    }
   ],
   "source": [
    "threads = []\n",
    "print(hucs)\n",
    "for i in range(len(hucs)):\n",
    "    huc = hucs[i]\n",
    "    threads.append(Thread(target = write_from_thread,\n",
    "                            args = (con,),\n",
    "                            name = huc))"
   ]
  },
  {
   "cell_type": "code",
   "execution_count": 50,
   "id": "e56b5bec",
   "metadata": {},
   "outputs": [
    {
     "name": "stdout",
     "output_type": "stream",
     "text": [
      "CPU times: total: 10.1 s\n",
      "Wall time: 2.63 s\n"
     ]
    }
   ],
   "source": [
    "%%time\n",
    "# Kick off all threads in parallel\n",
    "for thread in threads:\n",
    "    thread.start()\n",
    "\n",
    "# Ensure all threads complete before printing final results\n",
    "for thread in threads:\n",
    "    thread.join()\n",
    "\n",
    "con.sql(\"\"\"\n",
    "    CREATE OR REPLACE TABLE wetlands AS \n",
    "    SELECT * FROM my_wetlands \n",
    "\"\"\")"
   ]
  },
  {
   "cell_type": "code",
   "execution_count": 52,
   "id": "8fc1ec5f",
   "metadata": {},
   "outputs": [
    {
     "data": {
      "application/vnd.jupyter.widget-view+json": {
       "model_id": "d1bf19fb04d34d4a922b776b5e0f2763",
       "version_major": 2,
       "version_minor": 0
      },
      "text/plain": [
       "FloatProgress(value=0.0, layout=Layout(width='auto'), style=ProgressStyle(bar_color='black'))"
      ]
     },
     "metadata": {},
     "output_type": "display_data"
    },
    {
     "data": {
      "application/vnd.jupyter.widget-view+json": {
       "model_id": "90e45ba762fc4019b19d7c548d50e381",
       "version_major": 2,
       "version_minor": 0
      },
      "text/plain": [
       "FloatProgress(value=0.0, layout=Layout(width='auto'), style=ProgressStyle(bar_color='black'))"
      ]
     },
     "metadata": {},
     "output_type": "display_data"
    }
   ],
   "source": [
    "'''\n",
    "Import wetland crossclass data and assign classes to the nwi table\n",
    "'''\n",
    "con.sql(\"\"\"CREATE OR REPLACE TABLE crossnwi AS (UNPIVOT (FROM (SELECT * FROM read_json_auto('aoiWetland.json', maximum_object_size=100000000))) ON COLUMNS(*))\"\"\")\n",
    "con.sql(\"\"\"CREATE OR REPLACE TABLE crossnwi AS SELECT name, UNNEST(value) AS value FROM crossnwi\"\"\")\n",
    "con.sql(\"\"\"CREATE OR REPLACE TABLE wetlands AS\n",
    "SELECT name, huc12, geometry FROM (SELECT DISTINCT geometry, ATTRIBUTE, huc2, huc4, huc12 FROM wetlands) AS wetselect\n",
    "LEFT JOIN crossnwi ON wetselect.ATTRIBUTE LIKE crossnwi.value\n",
    "\"\"\")\n",
    "con.sql(f\"\"\"CREATE OR REPLACE TABLE wetlands AS\n",
    "(SELECT replace(wetlands.name, '_', '') AS name, huc12, ST_Area(st_geomfromtext(geometry))*0.0001 AS ha, kcal, kcal*ha AS avalNrgy, st_buffer(st_geomfromtext(geometry),0) as geometry FROM wetlands\n",
    "LEFT JOIN read_csv_auto('azure://abdu/kcal.csv') ON replace(wetlands.name, '_', '') = read_csv_auto.habitatType\n",
    "WHERE wetlands.name IS NOT NULL)\n",
    "\"\"\")"
   ]
  },
  {
   "cell_type": "code",
   "execution_count": 29,
   "id": "f6b3eca5",
   "metadata": {},
   "outputs": [],
   "source": [
    "#################################\n",
    "#################################\n",
    "#################################\n",
    "#################################\n",
    "#################################\n",
    "#################################\n",
    "#################################\n",
    "#################################\n",
    "#################################\n",
    "#################################"
   ]
  },
  {
   "cell_type": "code",
   "execution_count": 53,
   "id": "61983cb9",
   "metadata": {},
   "outputs": [
    {
     "data": {
      "application/vnd.jupyter.widget-view+json": {
       "model_id": "5a2ae1812cce407192f7363e8d6b0272",
       "version_major": 2,
       "version_minor": 0
      },
      "text/plain": [
       "FloatProgress(value=0.0, layout=Layout(width='auto'), style=ProgressStyle(bar_color='black'))"
      ]
     },
     "metadata": {},
     "output_type": "display_data"
    }
   ],
   "source": [
    "'''\n",
    "Read in PADUS\n",
    "'''\n",
    "con.sql(\"\"\"\n",
    "CREATE OR REPLACE TABLE protected AS \n",
    "SELECT CATEGORY, huc12, huc2, huc4, ST_Intersection(ST_GeomFromWKB(huc12.geometry), ST_GeomFromWKB(prot.geometry)) as geometry\n",
    "FROM (SELECT CATEGORY, geometry FROM read_parquet('azure://abdu/padus/**/*.parquet')\n",
    "WHERE CATEGORY IN ('Fee', 'Easements', 'Other') AND huc4 IN {0}) AS prot\n",
    "JOIN huc12 ON \n",
    "ST_Intersects(ST_GeomFromWKB(huc12.geometry), ST_GeomFromWKB(prot.geometry))\n",
    "\"\"\".format(tuple(hucs)))"
   ]
  },
  {
   "cell_type": "code",
   "execution_count": 80,
   "id": "00a51875",
   "metadata": {},
   "outputs": [],
   "source": [
    "con.sql(\"\"\"\n",
    "CREATE OR REPLACE TABLE protwetlands AS\n",
    "SELECT name, wetlands.huc12, kcal, ST_Intersection(protected.geometry, wetlands.geometry) as geometry\n",
    "FROM (SELECT ST_Union_Agg(geometry) as geometry from protected) as protected\n",
    "JOIN wetlands ON \n",
    "ST_Intersects(wetlands.geometry, protected.geometry)\n",
    "\"\"\")"
   ]
  },
  {
   "cell_type": "code",
   "execution_count": 81,
   "id": "68528bf5",
   "metadata": {},
   "outputs": [],
   "source": [
    "con.sql(\"\"\"\n",
    "CREATE OR REPLACE TABLE protwetlands AS\n",
    "SELECT DISTINCT geometry, name, huc12, ST_Area(geometry)*0.0001 AS ProtHabHa, kcal, kcal*ProtHabHa AS protNrgy FROM protwetlands\n",
    "\"\"\")"
   ]
  },
  {
   "cell_type": "code",
   "execution_count": 83,
   "id": "6643d598",
   "metadata": {},
   "outputs": [],
   "source": [
    "#################################\n",
    "#################################\n",
    "#################################\n",
    "#################################\n",
    "#################################\n",
    "#################################\n",
    "#################################\n",
    "#################################\n",
    "#################################\n",
    "#################################"
   ]
  },
  {
   "cell_type": "code",
   "execution_count": 84,
   "id": "f0af6999",
   "metadata": {},
   "outputs": [],
   "source": [
    "# Need huc12 geometry\n",
    "df = con.sql('SELECT ST_AsText(ST_geomfromwkb(geometry)) as geometry from huc12').df()\n",
    "df['geometry'] = df['geometry'].apply(wkt.loads)\n",
    "df = gpd.GeoDataFrame(df, geometry='geometry', crs=5070)"
   ]
  },
  {
   "cell_type": "code",
   "execution_count": 85,
   "id": "40468785",
   "metadata": {},
   "outputs": [],
   "source": [
    "'''\n",
    "Read in NLCD clipped to hucs\n",
    "'''\n",
    "with rasterio.open('https://giscog.blob.core.windows.net/newcontainer/nlcd2019_cog.tif') as src:\n",
    "    # Clip the raster to the geometry of the shapefile\n",
    "    clipped_data, transform = mask.mask(src, df.geometry, crop=True)\n",
    "\n",
    "clipped_data[clipped_data>23]=0\n",
    "clipped_data[clipped_data<21]=0\n",
    "clipped_data[clipped_data==21]=1\n",
    "clipped_data[clipped_data==22]=1\n",
    "clipped_data[clipped_data==23]=1\n",
    "shapes = rasterio.features.shapes(clipped_data[0], transform=transform, mask=clipped_data[0] == 1)\n",
    "# Create a GeoDataFrame from the vector polygons\n",
    "gdf_vector = gpd.GeoDataFrame({'geometry': [shape(geom) for geom, value in shapes]})\n",
    "gdf_vector['geometry'] = gdf_vector.to_wkb().geometry\n",
    "con.sql(\"CREATE OR REPLACE TABLE urban AS SELECT * EXCLUDE geometry, ST_GeomFromWKB(geometry) AS geometry FROM gdf_vector\")"
   ]
  },
  {
   "cell_type": "code",
   "execution_count": 89,
   "id": "9525ec62",
   "metadata": {},
   "outputs": [
    {
     "data": {
      "text/plain": [
       "┌──────────────────────────────────────────────────────────────────────────────────────────────────────────────────────┐\n",
       "│                                                       geometry                                                       │\n",
       "│                                                       geometry                                                       │\n",
       "├──────────────────────────────────────────────────────────────────────────────────────────────────────────────────────┤\n",
       "│ POLYGON ((491985 1284705, 491985 1284645, 492015 1284645, 492015 1284705, 491985 1284705))                           │\n",
       "│ POLYGON ((492075 1284705, 492075 1284675, 492135 1284675, 492135 1284705, 492075 1284705))                           │\n",
       "│ POLYGON ((492135 1284675, 492135 1284645, 492165 1284645, 492165 1284675, 492135 1284675))                           │\n",
       "│ POLYGON ((492195 1284675, 492195 1284645, 492225 1284645, 492225 1284615, 492285 1284615, 492285 1284645, 492255 1…  │\n",
       "│ POLYGON ((492525 1284615, 492525 1284585, 492555 1284585, 492555 1284615, 492525 1284615))                           │\n",
       "│ POLYGON ((492585 1284585, 492585 1284555, 492615 1284555, 492615 1284585, 492585 1284585))                           │\n",
       "│ POLYGON ((491955 1284525, 491955 1284435, 491985 1284435, 491985 1284525, 491955 1284525))                           │\n",
       "│ POLYGON ((492915 1284525, 492915 1284495, 492945 1284495, 492945 1284525, 492915 1284525))                           │\n",
       "│ POLYGON ((493275 1284435, 493275 1284405, 493335 1284405, 493335 1284435, 493275 1284435))                           │\n",
       "│ POLYGON ((493395 1284405, 493395 1284375, 493485 1284375, 493485 1284405, 493395 1284405))                           │\n",
       "│                                             ·                                                                        │\n",
       "│                                             ·                                                                        │\n",
       "│                                             ·                                                                        │\n",
       "│ POLYGON ((492765 1226625, 492765 1226475, 492795 1226475, 492795 1226625, 492765 1226625))                           │\n",
       "│ POLYGON ((492795 1226415, 492795 1226265, 492825 1226265, 492825 1226415, 492795 1226415))                           │\n",
       "│ POLYGON ((492825 1226205, 492825 1226085, 492855 1226085, 492855 1226205, 492825 1226205))                           │\n",
       "│ POLYGON ((492855 1225965, 492855 1225905, 493125 1225905, 493125 1225935, 492885 1225935, 492885 1225965, 492855 1…  │\n",
       "│ POLYGON ((491325 1226565, 491445 1226565, 491445 1226535, 491355 1226535, 491355 1226505, 491265 1226505, 491265 1…  │\n",
       "│ POLYGON ((490665 1225845, 490665 1225815, 491025 1225815, 491025 1225845, 490665 1225845))                           │\n",
       "│ POLYGON ((490275 1225815, 490275 1225785, 490635 1225785, 490635 1225815, 490275 1225815))                           │\n",
       "│ POLYGON ((491955 1224705, 491955 1224675, 492195 1224675, 492195 1224705, 491955 1224705))                           │\n",
       "│ POLYGON ((491325 1224675, 491325 1224645, 491895 1224645, 491895 1224675, 491325 1224675))                           │\n",
       "│ POLYGON ((492195 1224435, 492195 1224285, 492225 1224285, 492225 1224435, 492195 1224435))                           │\n",
       "├──────────────────────────────────────────────────────────────────────────────────────────────────────────────────────┤\n",
       "│                                                 4275 rows (20 shown)                                                 │\n",
       "└──────────────────────────────────────────────────────────────────────────────────────────────────────────────────────┘"
      ]
     },
     "execution_count": 89,
     "metadata": {},
     "output_type": "execute_result"
    }
   ],
   "source": [
    "con.sql('select * from urban')\n",
    "#con.sql('select * from huc12')"
   ]
  },
  {
   "cell_type": "code",
   "execution_count": 95,
   "id": "56e27c2d",
   "metadata": {},
   "outputs": [],
   "source": [
    "con.sql(\"\"\"\n",
    "CREATE OR REPLACE TABLE urban AS \n",
    "SELECT huc12, ST_Intersection(ST_GeomFromWKB(huc12.geometry), urban.geometry) as geometry\n",
    "FROM (SELECT geometry FROM urban) as urban\n",
    "JOIN huc12 ON \n",
    "ST_Intersects(ST_GeomFromWKB(huc12.geometry), urban.geometry)\n",
    "\"\"\")"
   ]
  },
  {
   "cell_type": "code",
   "execution_count": 96,
   "id": "99a8c0a8",
   "metadata": {},
   "outputs": [],
   "source": [
    "con.sql(\"\"\"\n",
    "CREATE OR REPLACE TABLE urbanwetlands AS\n",
    "SELECT name, wetlands.huc12, kcal, ST_Intersection((urban.geometry), wetlands.geometry) as geometry\n",
    "FROM (SELECT geometry from urban) as urban\n",
    "JOIN wetlands ON \n",
    "ST_Intersects(wetlands.geometry, (urban.geometry))\n",
    "\"\"\")\n"
   ]
  },
  {
   "cell_type": "code",
   "execution_count": 99,
   "id": "2deb2546",
   "metadata": {},
   "outputs": [],
   "source": [
    "con.sql(\"\"\"\n",
    "CREATE OR REPLACE TABLE urbanwetlands AS\n",
    "SELECT DISTINCT geometry, name, huc12, ST_Area(geometry)*0.0001 AS ha, kcal, kcal*ha AS urbanNrgy FROM urbanwetlands\n",
    "\"\"\")"
   ]
  },
  {
   "cell_type": "code",
   "execution_count": 102,
   "id": "5540cd74",
   "metadata": {},
   "outputs": [],
   "source": [
    "con.sql(\"\"\"\n",
    "CREATE OR REPLACE TABLE urban AS\n",
    "SELECT huc12, ST_Area(geometry)*0.0001 AS urbanHa, geometry FROM urban\n",
    "\"\"\")"
   ]
  },
  {
   "cell_type": "code",
   "execution_count": 210,
   "id": "52b93360",
   "metadata": {},
   "outputs": [
    {
     "data": {
      "text/plain": [
       "┌──────────────┬───────────────────┐\n",
       "│    huc12     │   sum(urbanHa)    │\n",
       "│   varchar    │      double       │\n",
       "├──────────────┼───────────────────┤\n",
       "│ 080302020501 │ 438.7220613664415 │\n",
       "└──────────────┴───────────────────┘"
      ]
     },
     "execution_count": 210,
     "metadata": {},
     "output_type": "execute_result"
    }
   ],
   "source": [
    "con.sql('select huc12, sum(urbanHa) from urban where huc12 = 080302020501 group by huc12')"
   ]
  },
  {
   "cell_type": "code",
   "execution_count": 103,
   "id": "32db5e52",
   "metadata": {},
   "outputs": [],
   "source": [
    "con.sql(\"\"\"\n",
    "CREATE OR REPLACE TABLE unavailable AS\n",
    "SELECT huc12, ST_Area(geometry)*0.0001 AS unavailHa, ST_Union_Agg(geometry) as geometry FROM\n",
    "(\n",
    "SELECT huc12, geometry FROM urban\n",
    "UNION ALL\n",
    "SELECT huc12, geometry from protected\n",
    ")\n",
    "group by huc12, geometry\n",
    "\"\"\")"
   ]
  },
  {
   "cell_type": "code",
   "execution_count": 107,
   "id": "46fcc924",
   "metadata": {},
   "outputs": [
    {
     "data": {
      "text/plain": [
       "'\\n#################################\\nEnd of data import\\nStarting model process\\n#################################\\n'"
      ]
     },
     "execution_count": 107,
     "metadata": {},
     "output_type": "execute_result"
    }
   ],
   "source": [
    "#################################\n",
    "#################################\n",
    "#################################\n",
    "#################################\n",
    "#################################\n",
    "#################################\n",
    "#################################\n",
    "#################################\n",
    "#################################\n",
    "#################################\n",
    "'''\n",
    "#################################\n",
    "End of data import\n",
    "Starting model process\n",
    "#################################\n",
    "'''\n",
    "#### Prepping energy - Join energy to nwi.  Need to create the spatial kcal table first. What's the best way to do this?\n",
    "# parquet is the best to read in but it's not easily editable.  Rest service would be ok but again, not great because\n",
    "# reading those is difficult.  I wonder if"
   ]
  },
  {
   "cell_type": "code",
   "execution_count": 108,
   "id": "96a32432",
   "metadata": {},
   "outputs": [
    {
     "data": {
      "text/plain": [
       "'\\nDemand\\n\\n######\\nNeed to proportion demand based on available energy.  Available energy is spatially explicit but demand is at the fips\\ncount level.  We need to calculate total energy and demand at the huc12 scale.\\nTo proportion demand we need to calclulate total energy by fips then calculate how much energy is in each huc12. A proportion\\ncan then be calculated by dividing total energy within a fips by (huc12,fips) group.  Demand at the huc12 level is multiplied\\nby that energy proportion.\\n######\\n'"
      ]
     },
     "execution_count": 108,
     "metadata": {},
     "output_type": "execute_result"
    }
   ],
   "source": [
    "'''\n",
    "Demand\n",
    "\n",
    "######\n",
    "Need to proportion demand based on available energy.  Available energy is spatially explicit but demand is at the fips\n",
    "count level.  We need to calculate total energy and demand at the huc12 scale.\n",
    "To proportion demand we need to calclulate total energy by fips then calculate how much energy is in each huc12. A proportion\n",
    "can then be calculated by dividing total energy within a fips by (huc12,fips) group.  Demand at the huc12 level is multiplied\n",
    "by that energy proportion.\n",
    "######\n",
    "'''"
   ]
  },
  {
   "cell_type": "code",
   "execution_count": 140,
   "id": "9bc6f466",
   "metadata": {},
   "outputs": [],
   "source": [
    "'''\n",
    "Read in demand clipped by hucs\n",
    "'''\n",
    "con.sql(f\"\"\"\n",
    "CREATE OR REPLACE TABLE demandfull AS SELECT * EXCLUDE geometry, ST_GeomFromWKB(read_parquet.geometry) as geometry\n",
    "FROM read_parquet('azure://abdu/Demand9Species.parquet')\n",
    "JOIN huc12 ON \n",
    "ST_Intersects(ST_GeomFromWKB(read_parquet.geometry), ST_GeomFromWKB(huc12.geometry))\n",
    "\"\"\")\n",
    "con.sql(f\"\"\"\n",
    "CREATE OR REPLACE TABLE demand AS SELECT * EXCLUDE geometry, ST_Intersection(ST_GeomFromWKB(huc12.geometry), ST_GeomFromWKB(read_parquet.geometry)) as geometry\n",
    "FROM read_parquet('azure://abdu/Demand9Species.parquet')\n",
    "JOIN huc12 ON \n",
    "ST_Intersects(ST_GeomFromWKB(huc12.geometry), ST_GeomFromWKB(read_parquet.geometry))\n",
    "\"\"\")\n",
    "con.sql(\"\"\"CREATE OR REPLACE TABLE demand AS SELECT fips, huc12, CODE, LTADUD, LTADemand, LTAPopObj, x80DUD, X80Demand, X80PopObj, ST_Area(geometry)*0.0001 AS ha, geometry FROM (\n",
    "SELECT * FROM demand\n",
    "WHERE species='All')\n",
    "\"\"\")"
   ]
  },
  {
   "cell_type": "code",
   "execution_count": 144,
   "id": "ffcfb106",
   "metadata": {},
   "outputs": [
    {
     "data": {
      "text/plain": [
       "['05041', '05107', '28011', '28027', '28119', '28133']"
      ]
     },
     "execution_count": 144,
     "metadata": {},
     "output_type": "execute_result"
    }
   ],
   "source": [
    "con.sql(\"\"\"\n",
    "CREATE OR REPLACE TABLE demandfull AS SELECT DISTINCT fips, ST_Union_Agg(geometry) as geometry from demandfull\n",
    "group by fips\n",
    "\"\"\")\n",
    "fullfips = con.sql(\"\"\"SELECT fips from demandfull\"\"\").df().values.tolist()\n",
    "listfips = sorted([item for items in fullfips for item in items])\n",
    "listfips"
   ]
  },
  {
   "cell_type": "code",
   "execution_count": 145,
   "id": "4f7a7793",
   "metadata": {},
   "outputs": [],
   "source": [
    "con.execute(\"\"\"\n",
    "    CREATE OR REPLACE TABLE my_inserts (\n",
    "        ATTRIBUTE VARCHAR,\n",
    "        fips VARCHAR,\n",
    "        geometry VARCHAR\n",
    "    )\"\"\")\n",
    "def write_from_thread(con):\n",
    "    local_con = con.cursor()\n",
    "    fip = str(current_thread().name)\n",
    "    local_con.sql(\"SET azure_storage_connection_string = 'DefaultEndpointsProtocol=https;AccountName=giscog;EndpointSuffix=core.windows.net';\")\n",
    "    result = local_con.execute(\"\"\"\n",
    "    INSERT INTO my_inserts\n",
    "    (\n",
    "    SELECT ATTRIBUTE,fips, ST_Intersection(ST_GeomFromWKB(wetlnd.geometry), dmd.geometry) as geometry\n",
    "    FROM (SELECT ATTRIBUTE, geometry FROM read_parquet('{1}')\n",
    "    WHERE huc4 IN {2} AND WETLAND_TYPE != 'Riverine') AS wetlnd\n",
    "    JOIN (SELECT fips, geometry FROM demandfull WHERE fips='{0}') as dmd ON \n",
    "    ST_Intersects(ST_GeomFromWKB(wetlnd.geometry), dmd.geometry)\n",
    "    )\n",
    "    \"\"\".format(fip, nwiurl, tuple(hucs))).fetchall()"
   ]
  },
  {
   "cell_type": "code",
   "execution_count": 147,
   "id": "263e78d0",
   "metadata": {},
   "outputs": [],
   "source": [
    "threads = []\n",
    "for i in range(len(listfips)):\n",
    "    fip = listfips[i]\n",
    "    threads.append(Thread(target = write_from_thread,\n",
    "                            args = (con,),\n",
    "                            name = fip))"
   ]
  },
  {
   "cell_type": "code",
   "execution_count": 148,
   "id": "846b7a4a",
   "metadata": {},
   "outputs": [],
   "source": [
    "%%time\n",
    "# Kick off all threads in parallel\n",
    "for thread in threads:\n",
    "    thread.start()\n",
    "\n",
    "# Ensure all threads complete before printing final results\n",
    "for thread in threads:\n",
    "    thread.join()"
   ]
  },
  {
   "cell_type": "code",
   "execution_count": 167,
   "id": "27cf76c9",
   "metadata": {},
   "outputs": [
    {
     "data": {
      "application/vnd.jupyter.widget-view+json": {
       "model_id": "18dbc844b94b4a77a71cc70411ea1f7a",
       "version_major": 2,
       "version_minor": 0
      },
      "text/plain": [
       "FloatProgress(value=0.0, layout=Layout(width='auto'), style=ProgressStyle(bar_color='black'))"
      ]
     },
     "metadata": {},
     "output_type": "display_data"
    },
    {
     "data": {
      "application/vnd.jupyter.widget-view+json": {
       "model_id": "9274d7289e2e4213be1c742e05e47f59",
       "version_major": 2,
       "version_minor": 0
      },
      "text/plain": [
       "FloatProgress(value=0.0, layout=Layout(width='auto'), style=ProgressStyle(bar_color='black'))"
      ]
     },
     "metadata": {},
     "output_type": "display_data"
    },
    {
     "name": "stdout",
     "output_type": "stream",
     "text": [
      "CPU times: total: 44min 6s\n",
      "Wall time: 17min 50s\n"
     ]
    }
   ],
   "source": [
    "%%time\n",
    "#con.sql(\"\"\"CREATE OR REPLACE TABLE crossnwi AS (UNPIVOT (FROM (SELECT * FROM read_json_auto('aoiWetland.json', maximum_object_size=100000000))) ON COLUMNS(*))\"\"\")\n",
    "#con.sql(\"\"\"CREATE OR REPLACE TABLE crossnwi AS SELECT name, UNNEST(value) AS value FROM crossnwi\"\"\")\n",
    "con.sql(\"\"\"CREATE OR REPLACE TEMP TABLE tmpwet AS\n",
    "SELECT DISTINCT geometry, name, fips FROM (SELECT DISTINCT geometry, ATTRIBUTE, fips FROM my_inserts) AS wetselect\n",
    "LEFT JOIN crossnwi ON wetselect.ATTRIBUTE LIKE crossnwi.value\n",
    "\"\"\")\n",
    "con.sql(f\"\"\"CREATE OR REPLACE TEMP TABLE tmpwet AS\n",
    "(SELECT replace(tmpwet.name, '_', '') AS name, fips, geometry, kcal FROM tmpwet\n",
    "LEFT JOIN read_csv_auto('azure://abdu/kcal.csv') ON replace(tmpwet.name, '_', '') = read_csv_auto.habitatType\n",
    "WHERE tmpwet.name IS NOT NULL)\n",
    "\"\"\")\n",
    "con.sql(\"\"\"CREATE OR REPLACE TEMP TABLE newdata AS (\n",
    "SELECT name, fips, kcal, ST_Area(geometry)*0.0001 AS ha, ha*kcal AS avalNrgy FROM(\n",
    "SELECT name, fips, kcal, ST_Union_Agg(ST_GeomFromText(geometry)) AS geometry FROM tmpwet\n",
    "GROUP BY name, fips, kcal))\n",
    "\"\"\")"
   ]
  },
  {
   "cell_type": "code",
   "execution_count": 169,
   "id": "5d561014",
   "metadata": {},
   "outputs": [
    {
     "name": "stdout",
     "output_type": "stream",
     "text": [
      "┌─────────────┐\n",
      "│ count(fips) │\n",
      "│    int64    │\n",
      "├─────────────┤\n",
      "│       12772 │\n",
      "└─────────────┘\n",
      "\n",
      "┌──────────────────────────┐\n",
      "│ count(DISTINCT geometry) │\n",
      "│          int64           │\n",
      "├──────────────────────────┤\n",
      "│                    12772 │\n",
      "└──────────────────────────┘\n",
      "\n"
     ]
    }
   ],
   "source": [
    "print(con.sql('select count (fips) from tmpwet'))\n",
    "print(con.sql('select count (distinct geometry) from tmpwet'))"
   ]
  },
  {
   "cell_type": "code",
   "execution_count": 170,
   "id": "1e6315e8",
   "metadata": {},
   "outputs": [
    {
     "data": {
      "text/plain": [
       "┌──────────────────────────────┬─────────┬─────────┬─────────────────────┬────────────────────┐\n",
       "│             name             │  fips   │  kcal   │         ha          │      avalNrgy      │\n",
       "│           varchar            │ varchar │  int64  │       double        │       double       │\n",
       "├──────────────────────────────┼─────────┼─────────┼─────────────────────┼────────────────────┤\n",
       "│ DeepwaterFresh               │ 05041   │   61629 │  2679.6697475655674 │ 165145366.87271836 │\n",
       "│ FreshMarsh                   │ 05041   │  347006 │  1027.3595218947305 │ 356499918.25460285 │\n",
       "│ FreshShallowOpenWater        │ 05041   │   61629 │   616.4973814247918 │  37994117.11982849 │\n",
       "│ FreshShores                  │ 05041   │   61629 │  10.443964706428448 │  643651.1008924788 │\n",
       "│ FreshwaterAquaticBed         │ 05041   │  143562 │  145.58518024532407 │ 20900499.646379214 │\n",
       "│ FreshwaterWoody              │ 05041   │  238961 │   53593.16547641877 │ 12806676415.410505 │\n",
       "│ ManagedFreshMarsh            │ 05041   │ 1447250 │   4.104247751652201 │  5939872.558578648 │\n",
       "│ ManagedFreshShallowOpenWater │ 05041   │  210679 │  15.503004128792227 │  3266157.406849818 │\n",
       "│ DeepwaterFresh               │ 05107   │   61629 │  1624.8161094493835 │ 100135792.00925605 │\n",
       "│ FreshMarsh                   │ 05107   │  347006 │  1697.7547842078511 │  589131096.6488296 │\n",
       "│     ·                        │   ·     │     ·   │           ·         │          ·         │\n",
       "│     ·                        │   ·     │     ·   │           ·         │          ·         │\n",
       "│     ·                        │   ·     │     ·   │           ·         │          ·         │\n",
       "│ ManagedFreshShallowOpenWater │ 28119   │  210679 │  18.418549957602316 │  3880401.686517698 │\n",
       "│ Phragmites                   │ 28119   │       0 │   91.32146970466611 │                0.0 │\n",
       "│ DeepwaterFresh               │ 28133   │   61629 │  479.87498955098755 │  29574215.73103781 │\n",
       "│ FreshMarsh                   │ 28133   │  347006 │  1967.5738682613094 │  682759937.7298839 │\n",
       "│ FreshShallowOpenWater        │ 28133   │   61629 │  1491.2619387710438 │  91904982.02452065 │\n",
       "│ FreshShores                  │ 28133   │   61629 │ 0.13881912006104385 │  8555.283550242071 │\n",
       "│ FreshwaterAquaticBed         │ 28133   │  143562 │  116.33165094260528 │   16700804.4726223 │\n",
       "│ FreshwaterWoody              │ 28133   │  238961 │  12150.013772859536 │ 2903379441.1762877 │\n",
       "│ ManagedFreshMarsh            │ 28133   │ 1447250 │  18.502792624746807 │ 26778166.626164816 │\n",
       "│ ManagedFreshShallowOpenWater │ 28133   │  210679 │   19.33562562294113 │ 4073610.2706156145 │\n",
       "├──────────────────────────────┴─────────┴─────────┴─────────────────────┴────────────────────┤\n",
       "│ 48 rows (20 shown)                                                                5 columns │\n",
       "└─────────────────────────────────────────────────────────────────────────────────────────────┘"
      ]
     },
     "execution_count": 170,
     "metadata": {},
     "output_type": "execute_result"
    }
   ],
   "source": [
    "con.sql('select * from newdata order by fips, name')"
   ]
  },
  {
   "cell_type": "code",
   "execution_count": 171,
   "id": "cd2ae29d",
   "metadata": {},
   "outputs": [],
   "source": [
    "con.sql(\"\"\"CREATE OR REPLACE TABLE fipsavalNRG AS SELECT fips, sum(avalNrgy) as fipsnrgysum from newdata group by fips\"\"\")\n",
    "#con.sql(\"\"\"select * from fipsavalNRG\"\"\")"
   ]
  },
  {
   "cell_type": "code",
   "execution_count": 172,
   "id": "42ae2547",
   "metadata": {},
   "outputs": [],
   "source": [
    "'''\n",
    "######\n",
    "Read in kcal.csv from azure and join to wetlands.\n",
    "This file is the habitat type (habitatType) and the kcal/Ha (kcal)\n",
    "######\n",
    "'''\n",
    "#\n",
    "con.sql(f\"\"\"CREATE OR REPLACE TABLE demandwetlands AS\n",
    "(SELECT replace(wetlands.name, '_', '') AS name, huc12, geometry, read_csv_auto.kcal FROM wetlands\n",
    "LEFT JOIN read_csv_auto('azure://abdu/kcal.csv') ON replace(wetlands.name, '_', '') = read_csv_auto.habitatType\n",
    "WHERE wetlands.name IS NOT NULL)\n",
    "\"\"\")"
   ]
  },
  {
   "cell_type": "code",
   "execution_count": 177,
   "id": "e1814b5a",
   "metadata": {},
   "outputs": [
    {
     "data": {
      "text/plain": [
       "┌─────────────────┬──────────────┬────────────────────────────────────────────────────────────────────────────┬────────┐\n",
       "│      name       │    huc12     │                                  geometry                                  │  kcal  │\n",
       "│     varchar     │   varchar    │                                  geometry                                  │ int64  │\n",
       "├─────────────────┼──────────────┼────────────────────────────────────────────────────────────────────────────┼────────┤\n",
       "│ FreshMarsh      │ 080201000200 │ POLYGON ((493679.19689999893 1273854.1123000002, 493662.3905999996 12738…  │ 347006 │\n",
       "│ FreshMarsh      │ 080201000200 │ POLYGON ((482873.8872999996 1271788.0791999996, 482887.6768999994 127177…  │ 347006 │\n",
       "│ FreshMarsh      │ 080201000200 │ POLYGON ((480508.1746999994 1265066.8224999998, 480498.20910000056 12650…  │ 347006 │\n",
       "│ FreshMarsh      │ 080201000200 │ POLYGON ((470904.3658000007 1242377.2693999996, 470908.72940000147 12423…  │ 347006 │\n",
       "│ FreshMarsh      │ 080201000200 │ POLYGON ((465364.16310000047 1241357.2522999998, 465357.67909999937 1241…  │ 347006 │\n",
       "│ FreshMarsh      │ 080302070201 │ POLYGON ((476723.750500001 1243211.2356000002, 476723.24529999867 124321…  │ 347006 │\n",
       "│ FreshMarsh      │ 080302070201 │ POLYGON ((485147.3361000009 1243049.8793000001, 485145.74859999865 12430…  │ 347006 │\n",
       "│ FreshMarsh      │ 080302070201 │ POLYGON ((483024.14550000057 1242763.6595, 483019.5152999982 1242765.643…  │ 347006 │\n",
       "│ FreshMarsh      │ 080302070201 │ POLYGON ((476437.68510000035 1242700.7074999996, 476432.9226000011 12426…  │ 347006 │\n",
       "│ FreshMarsh      │ 080302070303 │ POLYGON ((496846.7265999988 1242658.7636000002, 496836.6673000008 124265…  │ 347006 │\n",
       "│     ·           │      ·       │                                     ·                                      │    ·   │\n",
       "│     ·           │      ·       │                                     ·                                      │    ·   │\n",
       "│     ·           │      ·       │                                     ·                                      │    ·   │\n",
       "│ FreshwaterWoody │ 080201000200 │ POLYGON ((471468.1055999994 1256945.4962999998, 471463.6457999982 125694…  │ 238961 │\n",
       "│ FreshwaterWoody │ 080201000200 │ MULTIPOLYGON (((468787.1561000012 1255498.5827000001, 468745.6064000018 …  │ 238961 │\n",
       "│ FreshwaterWoody │ 080201000200 │ POLYGON ((466131.1270000003 1255402.2219000002, 466152.28020000085 12554…  │ 238961 │\n",
       "│ FreshwaterWoody │ 080201000200 │ POLYGON ((479154.7820000015 1251137.6314000003, 479133.6823000014 125113…  │ 238961 │\n",
       "│ FreshwaterWoody │ 080302070201 │ POLYGON ((484010.31329999864 1240092.4833000004, 484005.02160000056 1240…  │ 238961 │\n",
       "│ FreshwaterWoody │ 080201000200 │ POLYGON ((469709.57770000026 1234683.8362999996, 469703.8205000013 12346…  │ 238961 │\n",
       "│ FreshwaterWoody │ 080201000200 │ POLYGON ((476979.8947999999 1266352.8871999998, 476969.04580000043 12663…  │ 238961 │\n",
       "│ FreshwaterWoody │ 080201000200 │ POLYGON ((474005.72309999913 1260952.8729999997, 473988.9109000005 12609…  │ 238961 │\n",
       "│ FreshwaterWoody │ 080201000200 │ POLYGON ((473713.88170000166 1255509.5192, 473708.8872000016 1255510.648…  │ 238961 │\n",
       "│ FreshwaterWoody │ 080201000200 │ POLYGON ((473425.5091999993 1254382.1279999996, 473421.85020000115 12543…  │ 238961 │\n",
       "├─────────────────┴──────────────┴────────────────────────────────────────────────────────────────────────────┴────────┤\n",
       "│ 1534 rows (20 shown)                                                                                       4 columns │\n",
       "└──────────────────────────────────────────────────────────────────────────────────────────────────────────────────────┘"
      ]
     },
     "execution_count": 177,
     "metadata": {},
     "output_type": "execute_result"
    }
   ],
   "source": [
    "con.sql('select * from demandwetlands')"
   ]
  },
  {
   "cell_type": "code",
   "execution_count": 178,
   "id": "ee004680",
   "metadata": {},
   "outputs": [],
   "source": [
    "con.sql(\"\"\"CREATE OR REPLACE TABLE hucdemandenergy AS \n",
    "    (SELECT name,fips, demandwetlands.huc12, CODE, LTADUD, LTADemand, LTAPopObj, x80DUD, X80Demand, X80PopObj, kcal, \n",
    "    ST_Intersection(demandwetlands.geometry, (demand.geometry)) as geometry FROM demandwetlands\n",
    "    JOIN demand ON ST_Intersects(demandwetlands.geometry, (demand.geometry)))\"\"\")"
   ]
  },
  {
   "cell_type": "code",
   "execution_count": 179,
   "id": "70336ac4",
   "metadata": {},
   "outputs": [],
   "source": [
    "'''\n",
    "######\n",
    "Calculate available energy (avalNrgy) of wetlands by calculating area in Hectares (HA) and multiplying by kcal.\n",
    "Select only distinct rows.\n",
    "Create new table habitatenergy\n",
    "######\n",
    "'''\n",
    "#\n",
    "con.sql(\"\"\"CREATE OR REPLACE TABLE hucdemandenergy AS (SELECT DISTINCT name, fips, huc12, CODE, LTADUD, LTADemand, LTAPopObj, x80DUD, X80Demand, X80PopObj, kcal, geometry, ST_Area(geometry)*0.0001 AS ha,ha*kcal AS avalNrgy FROM hucdemandenergy)\"\"\")\n",
    "# DATA CHECK\n",
    "#con.sql(\"\"\"COPY (SELECT DISTINCT name, ST_AsWKB(ST_GeomFromText(geometry)) as geometry, ST_Area(ST_GeomFromText(geometry))*0.0001 AS ha, ha*kcal AS avalNrgy FROM wetlands) TO 'testwetland.parquet' (FORMAT PARQUET)\"\"\")"
   ]
  },
  {
   "cell_type": "code",
   "execution_count": 180,
   "id": "11ab9a85",
   "metadata": {},
   "outputs": [],
   "source": [
    "con.sql(\"\"\"CREATE OR REPLACE TABLE test AS (select name, hucdemandenergy.fips as fips,huc12, CODE, LTADUD, LTADemand, LTAPopObj, x80DUD, X80Demand, X80PopObj, kcal, avalNrgy, fipsnrgysum, (hucdemandenergy.avalNrgy/fipsavalNRG.fipsnrgysum) as pct, geometry from hucdemandenergy\n",
    "    JOIN fipsavalNRG on hucdemandenergy.fips = fipsavalNRG.fips\n",
    "    GROUP BY name, hucdemandenergy.fips, huc12, CODE, LTADUD, LTADemand, LTAPopObj, x80DUD, X80Demand, X80PopObj, kcal, avalNrgy, fipsnrgysum, geometry)\"\"\")"
   ]
  },
  {
   "cell_type": "code",
   "execution_count": 181,
   "id": "b3c8a06f",
   "metadata": {},
   "outputs": [],
   "source": [
    "fullfips = sorted([item for items in fullfips for item in items])\n",
    "sqlcall =\"\"\"CREATE OR REPLACE TABLE rdydemand as SELECT * FROM test WHERE fips In {0}\"\"\".format(tuple(fullfips))\n",
    "con.sql(sqlcall)"
   ]
  },
  {
   "cell_type": "code",
   "execution_count": 182,
   "id": "e116794a",
   "metadata": {},
   "outputs": [],
   "source": [
    "#con.sql(\"\"\"describe rdydemand\"\"\")\n",
    "con.sql(\"\"\"CREATE OR REPLACE TABLE hucdemand AS (SELECT huc12, code, \n",
    "sum(pct * LTADUD) AS LTADUD,\n",
    "sum(pct * LTADemand) AS LTADemand,\n",
    "sum(pct * LTAPopObj) AS LTAPopObj,\n",
    "sum(pct * x80DUD) AS x80DUD,\n",
    "sum(pct * X80Demand) AS X80Demand,\n",
    "sum(pct * X80PopObj) AS X80PopObj,\n",
    "FROM rdydemand\n",
    "GROUP BY huc12, code)\"\"\")"
   ]
  },
  {
   "cell_type": "code",
   "execution_count": 183,
   "id": "0a4df329",
   "metadata": {},
   "outputs": [
    {
     "data": {
      "text/plain": [
       "'\\nEND Demand\\n'"
      ]
     },
     "execution_count": 183,
     "metadata": {},
     "output_type": "execute_result"
    }
   ],
   "source": [
    "'''\n",
    "END Demand\n",
    "'''\n",
    "#################################\n",
    "#################################\n",
    "#################################\n",
    "#################################\n",
    "#################################\n",
    "#################################\n",
    "#################################\n",
    "#################################\n",
    "#################################\n",
    "#################################"
   ]
  },
  {
   "cell_type": "code",
   "execution_count": 235,
   "id": "8728847e",
   "metadata": {},
   "outputs": [
    {
     "name": "stdout",
     "output_type": "stream",
     "text": [
      "┌──────────────┬───────────────────┐\n",
      "│    huc12     │   sum(urbanHa)    │\n",
      "│   varchar    │      double       │\n",
      "├──────────────┼───────────────────┤\n",
      "│ 080302020501 │ 438.7220613664415 │\n",
      "└──────────────┴───────────────────┘\n",
      "\n",
      "┌──────────────┬─────────┬───────────────────┐\n",
      "│    huc12     │  CODE   │    sum(LTADUD)    │\n",
      "│   varchar    │ varchar │      double       │\n",
      "├──────────────┼─────────┼───────────────────┤\n",
      "│ 080302020501 │ 4B      │ 444.9738085676442 │\n",
      "│ 080302020501 │ 4D      │ 508903.6047255656 │\n",
      "└──────────────┴─────────┴───────────────────┘\n",
      "\n"
     ]
    }
   ],
   "source": [
    "print(con.sql('select huc12, sum(urbanHa) from urban where huc12 = 080302020501 group by huc12'))\n",
    "print(con.sql('select huc12, CODE, sum(LTADUD) from hucdemand where huc12 = 080302020501 group by huc12, CODE'))"
   ]
  },
  {
   "cell_type": "code",
   "execution_count": 279,
   "id": "ce059546",
   "metadata": {},
   "outputs": [],
   "source": [
    "con.sql(\"\"\"CREATE OR REPLACE TABLE athuclevel AS\n",
    "SELECT huc12.huc12, CODE, LTADUD, LTADemand, LTAPopObj, X80DUD, X80Demand, X80PopObj,\n",
    "huc12.geometry\n",
    "FROM huc12\n",
    "LEFT JOIN hucdemand on hucdemand.huc12 = huc12.huc12\n",
    "ORDER by huc12.huc12, CODE\n",
    "\"\"\")"
   ]
  },
  {
   "cell_type": "code",
   "execution_count": 280,
   "id": "05a8c6a2",
   "metadata": {},
   "outputs": [],
   "source": [
    "# Just added urbanNrgy line.  Going a very long time.  Might be a problem.\n",
    "# Testing unavailHa.still running.  TAking a long time.  Check this line too.\n",
    "\n",
    "# Specified selection in a cell or two below.  Many don't need geometry at this later point.  Joining is by huc12 so selecting\n",
    "# only the required columns makes the join go much faster.\n",
    "con.sql(\"\"\"CREATE OR REPLACE TABLE athuclevel AS\n",
    "SELECT athuclevel.huc12, CODE, LTADUD, LTADemand, LTAPopObj, X80DUD, X80Demand, X80PopObj, \n",
    "sum(avalNrgy) as tothabitat_kcal, \n",
    "athuclevel.geometry\n",
    "FROM athuclevel\n",
    "LEFT JOIN wetlands on wetlands.huc12 = athuclevel.huc12\n",
    "GROUP BY athuclevel.huc12, CODE,LTADUD, LTADemand, LTAPopObj, X80DUD, X80Demand, X80PopObj, athuclevel.geometry\n",
    "ORDER by athuclevel.huc12\n",
    "\"\"\")"
   ]
  },
  {
   "cell_type": "code",
   "execution_count": 281,
   "id": "c8b47286",
   "metadata": {},
   "outputs": [],
   "source": [
    "con.sql(\"\"\"CREATE OR REPLACE TABLE athuclevel AS\n",
    "SELECT athuclevel.huc12, CODE, LTADUD, LTADemand, LTAPopObj, X80DUD, X80Demand, X80PopObj, tothabitat_kcal, \n",
    "sum(urbanHa) as urbanHa,\n",
    "athuclevel.geometry\n",
    "FROM athuclevel\n",
    "LEFT JOIN urban on urban.huc12 = athuclevel.huc12\n",
    "GROUP BY athuclevel.huc12, CODE,LTADUD, LTADemand, LTAPopObj, X80DUD, X80Demand, X80PopObj, tothabitat_kcal, athuclevel.geometry\n",
    "ORDER by athuclevel.huc12, CODE\n",
    "\"\"\")"
   ]
  },
  {
   "cell_type": "code",
   "execution_count": 282,
   "id": "f5fa7416",
   "metadata": {},
   "outputs": [],
   "source": [
    "con.sql(\"\"\"CREATE OR REPLACE TABLE athuclevel AS\n",
    "SELECT athuclevel.huc12, CODE, LTADUD, LTADemand, LTAPopObj, X80DUD, X80Demand, X80PopObj, tothabitat_kcal, urbanHa,\n",
    "sum(protNrgy) as protected_kcal,\n",
    "athuclevel.geometry\n",
    "FROM athuclevel\n",
    "LEFT JOIN protwetlands on protwetlands.huc12 = athuclevel.huc12\n",
    "GROUP BY athuclevel.huc12, CODE,LTADUD, LTADemand, LTAPopObj, X80DUD, X80Demand, X80PopObj, tothabitat_kcal, urbanHa, athuclevel.geometry\n",
    "ORDER by athuclevel.huc12, CODE\n",
    "\"\"\")"
   ]
  },
  {
   "cell_type": "code",
   "execution_count": 283,
   "id": "e31850d1",
   "metadata": {},
   "outputs": [],
   "source": [
    "con.sql(\"\"\"CREATE OR REPLACE TABLE athuclevel AS\n",
    "SELECT athuclevel.huc12, CODE, LTADUD, LTADemand, LTAPopObj, X80DUD, X80Demand, X80PopObj, tothabitat_kcal, urbanHa, protected_kcal,\n",
    "sum(ProtHabHa) as protectedhabitat_ha,\n",
    "sum(protNrgy) as protected_kcal,\n",
    "athuclevel.geometry\n",
    "FROM athuclevel\n",
    "LEFT JOIN protwetlands on protwetlands.huc12 = athuclevel.huc12\n",
    "GROUP BY athuclevel.huc12, CODE,LTADUD, LTADemand, LTAPopObj, X80DUD, X80Demand, X80PopObj, tothabitat_kcal, urbanHa, protected_kcal,athuclevel.geometry\n",
    "ORDER by athuclevel.huc12, CODE\n",
    "\"\"\")"
   ]
  },
  {
   "cell_type": "code",
   "execution_count": 284,
   "id": "1f4140c6",
   "metadata": {},
   "outputs": [],
   "source": [
    "con.sql(\"\"\"CREATE OR REPLACE TABLE athuclevel AS\n",
    "SELECT athuclevel.huc12, CODE, LTADUD, LTADemand, LTAPopObj, X80DUD, X80Demand, X80PopObj, tothabitat_kcal, urbanHa, protectedhabitat_ha, protected_kcal,\n",
    "sum(urbanNrgy) as urbanNrgy,\n",
    "athuclevel.geometry\n",
    "FROM athuclevel\n",
    "LEFT JOIN (SELECT huc12, urbanNrgy FROM urbanwetlands) as urbanwetlands on urbanwetlands.huc12 = athuclevel.huc12\n",
    "GROUP BY athuclevel.huc12, CODE,LTADUD, LTADemand, LTAPopObj, X80DUD, X80Demand, X80PopObj, tothabitat_kcal, urbanHa, protectedhabitat_ha, protected_kcal, athuclevel.geometry\n",
    "\"\"\")"
   ]
  },
  {
   "cell_type": "code",
   "execution_count": 285,
   "id": "b4660f66",
   "metadata": {},
   "outputs": [],
   "source": [
    "con.sql(\"\"\"CREATE OR REPLACE TABLE athuclevel AS\n",
    "SELECT athuclevel.huc12, CODE, LTADUD, LTADemand, LTAPopObj, X80DUD, X80Demand, X80PopObj, tothabitat_kcal, urbanHa, protectedhabitat_ha, protected_kcal,urbanNrgy,\n",
    "sum(unavailHa) as unavailHa,\n",
    "athuclevel.geometry\n",
    "FROM athuclevel\n",
    "LEFT JOIN (SELECT huc12, unavailHa FROM unavailable) as unavailable on unavailable.huc12 = athuclevel.huc12\n",
    "GROUP BY athuclevel.huc12, CODE,LTADUD, LTADemand, LTAPopObj, X80DUD, X80Demand, X80PopObj, tothabitat_kcal, urbanHa, protectedhabitat_ha, protected_kcal, urbanNrgy, athuclevel.geometry\n",
    "\"\"\")"
   ]
  },
  {
   "cell_type": "code",
   "execution_count": 293,
   "id": "d790d3f5",
   "metadata": {},
   "outputs": [],
   "source": [
    "con.sql(\"\"\"CREATE OR REPLACE TABLE athuclevel AS\n",
    "SELECT athuclevel.huc12,\n",
    "ST_Area(ST_GeomFromWKB(geometry))*0.0001 huc12_ha,\n",
    "CODE, \n",
    "COALESCE(LTADUD, 0) dud_lta,\n",
    "COALESCE(LTADemand,0) demand_lta_kcal, \n",
    "COALESCE(LTAPopObj,0) popobj_lta, \n",
    "COALESCE(X80DUD,0) dud_80th, \n",
    "COALESCE(X80Demand,0) demand_80th_kcal, \n",
    "COALESCE(X80PopObj,0) popobj_80th, \n",
    "COALESCE(tothabitat_kcal,0) tothabitat_kcal,\n",
    "COALESCE(protected_kcal,0) protected_kcal,\n",
    "COALESCE(protectedhabitat_ha,0) protectedhabitat_ha,\n",
    "COALESCE(urbanHa,0) urbanHa, \n",
    "COALESCE(sum(urbanNrgy),0) urbanNrgy,\n",
    "COALESCE(sum(unavailHa),0) unavailha,\n",
    "COALESCE(sum(unavailHa),0) huc12_ha_unavailha,\n",
    "COALESCE(tothabitat_kcal - demand_lta_kcal,0) surpdef_lta_kcal,\n",
    "COALESCE(tothabitat_kcal - demand_80th_kcal,0) surpdef_80th_kcal,\n",
    "athuclevel.geometry\n",
    "FROM athuclevel\n",
    "GROUP BY athuclevel.huc12, CODE, LTADUD, LTADemand, LTAPopObj, X80DUD, X80Demand, X80PopObj, tothabitat_kcal, protected_kcal, protectedhabitat_ha,urbanHa, geometry\n",
    "ORDER BY athuclevel.huc12, CODE\n",
    "\"\"\")"
   ]
  },
  {
   "cell_type": "code",
   "execution_count": 294,
   "id": "60b7e8ad",
   "metadata": {},
   "outputs": [],
   "source": [
    "con.sql('''CREATE OR REPLACE TABLE athuclevel AS \n",
    "SELECT *,\n",
    "CASE WHEN \n",
    "demand_lta_kcal - protected_kcal > 0\n",
    "THEN\n",
    "demand_lta_kcal - protected_kcal\n",
    "ELSE 0\n",
    "END\n",
    "AS nrgprot_lta_kcal,\n",
    "CASE WHEN\n",
    "demand_80th_kcal - protected_kcal > 0 \n",
    "THEN\n",
    "demand_80th_kcal - protected_kcal\n",
    "ELSE 0\n",
    "END\n",
    "AS nrgprot_80th_kcal\n",
    "FROM athuclevel\n",
    "''')"
   ]
  },
  {
   "cell_type": "code",
   "execution_count": 295,
   "id": "6728bc2a",
   "metadata": {},
   "outputs": [],
   "source": [
    "'''\n",
    "Calculate weighted mean\n",
    "'''\n",
    "con.sql('''\n",
    "CREATE OR REPLACE TABLE wtmean AS \n",
    "SELECT huctotal.huc12, name, avalNrgname/avalNrgtot as pct, hucnametotal.avalNrgname * pct as wtmean FROM\n",
    "((SELECT huc12, sum(avalNrgy) as avalNrgtot from wetlands group by huc12) huctotal\n",
    "join\n",
    "(SELECT huc12, name, sum(avalNrgy) as avalNrgname from wetlands group by huc12, name) hucnametotal\n",
    "on hucnametotal.huc12 = huctotal.huc12)\n",
    "''')\n",
    "con.sql('''CREATE OR REPLACE TABLE wtmeanpivot AS\n",
    "(select * exclude pct FROM\n",
    "(pivot wtmean\n",
    "    on name\n",
    "    USING sum(wtmean)))\n",
    "''')"
   ]
  },
  {
   "cell_type": "code",
   "execution_count": 296,
   "id": "be7c43ff",
   "metadata": {},
   "outputs": [],
   "source": [
    "cols = con.sql('describe wtmeanpivot').df()['column_name'].tolist()\n",
    "for cls in ('DeepwaterFresh', 'FreshMarsh', 'FreshShallowOpenWater', 'FreshwaterWoody', 'ManagedFreshMarsh', 'ManagedFreshShallowOpenWater', 'ManagedFreshwaterAquaticBed'):\n",
    "    if cls not in cols:\n",
    "        con.sql('''ALTER TABLE wtmeanpivot ADD COLUMN {0} DOUBLE'''.format(cls))"
   ]
  },
  {
   "cell_type": "code",
   "execution_count": 297,
   "id": "84385d4f",
   "metadata": {},
   "outputs": [],
   "source": [
    "\n",
    "con.sql('''CREATE OR REPLACE TABLE wtmeanpivot AS \n",
    "SELECT\n",
    "huc12,\n",
    "COALESCE(DeepwaterFresh, 0) DeepwaterFresh,\n",
    "COALESCE(FreshMarsh, 0) FreshMarsh, \n",
    "COALESCE(FreshShallowOpenWater, 0) FreshShallowOpenWater,\n",
    "COALESCE(FreshwaterWoody, 0) FreshwaterWoody,\n",
    "COALESCE(ManagedFreshMarsh, 0) ManagedFreshMarsh,\n",
    "COALESCE(ManagedFreshShallowOpenWater, 0) ManagedFreshShallowOpenWater,\n",
    "COALESCE(ManagedFreshwaterAquaticBed, 0) ManagedFreshwaterAquaticBed\n",
    "FROM wtmeanpivot\n",
    "''')\n",
    "con.sql('''create or replace table wtmeanbyhuc as\n",
    "        select huc12, \n",
    "        sum(DeepwaterFresh + FreshMarsh + FreshShallowOpenWater + FreshwaterWoody + ManagedFreshMarsh +ManagedFreshShallowOpenWater + ManagedFreshwaterAquaticBed)\n",
    "        as wtmean from wtmeanpivot group by huc12''')"
   ]
  },
  {
   "cell_type": "code",
   "execution_count": 298,
   "id": "e66e9387",
   "metadata": {},
   "outputs": [],
   "source": [
    "#########\n",
    "########\n",
    "con.sql('''CREATE OR REPLACE TABLE athuclevel AS\n",
    "SELECT * \n",
    "from athuclevel\n",
    "left join wtmeanbyhuc on athuclevel.huc12=wtmeanbyhuc.huc12\n",
    "order by athuclevel.huc12\n",
    "''')\n",
    "con.sql('ALTER TABLE athuclevel RENAME wtmean TO wtMean_kcal_per_ha')"
   ]
  },
  {
   "cell_type": "code",
   "execution_count": 299,
   "id": "0f7cde1e",
   "metadata": {},
   "outputs": [],
   "source": [
    "con.sql('''CREATE OR REPLACE TABLE athuclevel AS\n",
    "SELECT *,\n",
    "CASE WHEN \n",
    "surpdef_lta_kcal < 0\n",
    "THEN\n",
    "abs(surpdef_lta_kcal/wtMean_kcal_per_ha)\n",
    "ELSE 0\n",
    "END\n",
    "AS restoregoal_lta_ha,\n",
    "\n",
    "CASE WHEN \n",
    "surpdef_80th_kcal < 0\n",
    "THEN\n",
    "abs(surpdef_80th_kcal/wtMean_kcal_per_ha)\n",
    "ELSE 0\n",
    "END\n",
    "AS restoregoal_80th_ha\n",
    "\n",
    "FROM athuclevel\n",
    "''')"
   ]
  },
  {
   "cell_type": "code",
   "execution_count": 300,
   "id": "d486d414",
   "metadata": {},
   "outputs": [],
   "source": [
    "## Need to double check huc12_ha and unavailha\n",
    "con.sql('''CREATE OR REPLACE TABLE athuclevel AS \n",
    "        select huc12, huc12_ha, CODE as code, dud_lta, demand_lta_kcal, popobj_lta, dud_80th, demand_80th_kcal, popobj_80th,\n",
    "        tothabitat_kcal, protected_kcal, protectedhabitat_ha, urbanHa, urbanNrgy, unavailha, surpdef_lta_kcal, surpdef_80th_kcal,\n",
    "        nrgprot_lta_kcal, nrgprot_80th_kcal, wtMean_kcal_per_ha, restoregoal_lta_ha, restoregoal_80th_ha, \n",
    "        CASE WHEN\n",
    "        huc12_ha - unavailha > 0\n",
    "        THEN\n",
    "        huc12_ha - unavailha\n",
    "        ELSE 0\n",
    "        END \n",
    "        AS available_ha,\n",
    "        geometry\n",
    "        FROM athuclevel\n",
    "        ''')"
   ]
  },
  {
   "cell_type": "code",
   "execution_count": 301,
   "id": "650228cf",
   "metadata": {},
   "outputs": [],
   "source": [
    "con.sql('''CREATE OR REPLACE TABLE athuclevel AS\n",
    "SELECT * EXCLUDE (restoregoal_lta_ha, restoregoal_80th_ha),\n",
    "CASE WHEN \n",
    "restoregoal_lta_ha > available_ha\n",
    "THEN\n",
    "available_ha\n",
    "ELSE restoregoal_lta_ha\n",
    "END\n",
    "AS restoregoal_lta_ha,\n",
    "\n",
    "CASE WHEN \n",
    "restoregoal_80th_ha > available_ha\n",
    "THEN\n",
    "available_ha\n",
    "ELSE restoregoal_80th_ha\n",
    "END\n",
    "AS restoregoal_80th_ha,\n",
    "\n",
    "FROM athuclevel\n",
    "''')"
   ]
  },
  {
   "cell_type": "code",
   "execution_count": 302,
   "id": "e994973a",
   "metadata": {},
   "outputs": [],
   "source": [
    "#field='protectgoal_lta_ha', expression=\"(!nrgprot_lta_kcal!/!wtMean_kcal_per_ha!) if !nrgprot_lta_kcal! > 0 else 0\"\n",
    "#field='protectgoal_80th_ha', expression=\"(!nrgprot_80th_kcal!/!wtMean_kcal_per_ha!) if !nrgprot_80th_kcal! > 0 else 0\"\n",
    "con.sql('''CREATE OR REPLACE TABLE athuclevel AS\n",
    "SELECT *,\n",
    "CASE WHEN \n",
    "nrgprot_lta_kcal > 0 \n",
    "THEN\n",
    "nrgprot_lta_kcal/wtMean_kcal_per_ha\n",
    "ELSE 0\n",
    "END\n",
    "AS protectgoal_lta_ha,\n",
    "\n",
    "CASE WHEN \n",
    "nrgprot_80th_kcal > 0\n",
    "THEN\n",
    "nrgprot_80th_kcal/wtMean_kcal_per_ha\n",
    "ELSE 0\n",
    "END\n",
    "AS protectgoal_80th_ha,\n",
    "FROM athuclevel\n",
    "''')"
   ]
  },
  {
   "cell_type": "code",
   "execution_count": 303,
   "id": "792d570e",
   "metadata": {},
   "outputs": [],
   "source": [
    "#field='protectgoal_lta_ha', expression=\"!available_ha! if !protectgoal_lta_ha! > !available_ha! else !protectgoal_lta_ha!\"\n",
    "#field='protectgoal_80th_ha', expression=\"!available_ha! if !protectgoal_80th_ha! > !available_ha! else !protectgoal_80th_ha!\"\n",
    "con.sql('''CREATE OR REPLACE TABLE athuclevel AS\n",
    "SELECT * EXCLUDE (protectgoal_lta_ha, protectgoal_80th_ha),\n",
    "CASE WHEN \n",
    "protectgoal_lta_ha > available_ha\n",
    "THEN\n",
    "available_ha\n",
    "ELSE protectgoal_lta_ha\n",
    "END\n",
    "AS  protectgoal_lta_ha,\n",
    "\n",
    "CASE WHEN \n",
    "protectgoal_80th_ha > available_ha\n",
    "THEN\n",
    "available_ha\n",
    "ELSE protectgoal_80th_ha\n",
    "END\n",
    "AS protectgoal_80th_ha,\n",
    "FROM athuclevel\n",
    "''')"
   ]
  },
  {
   "cell_type": "code",
   "execution_count": 304,
   "id": "e7d664be",
   "metadata": {},
   "outputs": [
    {
     "data": {
      "text/plain": [
       "'\\nProtected wetlands, urban wetlands, and wetland energy all calculated by huc12.  Need to calculate total urban outside of\\nwetland energy\\n\\nCalculations:\\n    Energy supply\\n        Total habitat energy within huc - THabNrg\\n        Total habitat hectares within huc - THabHA\\n\\n    Energy demand\\n        LTA and X80 DUD by huc - TLTADUD anc X80DUD\\n        LTA and X80 Demand by huc - TLTADemand and X80Demand\\n        LTA and X80 Population objective by huc - LTAPopObj and X80PopObj\\n        \\n    Protected lands\\n        Total protected hectares by huc - ProtHA\\n\\n    Protected habitat hectares and energy\\n        Total protected hectares - ProtHabHA\\n        Total protected energy - ProtHabNrg\\n\\n    Weighted mean and calculations based off of it\\n        Weighted mean kcal/ha with weight being Total habitat energy\\n        Energy Protection needed - NrgProtRq\\n        Restoration HA based off of weighted mean - RstorHA\\n        Protection HA based off weighted mean - RstorProtHA  \\n\\n'"
      ]
     },
     "execution_count": 304,
     "metadata": {},
     "output_type": "execute_result"
    }
   ],
   "source": [
    "'''\n",
    "Protected wetlands, urban wetlands, and wetland energy all calculated by huc12.  Need to calculate total urban outside of\n",
    "wetland energy\n",
    "\n",
    "Calculations:\n",
    "    Energy supply\n",
    "        Total habitat energy within huc - THabNrg\n",
    "        Total habitat hectares within huc - THabHA\n",
    "\n",
    "    Energy demand\n",
    "        LTA and X80 DUD by huc - TLTADUD anc X80DUD\n",
    "        LTA and X80 Demand by huc - TLTADemand and X80Demand\n",
    "        LTA and X80 Population objective by huc - LTAPopObj and X80PopObj\n",
    "        \n",
    "    Protected lands\n",
    "        Total protected hectares by huc - ProtHA\n",
    "\n",
    "    Protected habitat hectares and energy\n",
    "        Total protected hectares - ProtHabHA\n",
    "        Total protected energy - ProtHabNrg\n",
    "\n",
    "    Weighted mean and calculations based off of it\n",
    "        Weighted mean kcal/ha with weight being Total habitat energy\n",
    "        Energy Protection needed - NrgProtRq\n",
    "        Restoration HA based off of weighted mean - RstorHA\n",
    "        Protection HA based off weighted mean - RstorProtHA  \n",
    "\n",
    "'''\n",
    "#################################\n",
    "#################################\n",
    "#################################\n"
   ]
  },
  {
   "cell_type": "code",
   "execution_count": 305,
   "id": "e5763099",
   "metadata": {},
   "outputs": [
    {
     "data": {
      "text/html": [
       "<div>\n",
       "<style scoped>\n",
       "    .dataframe tbody tr th:only-of-type {\n",
       "        vertical-align: middle;\n",
       "    }\n",
       "\n",
       "    .dataframe tbody tr th {\n",
       "        vertical-align: top;\n",
       "    }\n",
       "\n",
       "    .dataframe thead th {\n",
       "        text-align: right;\n",
       "    }\n",
       "</style>\n",
       "<table border=\"1\" class=\"dataframe\">\n",
       "  <thead>\n",
       "    <tr style=\"text-align: right;\">\n",
       "      <th></th>\n",
       "      <th>column_name</th>\n",
       "      <th>column_type</th>\n",
       "      <th>null</th>\n",
       "      <th>key</th>\n",
       "      <th>default</th>\n",
       "      <th>extra</th>\n",
       "    </tr>\n",
       "  </thead>\n",
       "  <tbody>\n",
       "    <tr>\n",
       "      <th>0</th>\n",
       "      <td>huc12</td>\n",
       "      <td>VARCHAR</td>\n",
       "      <td>YES</td>\n",
       "      <td>None</td>\n",
       "      <td>None</td>\n",
       "      <td>None</td>\n",
       "    </tr>\n",
       "    <tr>\n",
       "      <th>1</th>\n",
       "      <td>huc12_ha</td>\n",
       "      <td>DOUBLE</td>\n",
       "      <td>YES</td>\n",
       "      <td>None</td>\n",
       "      <td>None</td>\n",
       "      <td>None</td>\n",
       "    </tr>\n",
       "    <tr>\n",
       "      <th>2</th>\n",
       "      <td>code</td>\n",
       "      <td>VARCHAR</td>\n",
       "      <td>YES</td>\n",
       "      <td>None</td>\n",
       "      <td>None</td>\n",
       "      <td>None</td>\n",
       "    </tr>\n",
       "    <tr>\n",
       "      <th>3</th>\n",
       "      <td>dud_lta</td>\n",
       "      <td>DOUBLE</td>\n",
       "      <td>YES</td>\n",
       "      <td>None</td>\n",
       "      <td>None</td>\n",
       "      <td>None</td>\n",
       "    </tr>\n",
       "    <tr>\n",
       "      <th>4</th>\n",
       "      <td>demand_lta_kcal</td>\n",
       "      <td>DOUBLE</td>\n",
       "      <td>YES</td>\n",
       "      <td>None</td>\n",
       "      <td>None</td>\n",
       "      <td>None</td>\n",
       "    </tr>\n",
       "    <tr>\n",
       "      <th>5</th>\n",
       "      <td>popobj_lta</td>\n",
       "      <td>DOUBLE</td>\n",
       "      <td>YES</td>\n",
       "      <td>None</td>\n",
       "      <td>None</td>\n",
       "      <td>None</td>\n",
       "    </tr>\n",
       "    <tr>\n",
       "      <th>6</th>\n",
       "      <td>dud_80th</td>\n",
       "      <td>DOUBLE</td>\n",
       "      <td>YES</td>\n",
       "      <td>None</td>\n",
       "      <td>None</td>\n",
       "      <td>None</td>\n",
       "    </tr>\n",
       "    <tr>\n",
       "      <th>7</th>\n",
       "      <td>demand_80th_kcal</td>\n",
       "      <td>DOUBLE</td>\n",
       "      <td>YES</td>\n",
       "      <td>None</td>\n",
       "      <td>None</td>\n",
       "      <td>None</td>\n",
       "    </tr>\n",
       "    <tr>\n",
       "      <th>8</th>\n",
       "      <td>popobj_80th</td>\n",
       "      <td>DOUBLE</td>\n",
       "      <td>YES</td>\n",
       "      <td>None</td>\n",
       "      <td>None</td>\n",
       "      <td>None</td>\n",
       "    </tr>\n",
       "    <tr>\n",
       "      <th>9</th>\n",
       "      <td>tothabitat_kcal</td>\n",
       "      <td>DOUBLE</td>\n",
       "      <td>YES</td>\n",
       "      <td>None</td>\n",
       "      <td>None</td>\n",
       "      <td>None</td>\n",
       "    </tr>\n",
       "    <tr>\n",
       "      <th>10</th>\n",
       "      <td>protected_kcal</td>\n",
       "      <td>DOUBLE</td>\n",
       "      <td>YES</td>\n",
       "      <td>None</td>\n",
       "      <td>None</td>\n",
       "      <td>None</td>\n",
       "    </tr>\n",
       "    <tr>\n",
       "      <th>11</th>\n",
       "      <td>protectedhabitat_ha</td>\n",
       "      <td>DOUBLE</td>\n",
       "      <td>YES</td>\n",
       "      <td>None</td>\n",
       "      <td>None</td>\n",
       "      <td>None</td>\n",
       "    </tr>\n",
       "    <tr>\n",
       "      <th>12</th>\n",
       "      <td>urbanHa</td>\n",
       "      <td>DOUBLE</td>\n",
       "      <td>YES</td>\n",
       "      <td>None</td>\n",
       "      <td>None</td>\n",
       "      <td>None</td>\n",
       "    </tr>\n",
       "    <tr>\n",
       "      <th>13</th>\n",
       "      <td>urbanNrgy</td>\n",
       "      <td>DOUBLE</td>\n",
       "      <td>YES</td>\n",
       "      <td>None</td>\n",
       "      <td>None</td>\n",
       "      <td>None</td>\n",
       "    </tr>\n",
       "    <tr>\n",
       "      <th>14</th>\n",
       "      <td>unavailha</td>\n",
       "      <td>DOUBLE</td>\n",
       "      <td>YES</td>\n",
       "      <td>None</td>\n",
       "      <td>None</td>\n",
       "      <td>None</td>\n",
       "    </tr>\n",
       "    <tr>\n",
       "      <th>15</th>\n",
       "      <td>surpdef_lta_kcal</td>\n",
       "      <td>DOUBLE</td>\n",
       "      <td>YES</td>\n",
       "      <td>None</td>\n",
       "      <td>None</td>\n",
       "      <td>None</td>\n",
       "    </tr>\n",
       "    <tr>\n",
       "      <th>16</th>\n",
       "      <td>surpdef_80th_kcal</td>\n",
       "      <td>DOUBLE</td>\n",
       "      <td>YES</td>\n",
       "      <td>None</td>\n",
       "      <td>None</td>\n",
       "      <td>None</td>\n",
       "    </tr>\n",
       "    <tr>\n",
       "      <th>17</th>\n",
       "      <td>nrgprot_lta_kcal</td>\n",
       "      <td>DOUBLE</td>\n",
       "      <td>YES</td>\n",
       "      <td>None</td>\n",
       "      <td>None</td>\n",
       "      <td>None</td>\n",
       "    </tr>\n",
       "    <tr>\n",
       "      <th>18</th>\n",
       "      <td>nrgprot_80th_kcal</td>\n",
       "      <td>DOUBLE</td>\n",
       "      <td>YES</td>\n",
       "      <td>None</td>\n",
       "      <td>None</td>\n",
       "      <td>None</td>\n",
       "    </tr>\n",
       "    <tr>\n",
       "      <th>19</th>\n",
       "      <td>wtMean_kcal_per_ha</td>\n",
       "      <td>DOUBLE</td>\n",
       "      <td>YES</td>\n",
       "      <td>None</td>\n",
       "      <td>None</td>\n",
       "      <td>None</td>\n",
       "    </tr>\n",
       "    <tr>\n",
       "      <th>20</th>\n",
       "      <td>available_ha</td>\n",
       "      <td>DOUBLE</td>\n",
       "      <td>YES</td>\n",
       "      <td>None</td>\n",
       "      <td>None</td>\n",
       "      <td>None</td>\n",
       "    </tr>\n",
       "    <tr>\n",
       "      <th>21</th>\n",
       "      <td>geometry</td>\n",
       "      <td>BLOB</td>\n",
       "      <td>YES</td>\n",
       "      <td>None</td>\n",
       "      <td>None</td>\n",
       "      <td>None</td>\n",
       "    </tr>\n",
       "    <tr>\n",
       "      <th>22</th>\n",
       "      <td>restoregoal_lta_ha</td>\n",
       "      <td>DOUBLE</td>\n",
       "      <td>YES</td>\n",
       "      <td>None</td>\n",
       "      <td>None</td>\n",
       "      <td>None</td>\n",
       "    </tr>\n",
       "    <tr>\n",
       "      <th>23</th>\n",
       "      <td>restoregoal_80th_ha</td>\n",
       "      <td>DOUBLE</td>\n",
       "      <td>YES</td>\n",
       "      <td>None</td>\n",
       "      <td>None</td>\n",
       "      <td>None</td>\n",
       "    </tr>\n",
       "    <tr>\n",
       "      <th>24</th>\n",
       "      <td>protectgoal_lta_ha</td>\n",
       "      <td>DOUBLE</td>\n",
       "      <td>YES</td>\n",
       "      <td>None</td>\n",
       "      <td>None</td>\n",
       "      <td>None</td>\n",
       "    </tr>\n",
       "    <tr>\n",
       "      <th>25</th>\n",
       "      <td>protectgoal_80th_ha</td>\n",
       "      <td>DOUBLE</td>\n",
       "      <td>YES</td>\n",
       "      <td>None</td>\n",
       "      <td>None</td>\n",
       "      <td>None</td>\n",
       "    </tr>\n",
       "  </tbody>\n",
       "</table>\n",
       "</div>"
      ],
      "text/plain": [
       "            column_name column_type null   key default extra\n",
       "0                 huc12     VARCHAR  YES  None    None  None\n",
       "1              huc12_ha      DOUBLE  YES  None    None  None\n",
       "2                  code     VARCHAR  YES  None    None  None\n",
       "3               dud_lta      DOUBLE  YES  None    None  None\n",
       "4       demand_lta_kcal      DOUBLE  YES  None    None  None\n",
       "5            popobj_lta      DOUBLE  YES  None    None  None\n",
       "6              dud_80th      DOUBLE  YES  None    None  None\n",
       "7      demand_80th_kcal      DOUBLE  YES  None    None  None\n",
       "8           popobj_80th      DOUBLE  YES  None    None  None\n",
       "9       tothabitat_kcal      DOUBLE  YES  None    None  None\n",
       "10       protected_kcal      DOUBLE  YES  None    None  None\n",
       "11  protectedhabitat_ha      DOUBLE  YES  None    None  None\n",
       "12              urbanHa      DOUBLE  YES  None    None  None\n",
       "13            urbanNrgy      DOUBLE  YES  None    None  None\n",
       "14            unavailha      DOUBLE  YES  None    None  None\n",
       "15     surpdef_lta_kcal      DOUBLE  YES  None    None  None\n",
       "16    surpdef_80th_kcal      DOUBLE  YES  None    None  None\n",
       "17     nrgprot_lta_kcal      DOUBLE  YES  None    None  None\n",
       "18    nrgprot_80th_kcal      DOUBLE  YES  None    None  None\n",
       "19   wtMean_kcal_per_ha      DOUBLE  YES  None    None  None\n",
       "20         available_ha      DOUBLE  YES  None    None  None\n",
       "21             geometry        BLOB  YES  None    None  None\n",
       "22   restoregoal_lta_ha      DOUBLE  YES  None    None  None\n",
       "23  restoregoal_80th_ha      DOUBLE  YES  None    None  None\n",
       "24   protectgoal_lta_ha      DOUBLE  YES  None    None  None\n",
       "25  protectgoal_80th_ha      DOUBLE  YES  None    None  None"
      ]
     },
     "execution_count": 305,
     "metadata": {},
     "output_type": "execute_result"
    }
   ],
   "source": [
    "con.sql('describe athuclevel').df()"
   ]
  },
  {
   "cell_type": "code",
   "execution_count": 308,
   "id": "151ef251",
   "metadata": {},
   "outputs": [
    {
     "name": "stdout",
     "output_type": "stream",
     "text": [
      "┌──────────────┬───────────────────┐\n",
      "│    huc12     │   sum(urbanHa)    │\n",
      "│   varchar    │      double       │\n",
      "├──────────────┼───────────────────┤\n",
      "│ 080302020501 │ 438.7220613664415 │\n",
      "└──────────────┴───────────────────┘\n",
      "\n",
      "┌──────────────┬───────────────────┐\n",
      "│    huc12     │   sum(urbanHa)    │\n",
      "│   varchar    │      double       │\n",
      "├──────────────┼───────────────────┤\n",
      "│ 080302020501 │ 438.7220613664415 │\n",
      "│ 080302020501 │ 438.7220613664415 │\n",
      "└──────────────┴───────────────────┘\n",
      "\n",
      "┌──────────────┬─────────┬───────────────────┐\n",
      "│    huc12     │  CODE   │    sum(LTADUD)    │\n",
      "│   varchar    │ varchar │      double       │\n",
      "├──────────────┼─────────┼───────────────────┤\n",
      "│ 080302020501 │ 4B      │ 444.9738085676442 │\n",
      "│ 080302020501 │ 4D      │ 508903.6047255656 │\n",
      "└──────────────┴─────────┴───────────────────┘\n",
      "\n",
      "┌──────────────┬─────────┬───────────────────┐\n",
      "│    huc12     │  code   │   sum(dud_lta)    │\n",
      "│   varchar    │ varchar │      double       │\n",
      "├──────────────┼─────────┼───────────────────┤\n",
      "│ 080302020501 │ 4B      │ 444.9738085676442 │\n",
      "│ 080302020501 │ 4D      │ 508903.6047255656 │\n",
      "└──────────────┴─────────┴───────────────────┘\n",
      "\n"
     ]
    }
   ],
   "source": [
    "print(con.sql('select huc12, sum(urbanHa) from urban where huc12 = 080302020501 group by huc12'))\n",
    "print(con.sql('select huc12, sum(urbanHa) from athuclevel where huc12 = 080302020501 group by huc12, CODE'))\n",
    "print(con.sql('select huc12, CODE, sum(LTADUD) from hucdemand where huc12 = 080302020501 group by huc12, CODE'))\n",
    "print(con.sql('select huc12, CODE, sum(dud_lta) from athuclevel where huc12 = 080302020501 group by huc12, CODE'))"
   ]
  },
  {
   "cell_type": "code",
   "execution_count": 309,
   "id": "57ac5437",
   "metadata": {},
   "outputs": [
    {
     "data": {
      "text/plain": [
       "'Fri Feb 23 09:24:08 2024'"
      ]
     },
     "execution_count": 309,
     "metadata": {},
     "output_type": "execute_result"
    }
   ],
   "source": [
    "end_time = time.ctime(time.time())\n",
    "end_time"
   ]
  },
  {
   "cell_type": "code",
   "execution_count": 311,
   "id": "91fa9de8",
   "metadata": {},
   "outputs": [
    {
     "name": "stdout",
     "output_type": "stream",
     "text": [
      "Done\n"
     ]
    }
   ],
   "source": [
    "con.sql(\"\"\"COPY (SELECT * EXCLUDE geometry, ST_AsWKB(ST_GeomFromWKB(geometry)) as geometry, FROM athuclevel) TO './output/{0}.parquet' (FORMAT PARQUET)\"\"\".format(inaoifile))\n",
    "print('Done')"
   ]
  },
  {
   "cell_type": "code",
   "execution_count": null,
   "id": "8e3a0b23",
   "metadata": {},
   "outputs": [],
   "source": []
  }
 ],
 "metadata": {
  "celltoolbar": "Tags",
  "kernelspec": {
   "display_name": "Python 3 (ipykernel)",
   "language": "python",
   "name": "python3"
  },
  "language_info": {
   "codemirror_mode": {
    "name": "ipython",
    "version": 3
   },
   "file_extension": ".py",
   "mimetype": "text/x-python",
   "name": "python",
   "nbconvert_exporter": "python",
   "pygments_lexer": "ipython3",
   "version": "3.10.13"
  }
 },
 "nbformat": 4,
 "nbformat_minor": 5
}
