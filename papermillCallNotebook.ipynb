{
 "cells": [
  {
   "cell_type": "code",
   "execution_count": 1,
   "id": "243e9ac6",
   "metadata": {},
   "outputs": [],
   "source": [
    "import papermill as pm\n",
    "import duckdb, subprocess, os, time\n",
    "from joblib import Parallel, delayed"
   ]
  },
  {
   "cell_type": "code",
   "execution_count": 2,
   "id": "26c2e751",
   "metadata": {},
   "outputs": [],
   "source": [
    "con = duckdb.connect()\n",
    "con.install_extension(\"spatial\")\n",
    "con.load_extension(\"spatial\")\n",
    "con.install_extension(\"azure\")\n",
    "con.load_extension(\"azure\")"
   ]
  },
  {
   "cell_type": "code",
   "execution_count": null,
   "id": "62a64c30",
   "metadata": {},
   "outputs": [],
   "source": [
    "start_time = time.time()\n",
    "print(time.ctime(time.time()))"
   ]
  },
  {
   "cell_type": "code",
   "execution_count": 3,
   "id": "752d055a",
   "metadata": {},
   "outputs": [
    {
     "data": {
      "text/plain": [
       "{'inaoifile': {'name': 'inaoifile',\n",
       "  'inferred_type_name': 'None',\n",
       "  'default': \"'28027'\",\n",
       "  'help': ''},\n",
       " 'local': {'name': 'local',\n",
       "  'inferred_type_name': 'None',\n",
       "  'default': 'True',\n",
       "  'help': ''}}"
      ]
     },
     "execution_count": 3,
     "metadata": {},
     "output_type": "execute_result"
    }
   ],
   "source": [
    "pm.inspect_notebook('WaterfowlHabitatSinglefips.ipynb')"
   ]
  },
  {
   "cell_type": "code",
   "execution_count": 4,
   "id": "96b7f108",
   "metadata": {},
   "outputs": [],
   "source": [
    "con.sql(\"SET azure_storage_connection_string = 'DefaultEndpointsProtocol=https;AccountName=giscog;EndpointSuffix=core.windows.net';\")\n",
    "con.sql(f\"\"\"\n",
    "CREATE OR REPLACE TABLE counties AS\n",
    "SELECT NAME, STATE_NAME, FIPS, geometry FROM read_parquet('azure://abdu/uscounties.parquet')\n",
    "WHERE STATE_NAME = 'Mississippi'\n",
    "\"\"\")"
   ]
  },
  {
   "cell_type": "code",
   "execution_count": 5,
   "id": "a90a17ed",
   "metadata": {},
   "outputs": [],
   "source": [
    "allfips = con.sql('select distinct(fips) from counties').df().values.tolist()"
   ]
  },
  {
   "cell_type": "code",
   "execution_count": 6,
   "id": "cb0f223e",
   "metadata": {},
   "outputs": [
    {
     "name": "stdout",
     "output_type": "stream",
     "text": [
      "['28001', '28003', '28005', '28007', '28009', '28011', '28013', '28015', '28017', '28019', '28021', '28023', '28025', '28027', '28029', '28031', '28033', '28035', '28037', '28039', '28041', '28043', '28045', '28047', '28049', '28051', '28053', '28055', '28057', '28059', '28061', '28063', '28065', '28067', '28069', '28071', '28073', '28075', '28077', '28079', '28081', '28083', '28085', '28087', '28089', '28091', '28093', '28095', '28097', '28099', '28101', '28103', '28105', '28107', '28109', '28111', '28113', '28115', '28117', '28119', '28121', '28123', '28125', '28127', '28129', '28131', '28133', '28135', '28137', '28139', '28141', '28143', '28145', '28147', '28149', '28151', '28153', '28155', '28157', '28159', '28161', '28163']\n"
     ]
    }
   ],
   "source": [
    "listfips = sorted([item for items in allfips for item in items])\n",
    "print(listfips)"
   ]
  },
  {
   "cell_type": "code",
   "execution_count": 17,
   "id": "2aa145f6",
   "metadata": {},
   "outputs": [],
   "source": [
    "def f(x):\n",
    "    try:\n",
    "        if os.path.isfile('./output/'+x+'.parquet'):\n",
    "            return (x, 'exists')\n",
    "        else:\n",
    "            subprocess.run(pm.execute_notebook('WaterfowlHabitatSinglefips.ipynb','./output/{0}.ipynb'.format(x),parameters=dict(inaoifile=x, local=True)), shell=True)\n",
    "            return (x, 'run complete')\n",
    "    except Exception as e:\n",
    "        if os.path.isfile('./output/'+x+'.parquet'):\n",
    "            return (x, 'run complete')\n",
    "        return (x,'fail', e)"
   ]
  },
  {
   "cell_type": "code",
   "execution_count": 18,
   "id": "35abecfb",
   "metadata": {},
   "outputs": [
    {
     "name": "stderr",
     "output_type": "stream",
     "text": [
      "[Parallel(n_jobs=8)]: Using backend LokyBackend with 8 concurrent workers.\n",
      "[Parallel(n_jobs=8)]: Done   2 tasks      | elapsed: 21.3min\n",
      "[Parallel(n_jobs=8)]: Done   9 tasks      | elapsed: 50.5min\n",
      "[Parallel(n_jobs=8)]: Done  16 tasks      | elapsed: 89.5min\n",
      "[Parallel(n_jobs=8)]: Done  25 tasks      | elapsed: 167.7min\n",
      "[Parallel(n_jobs=8)]: Done  34 tasks      | elapsed: 231.2min\n",
      "[Parallel(n_jobs=8)]: Done  45 tasks      | elapsed: 296.2min\n",
      "[Parallel(n_jobs=8)]: Done  56 tasks      | elapsed: 367.8min\n",
      "[Parallel(n_jobs=8)]: Done  76 out of  82 | elapsed: 462.0min remaining: 36.5min\n",
      "[Parallel(n_jobs=8)]: Done  82 out of  82 | elapsed: 511.8min finished\n"
     ]
    }
   ],
   "source": [
    "completed = Parallel(n_jobs=8, verbose=10)(delayed(f)(listfips[x]) for x in range(len(listfips)))"
   ]
  },
  {
   "cell_type": "code",
   "execution_count": 19,
   "id": "b2c22718",
   "metadata": {},
   "outputs": [
    {
     "data": {
      "text/plain": [
       "[('28001', 'run complete'),\n",
       " ('28003', 'run complete'),\n",
       " ('28005', 'run complete'),\n",
       " ('28007', 'run complete'),\n",
       " ('28009', 'run complete'),\n",
       " ('28011', 'run complete'),\n",
       " ('28013', 'run complete'),\n",
       " ('28015', 'run complete'),\n",
       " ('28017', 'run complete'),\n",
       " ('28019', 'run complete'),\n",
       " ('28021', 'run complete'),\n",
       " ('28023', 'run complete'),\n",
       " ('28025', 'run complete'),\n",
       " ('28027', 'run complete'),\n",
       " ('28029', 'run complete'),\n",
       " ('28031', 'run complete'),\n",
       " ('28033', 'run complete'),\n",
       " ('28035', 'run complete'),\n",
       " ('28037', 'run complete'),\n",
       " ('28039', 'run complete'),\n",
       " ('28041', 'run complete'),\n",
       " ('28043', 'run complete'),\n",
       " ('28045', 'run complete'),\n",
       " ('28047', 'run complete'),\n",
       " ('28049', 'run complete'),\n",
       " ('28051', 'run complete'),\n",
       " ('28053', 'run complete'),\n",
       " ('28055', 'run complete'),\n",
       " ('28057', 'run complete'),\n",
       " ('28059', 'run complete'),\n",
       " ('28061', 'run complete'),\n",
       " ('28063', 'run complete'),\n",
       " ('28065', 'run complete'),\n",
       " ('28067', 'run complete'),\n",
       " ('28069', 'run complete'),\n",
       " ('28071', 'run complete'),\n",
       " ('28073', 'run complete'),\n",
       " ('28075', 'run complete'),\n",
       " ('28077', 'run complete'),\n",
       " ('28079', 'run complete'),\n",
       " ('28081', 'run complete'),\n",
       " ('28083', 'run complete'),\n",
       " ('28085', 'run complete'),\n",
       " ('28087', 'run complete'),\n",
       " ('28089', 'run complete'),\n",
       " ('28091', 'run complete'),\n",
       " ('28093', 'run complete'),\n",
       " ('28095', 'run complete'),\n",
       " ('28097', 'run complete'),\n",
       " ('28099', 'run complete'),\n",
       " ('28101', 'run complete'),\n",
       " ('28103', 'run complete'),\n",
       " ('28105', 'run complete'),\n",
       " ('28107', 'run complete'),\n",
       " ('28109', 'run complete'),\n",
       " ('28111', 'run complete'),\n",
       " ('28113', 'run complete'),\n",
       " ('28115', 'run complete'),\n",
       " ('28117', 'run complete'),\n",
       " ('28119', 'run complete'),\n",
       " ('28121', 'run complete'),\n",
       " ('28123', 'run complete'),\n",
       " ('28125', 'run complete'),\n",
       " ('28127', 'run complete'),\n",
       " ('28129', 'run complete'),\n",
       " ('28131', 'run complete'),\n",
       " ('28133', 'run complete'),\n",
       " ('28135', 'run complete'),\n",
       " ('28137', 'run complete'),\n",
       " ('28139', 'run complete'),\n",
       " ('28141', 'run complete'),\n",
       " ('28143', 'run complete'),\n",
       " ('28145', 'run complete'),\n",
       " ('28147', 'run complete'),\n",
       " ('28149', 'run complete'),\n",
       " ('28151', 'run complete'),\n",
       " ('28153', 'run complete'),\n",
       " ('28155', 'run complete'),\n",
       " ('28157', 'run complete'),\n",
       " ('28159', 'run complete'),\n",
       " ('28161', 'run complete'),\n",
       " ('28163', 'run complete')]"
      ]
     },
     "execution_count": 19,
     "metadata": {},
     "output_type": "execute_result"
    }
   ],
   "source": [
    "#check for failed\n",
    "completed\n",
    "#fixme = completed"
   ]
  },
  {
   "cell_type": "code",
   "execution_count": 9,
   "id": "270c35a0",
   "metadata": {},
   "outputs": [
    {
     "name": "stderr",
     "output_type": "stream",
     "text": [
      "[Parallel(n_jobs=4)]: Using backend LokyBackend with 4 concurrent workers.\n",
      "[Parallel(n_jobs=4)]: Done   1 tasks      | elapsed: 20.6min\n"
     ]
    }
   ],
   "source": [
    "fixme = ['28135']\n",
    "completed = Parallel(n_jobs=4, verbose=10)(delayed(f)(fixme[x]) for x in range(len(fixme)))"
   ]
  },
  {
   "cell_type": "code",
   "execution_count": 10,
   "id": "13a8de94",
   "metadata": {},
   "outputs": [
    {
     "data": {
      "text/plain": [
       "[('28135', 'run complete')]"
      ]
     },
     "execution_count": 10,
     "metadata": {},
     "output_type": "execute_result"
    }
   ],
   "source": [
    "completed"
   ]
  },
  {
   "cell_type": "code",
   "execution_count": null,
   "id": "bc7ae16f",
   "metadata": {},
   "outputs": [],
   "source": [
    "print('Done in {0:.1f} seconds'.format(time.time() - start_time))"
   ]
  },
  {
   "cell_type": "code",
   "execution_count": null,
   "id": "d6eee032",
   "metadata": {},
   "outputs": [],
   "source": [
    "#merge all parquet files in ./output/*.parquet"
   ]
  }
 ],
 "metadata": {
  "kernelspec": {
   "display_name": "Python 3 (ipykernel)",
   "language": "python",
   "name": "python3"
  },
  "language_info": {
   "codemirror_mode": {
    "name": "ipython",
    "version": 3
   },
   "file_extension": ".py",
   "mimetype": "text/x-python",
   "name": "python",
   "nbconvert_exporter": "python",
   "pygments_lexer": "ipython3",
   "version": "3.10.13"
  }
 },
 "nbformat": 4,
 "nbformat_minor": 5
}
