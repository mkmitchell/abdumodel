{
 "cells": [
  {
   "cell_type": "code",
   "execution_count": 1,
   "id": "70fbf51f",
   "metadata": {},
   "outputs": [],
   "source": [
    "'''\n",
    "Getting the ABDU model to work in notebook\n",
    "\n",
    "EPSG: 5070\n",
    "'''\n",
    "import duckdb\n",
    "import geopandas as gpd\n",
    "import leafmap\n",
    "from shapely import wkt\n",
    "import pandas as pd\n",
    "import pyarrow as pa\n",
    "import geoarrow.pyarrow as ga\n",
    "import geoarrow.pandas as _\n",
    "import rasterio\n",
    "from rasterio import mask\n",
    "from shapely.geometry import shape\n",
    "\n",
    "con = duckdb.connect()\n",
    "con.install_extension(\"spatial\")\n",
    "con.load_extension(\"spatial\")\n",
    "con.install_extension(\"azure\")\n",
    "con.load_extension(\"azure\")\n",
    "con.install_extension(\"json\")\n",
    "con.load_extension(\"json\")"
   ]
  },
  {
   "cell_type": "code",
   "execution_count": 2,
   "id": "d8aac14d",
   "metadata": {},
   "outputs": [
    {
     "data": {
      "text/plain": [
       "'0.14.1'"
      ]
     },
     "execution_count": 2,
     "metadata": {},
     "output_type": "execute_result"
    }
   ],
   "source": [
    "gpd.__version__"
   ]
  },
  {
   "cell_type": "code",
   "execution_count": 3,
   "id": "58d554b4",
   "metadata": {},
   "outputs": [],
   "source": [
    "'''\n",
    "Read in AOI.  Need it projected as 4326 and 5070.  Unfortunately projecting isn't working smoothly for me and keeps providing infinite values.\n",
    "'''\n",
    "inaoifile = 'test.parquet'\n",
    "#con.sql(\"CREATE TABLE aoi AS SELECT * FROM ST_READ('{0}')\".format(inaoi))\n",
    "inaoigpd = gpd.read_parquet(inaoifile)\n",
    "inepsg = inaoigpd.crs.to_epsg()\n",
    "inaoi = pd.read_parquet(inaoifile)\n",
    "if inepsg == 5070:\n",
    "    con.sql(\"CREATE OR REPLACE TABLE aoi5070 AS SELECT * EXCLUDE geometry, ST_AsText(ST_GeomFromWKB(geometry)) AS geometry FROM inaoi\")\n",
    "    inaoi4326 = inaoigpd.to_crs(4326)\n",
    "    inaoi4326['geometry'] = inaoi4326.to_wkb().geometry\n",
    "    inaoi4326 = pd.DataFrame(inaoi4326)\n",
    "    con.sql(\"CREATE OR REPLACE TABLE aoi4326 AS SELECT * EXCLUDE geometry, ST_AsText(ST_GeomFromWKB(geometry)) AS geometry FROM inaoi4326\")\n",
    "elif inepsg == 4326:\n",
    "    con.sql(\"CREATE OR REPLACE TABLE aoi4326 AS SELECT * EXCLUDE geometry, ST_AsText(ST_GeomFromWKB(geometry)) AS geometry FROM inaoi\")\n",
    "    inaoi5070 = inaoi.to_crs(5070)\n",
    "    inaoi5070['geometry'] = inaoi5070.to_wkb().geometry\n",
    "    inaoi5070 = pd.DataFrame(inaoi5070)\n",
    "    con.sql(\"CREATE OR REPLACE TABLE aoi5070 AS SELECT * EXCLUDE geometry, ST_AsText(ST_GeomFromWKB(geometry)) AS geometry FROM inaoi5070\")\n",
    "else:\n",
    "    inaoi5070 = inaoi.to_crs(5070)\n",
    "    inaoi5070['geometry'] = inaoi5070.to_wkb().geometry\n",
    "    inaoi5070 = pd.DataFrame(inaoi5070)\n",
    "    con.sql(\"CREATE OR REPLACE TABLE aoi5070 AS SELECT * EXCLUDE geometry, ST_AsText(ST_GeomFromWKB(geometry)) AS geometry FROM inaoi5070\")\n",
    "    inaoi4326 = inaoi.to_crs(4326)\n",
    "    inaoi4326['geometry'] = inaoi4326.to_wkb().geometry\n",
    "    inaoi4326 = pd.DataFrame(inaoi4326)    \n",
    "    con.sql(\"CREATE OR REPLACE TABLE aoi4326 AS SELECT * EXCLUDE geometry, ST_AsText(ST_GeomFromWKB(geometry)) AS geometry FROM inaoi4326\")"
   ]
  },
  {
   "cell_type": "code",
   "execution_count": 4,
   "id": "3a8b78c3",
   "metadata": {},
   "outputs": [
    {
     "data": {
      "application/vnd.jupyter.widget-view+json": {
       "model_id": "4375ced06d9446b3aca85beab8694bfe",
       "version_major": 2,
       "version_minor": 0
      },
      "text/plain": [
       "FloatProgress(value=0.0, layout=Layout(width='auto'), style=ProgressStyle(bar_color='black'))"
      ]
     },
     "metadata": {},
     "output_type": "display_data"
    }
   ],
   "source": [
    "'''\n",
    "Read in hucs partitioned to huc2/huc4 level that overlap with the aoi.  Don't clip hucs\n",
    "'''\n",
    "con.sql(\"SET azure_storage_connection_string = 'DefaultEndpointsProtocol=https;AccountName=giscog;EndpointSuffix=core.windows.net';\")\n",
    "con.sql(f\"\"\"\n",
    "CREATE OR REPLACE TABLE huc12 AS\n",
    "SELECT LEFT(huc12,2) AS huc2,LEFT(huc12,4) AS huc4, huc12, areaacres, huc.geometry\n",
    "FROM (SELECT huc12, areaacres, geometry FROM read_parquet('azure://abdu/huc/**/*.parquet')\n",
    "WHERE CAST(LEFT(huc12,2) AS INTEGER)<=12) AS huc\n",
    "JOIN aoi5070 ON \n",
    "ST_Intersects(ST_GeomFromWKB(huc.geometry), ST_GeomFromText(aoi5070.geometry))\n",
    "\"\"\")"
   ]
  },
  {
   "cell_type": "code",
   "execution_count": 5,
   "id": "1383a522",
   "metadata": {},
   "outputs": [
    {
     "name": "stdout",
     "output_type": "stream",
     "text": [
      "['0801', '0802']\n"
     ]
    },
    {
     "data": {
      "application/vnd.jupyter.widget-view+json": {
       "model_id": "cdb12ffc7403436eb3ce159031f06540",
       "version_major": 2,
       "version_minor": 0
      },
      "text/plain": [
       "FloatProgress(value=0.0, layout=Layout(width='auto'), style=ProgressStyle(bar_color='black'))"
      ]
     },
     "metadata": {},
     "output_type": "display_data"
    },
    {
     "name": "stdout",
     "output_type": "stream",
     "text": [
      "CPU times: total: 1min 46s\n",
      "Wall time: 8min 28s\n"
     ]
    }
   ],
   "source": [
    "%%time\n",
    "hucs = con.sql(\"select huc4 from huc12 GROUP BY huc4\").df().values.tolist()\n",
    "hucs = sorted([item for items in hucs for item in items])\n",
    "print(hucs)\n",
    "'''\n",
    "Clip wetlands that aren't riverine to the hucs selected by the aoi.\n",
    "'''\n",
    "con.sql(\"\"\"\n",
    "CREATE OR REPLACE TABLE wetlands AS\n",
    "SELECT ATTRIBUTE, huc12.geometry\n",
    "FROM (SELECT ATTRIBUTE, geometry FROM read_parquet('azure://abdu/nwi/**/*.parquet')\n",
    "WHERE huc4 IN {0} AND WETLAND_TYPE != 'Riverine') AS wetlnd\n",
    "JOIN huc12 ON \n",
    "ST_Intersects(ST_GeomFromWKB(wetlnd.geometry), ST_GeomFromWKB(huc12.geometry))\n",
    "\"\"\".format(tuple(hucs)))"
   ]
  },
  {
   "cell_type": "code",
   "execution_count": 6,
   "id": "c659b261",
   "metadata": {},
   "outputs": [
    {
     "data": {
      "application/vnd.jupyter.widget-view+json": {
       "model_id": "3dcdfd14cce846bb9b941d76580c0ffb",
       "version_major": 2,
       "version_minor": 0
      },
      "text/plain": [
       "FloatProgress(value=0.0, layout=Layout(width='auto'), style=ProgressStyle(bar_color='black'))"
      ]
     },
     "metadata": {},
     "output_type": "display_data"
    },
    {
     "name": "stdout",
     "output_type": "stream",
     "text": [
      "CPU times: total: 1min 47s\n",
      "Wall time: 8min 7s\n"
     ]
    }
   ],
   "source": [
    "%%time\n",
    "'''\n",
    "Clip wetlands that aren't riverine to the hucs selected by the aoi.\n",
    "'''\n",
    "selectstring = \"\"\"CREATE OR REPLACE TABLE wetlands AS\n",
    "SELECT ATTRIBUTE,huc2, huc4, ST_AsText(ST_Intersection(ST_GeomFromWKB(wetlnd.geometry), ST_GeomFromWKB(huc12.geometry))) as geometry\n",
    "FROM (SELECT ATTRIBUTE, geometry FROM read_parquet('azure://abdu/nwi/**/*.parquet') \n",
    "WHERE WETLAND_TYPE != 'Riverine' AND huc4 IN {0}) AS wetlnd\n",
    "JOIN huc12 ON \n",
    "ST_Intersects(ST_GeomFromWKB(wetlnd.geometry), ST_GeomFromWKB(huc12.geometry))\n",
    "\"\"\".format(tuple(hucs))\n",
    "con.sql(selectstring)"
   ]
  },
  {
   "cell_type": "code",
   "execution_count": 7,
   "id": "9bc6f466",
   "metadata": {},
   "outputs": [
    {
     "data": {
      "application/vnd.jupyter.widget-view+json": {
       "model_id": "30124be1175840c58f2f6473e962f1a8",
       "version_major": 2,
       "version_minor": 0
      },
      "text/plain": [
       "FloatProgress(value=0.0, layout=Layout(width='auto'), style=ProgressStyle(bar_color='black'))"
      ]
     },
     "metadata": {},
     "output_type": "display_data"
    },
    {
     "data": {
      "application/vnd.jupyter.widget-view+json": {
       "model_id": "38e1a039d76d4992af266907e60f7cd3",
       "version_major": 2,
       "version_minor": 0
      },
      "text/plain": [
       "FloatProgress(value=0.0, layout=Layout(width='auto'), style=ProgressStyle(bar_color='black'))"
      ]
     },
     "metadata": {},
     "output_type": "display_data"
    }
   ],
   "source": [
    "'''\n",
    "Read in demand clipped by hucs\n",
    "'''\n",
    "con.sql(f\"\"\"\n",
    "CREATE OR REPLACE TABLE demandfull AS SELECT * EXCLUDE geometry, ST_AsText(ST_GeomFromWKB(read_parquet.geometry)) as geometry\n",
    "FROM read_parquet('azure://abdu/Demand9Species.parquet')\n",
    "JOIN huc12 ON \n",
    "ST_Intersects(ST_GeomFromWKB(read_parquet.geometry), ST_GeomFromWKB(huc12.geometry))\n",
    "\"\"\")\n",
    "con.sql(f\"\"\"\n",
    "CREATE OR REPLACE TABLE demand AS SELECT * EXCLUDE geometry, ST_AsText(ST_Intersection(ST_GeomFromWKB(huc12.geometry), ST_GeomFromWKB(read_parquet.geometry))) as geometry\n",
    "FROM read_parquet('azure://abdu/Demand9Species.parquet')\n",
    "JOIN huc12 ON \n",
    "ST_Intersects(ST_GeomFromWKB(huc12.geometry), ST_GeomFromWKB(read_parquet.geometry))\n",
    "\"\"\")\n",
    "con.sql(\"\"\"CREATE OR REPLACE TABLE demand AS SELECT fips, huc12, CODE, LTADUD, LTADemand, LTAPopObj, x80DUD, X80Demand, X80PopObj, ST_Area(geometry)*0.0001 AS ha, geometry FROM (\n",
    "SELECT fips, huc12.huc12, CODE, LTADUD, LTADemand, LTAPopObj, x80DUD, X80Demand, X80PopObj, ST_Intersection(ST_GeomFromText(demand.geometry), ST_GeomFromWKB(huc12.geometry)) as geometry FROM demand\n",
    "JOIN huc12 ON ST_Intersects(ST_GeomFromText(demand.geometry), ST_GeomFromWKB(huc12.geometry))\n",
    "WHERE species='All'\n",
    ")\n",
    "\"\"\")"
   ]
  },
  {
   "cell_type": "code",
   "execution_count": 8,
   "id": "61983cb9",
   "metadata": {},
   "outputs": [
    {
     "data": {
      "application/vnd.jupyter.widget-view+json": {
       "model_id": "282da091e6d64471b66bc20b10144727",
       "version_major": 2,
       "version_minor": 0
      },
      "text/plain": [
       "FloatProgress(value=0.0, layout=Layout(width='auto'), style=ProgressStyle(bar_color='black'))"
      ]
     },
     "metadata": {},
     "output_type": "display_data"
    }
   ],
   "source": [
    "'''\n",
    "Read in PADUS\n",
    "'''\n",
    "con.sql(\"\"\"\n",
    "CREATE OR REPLACE TABLE protected AS \n",
    "SELECT CATEGORY, huc2, huc4, ST_AsText(ST_Intersection(ST_GeomFromWKB(huc12.geometry), ST_GeomFromWKB(prot.geometry))) as geometry\n",
    "FROM (SELECT CATEGORY, geometry FROM read_parquet('azure://abdu/padus/**/*.parquet')\n",
    "WHERE CATEGORY IN ('Fee', 'Easements', 'Other') AND huc4 IN {0}) AS prot\n",
    "JOIN huc12 ON \n",
    "ST_Intersects(ST_GeomFromWKB(huc12.geometry), ST_GeomFromWKB(prot.geometry))\n",
    "\"\"\".format(tuple(hucs)))"
   ]
  },
  {
   "cell_type": "code",
   "execution_count": 9,
   "id": "40468785",
   "metadata": {},
   "outputs": [],
   "source": [
    "'''\n",
    "Read in NLCD clipped to hucs\n",
    "'''\n",
    "with rasterio.open('https://giscog.blob.core.windows.net/newcontainer/nlcd2019_cog.tif') as src:\n",
    "    # Clip the raster to the geometry of the shapefile\n",
    "    clipped_data, transform = mask.mask(src, inaoigpd.geometry, crop=True)\n",
    "\n",
    "clipped_data[clipped_data>23]=0\n",
    "clipped_data[clipped_data<21]=0\n",
    "clipped_data[clipped_data==21]=1\n",
    "clipped_data[clipped_data==22]=1\n",
    "clipped_data[clipped_data==23]=1\n",
    "shapes = rasterio.features.shapes(clipped_data[0], transform=transform, mask=clipped_data[0] == 1)\n",
    "# Create a GeoDataFrame from the vector polygons\n",
    "gdf_vector = gpd.GeoDataFrame({'geometry': [shape(geom) for geom, value in shapes]})\n",
    "gdf_vector['geometry'] = gdf_vector.to_wkb().geometry\n",
    "con.sql(\"CREATE OR REPLACE TABLE urban AS SELECT * EXCLUDE geometry, ST_AsText(ST_GeomFromWKB(geometry)) AS geometry FROM gdf_vector\")"
   ]
  },
  {
   "cell_type": "code",
   "execution_count": 10,
   "id": "8fc1ec5f",
   "metadata": {},
   "outputs": [
    {
     "data": {
      "application/vnd.jupyter.widget-view+json": {
       "model_id": "f5e74c4663f34c6a965fbba1daa20ec2",
       "version_major": 2,
       "version_minor": 0
      },
      "text/plain": [
       "FloatProgress(value=0.0, layout=Layout(width='auto'), style=ProgressStyle(bar_color='black'))"
      ]
     },
     "metadata": {},
     "output_type": "display_data"
    },
    {
     "data": {
      "application/vnd.jupyter.widget-view+json": {
       "model_id": "3cc88ebdf0d843c1936dd32f3ad5df1a",
       "version_major": 2,
       "version_minor": 0
      },
      "text/plain": [
       "FloatProgress(value=0.0, layout=Layout(width='auto'), style=ProgressStyle(bar_color='black'))"
      ]
     },
     "metadata": {},
     "output_type": "display_data"
    }
   ],
   "source": [
    "'''\n",
    "Import wetland crossclass data and assign classes to the nwi table\n",
    "'''\n",
    "con.sql(\"\"\"CREATE OR REPLACE TABLE crossnwi AS (UNPIVOT (FROM (SELECT * FROM read_json_auto('aoiWetland.json', maximum_object_size=100000000))) ON COLUMNS(*))\"\"\")\n",
    "con.sql(\"\"\"CREATE OR REPLACE TABLE crossnwi AS SELECT name, UNNEST(value) AS value FROM crossnwi\"\"\")\n",
    "con.sql(\"\"\"CREATE OR REPLACE TABLE wetlands AS\n",
    "SELECT name, geometry FROM (SELECT * FROM wetlands) AS wetselect\n",
    "LEFT JOIN crossnwi ON wetselect.ATTRIBUTE LIKE crossnwi.value\n",
    "\"\"\")"
   ]
  },
  {
   "cell_type": "code",
   "execution_count": 11,
   "id": "46fcc924",
   "metadata": {},
   "outputs": [
    {
     "data": {
      "text/plain": [
       "'\\n#################################\\nEnd of data import\\nStarting model process\\n#################################\\n'"
      ]
     },
     "execution_count": 11,
     "metadata": {},
     "output_type": "execute_result"
    }
   ],
   "source": [
    "'''\n",
    "#################################\n",
    "End of data import\n",
    "Starting model process\n",
    "#################################\n",
    "'''\n",
    "#### Prepping energy - Join energy to nwi.  Need to create the spatial kcal table first. What's the best way to do this?\n",
    "# parquet is the best to read in but it's not easily editable.  Rest service would be ok but again, not great because\n",
    "# reading those is difficult.  I wonder if"
   ]
  },
  {
   "cell_type": "code",
   "execution_count": null,
   "id": "e7a368ca",
   "metadata": {},
   "outputs": [],
   "source": []
  },
  {
   "cell_type": "code",
   "execution_count": 12,
   "id": "96a32432",
   "metadata": {},
   "outputs": [
    {
     "data": {
      "text/plain": [
       "'\\nDemand\\n\\n######\\nNeed to proportion demand based on available energy.  Available energy is spatially explicit but demand is at the fips\\ncount level.  We need to calculate total energy and demand at the huc12 scale.\\nTo proportion demand we need to calclulate total energy by fips then calculate how much energy is in each huc12. A proportion\\ncan then be calculated by dividing total energy within a fips by (huc12,fips) group.  Demand at the huc12 level is multiplied\\nby that energy proportion.\\n######\\n'"
      ]
     },
     "execution_count": 12,
     "metadata": {},
     "output_type": "execute_result"
    }
   ],
   "source": [
    "'''\n",
    "Demand\n",
    "\n",
    "######\n",
    "Need to proportion demand based on available energy.  Available energy is spatially explicit but demand is at the fips\n",
    "count level.  We need to calculate total energy and demand at the huc12 scale.\n",
    "To proportion demand we need to calclulate total energy by fips then calculate how much energy is in each huc12. A proportion\n",
    "can then be calculated by dividing total energy within a fips by (huc12,fips) group.  Demand at the huc12 level is multiplied\n",
    "by that energy proportion.\n",
    "######\n",
    "'''"
   ]
  },
  {
   "cell_type": "code",
   "execution_count": 13,
   "id": "ffcfb106",
   "metadata": {},
   "outputs": [
    {
     "data": {
      "text/plain": [
       "[['29069'], ['05093'], ['47097'], ['29155'], ['05111']]"
      ]
     },
     "execution_count": 13,
     "metadata": {},
     "output_type": "execute_result"
    }
   ],
   "source": [
    "# Need to sum energy within fips\n",
    "# The aoi touches multiple huc12s which intersect multiple fips\n",
    "con.sql(\"\"\"\n",
    "CREATE OR REPLACE TABLE demandfull AS SELECT DISTINCT fips, ST_Union_Agg(ST_GeomFromText(geometry)) as geometry from demandfull\n",
    "group by fips\n",
    "\"\"\")\n",
    "fullfips = con.sql(\"\"\"SELECT fips from demandfull\"\"\").df().values.tolist()\n",
    "fullfips"
   ]
  },
  {
   "cell_type": "code",
   "execution_count": 14,
   "id": "c2979775",
   "metadata": {},
   "outputs": [
    {
     "data": {
      "application/vnd.jupyter.widget-view+json": {
       "model_id": "f7154bd665194128a0292a25a262cd86",
       "version_major": 2,
       "version_minor": 0
      },
      "text/plain": [
       "FloatProgress(value=0.0, layout=Layout(width='auto'), style=ProgressStyle(bar_color='black'))"
      ]
     },
     "metadata": {},
     "output_type": "display_data"
    },
    {
     "data": {
      "application/vnd.jupyter.widget-view+json": {
       "model_id": "e1ba30bf45e14ada8602bca62d552824",
       "version_major": 2,
       "version_minor": 0
      },
      "text/plain": [
       "FloatProgress(value=0.0, layout=Layout(width='auto'), style=ProgressStyle(bar_color='black'))"
      ]
     },
     "metadata": {},
     "output_type": "display_data"
    },
    {
     "data": {
      "application/vnd.jupyter.widget-view+json": {
       "model_id": "b0f16bc5021345d488e7894e45dc55c5",
       "version_major": 2,
       "version_minor": 0
      },
      "text/plain": [
       "FloatProgress(value=0.0, layout=Layout(width='auto'), style=ProgressStyle(bar_color='black'))"
      ]
     },
     "metadata": {},
     "output_type": "display_data"
    },
    {
     "data": {
      "application/vnd.jupyter.widget-view+json": {
       "model_id": "dcf96c2bc5f947c28b1342cb214b13f1",
       "version_major": 2,
       "version_minor": 0
      },
      "text/plain": [
       "FloatProgress(value=0.0, layout=Layout(width='auto'), style=ProgressStyle(bar_color='black'))"
      ]
     },
     "metadata": {},
     "output_type": "display_data"
    },
    {
     "data": {
      "application/vnd.jupyter.widget-view+json": {
       "model_id": "43572abe89634fd682ed1c2d76c9242d",
       "version_major": 2,
       "version_minor": 0
      },
      "text/plain": [
       "FloatProgress(value=0.0, layout=Layout(width='auto'), style=ProgressStyle(bar_color='black'))"
      ]
     },
     "metadata": {},
     "output_type": "display_data"
    },
    {
     "data": {
      "application/vnd.jupyter.widget-view+json": {
       "model_id": "ec7546203c0144eaa042b60345e1da8a",
       "version_major": 2,
       "version_minor": 0
      },
      "text/plain": [
       "FloatProgress(value=0.0, layout=Layout(width='auto'), style=ProgressStyle(bar_color='black'))"
      ]
     },
     "metadata": {},
     "output_type": "display_data"
    },
    {
     "data": {
      "application/vnd.jupyter.widget-view+json": {
       "model_id": "03606c56faa14ab68f0b5313014fefa9",
       "version_major": 2,
       "version_minor": 0
      },
      "text/plain": [
       "FloatProgress(value=0.0, layout=Layout(width='auto'), style=ProgressStyle(bar_color='black'))"
      ]
     },
     "metadata": {},
     "output_type": "display_data"
    },
    {
     "data": {
      "application/vnd.jupyter.widget-view+json": {
       "model_id": "1649a8c9d1e14e079739f7e3cff4781e",
       "version_major": 2,
       "version_minor": 0
      },
      "text/plain": [
       "FloatProgress(value=0.0, layout=Layout(width='auto'), style=ProgressStyle(bar_color='black'))"
      ]
     },
     "metadata": {},
     "output_type": "display_data"
    },
    {
     "data": {
      "application/vnd.jupyter.widget-view+json": {
       "model_id": "92c881e6dc1141dc9fd893132a62c3bb",
       "version_major": 2,
       "version_minor": 0
      },
      "text/plain": [
       "FloatProgress(value=0.0, layout=Layout(width='auto'), style=ProgressStyle(bar_color='black'))"
      ]
     },
     "metadata": {},
     "output_type": "display_data"
    },
    {
     "data": {
      "application/vnd.jupyter.widget-view+json": {
       "model_id": "c3cf72992e4c4fc9bda6e70478a81b28",
       "version_major": 2,
       "version_minor": 0
      },
      "text/plain": [
       "FloatProgress(value=0.0, layout=Layout(width='auto'), style=ProgressStyle(bar_color='black'))"
      ]
     },
     "metadata": {},
     "output_type": "display_data"
    },
    {
     "data": {
      "application/vnd.jupyter.widget-view+json": {
       "model_id": "7d2837bf03a3417c8594ddf3c1ec6a98",
       "version_major": 2,
       "version_minor": 0
      },
      "text/plain": [
       "FloatProgress(value=0.0, layout=Layout(width='auto'), style=ProgressStyle(bar_color='black'))"
      ]
     },
     "metadata": {},
     "output_type": "display_data"
    },
    {
     "data": {
      "application/vnd.jupyter.widget-view+json": {
       "model_id": "f2452c3b3c98474c91cddf156f9826b9",
       "version_major": 2,
       "version_minor": 0
      },
      "text/plain": [
       "FloatProgress(value=0.0, layout=Layout(width='auto'), style=ProgressStyle(bar_color='black'))"
      ]
     },
     "metadata": {},
     "output_type": "display_data"
    },
    {
     "data": {
      "application/vnd.jupyter.widget-view+json": {
       "model_id": "ca6e1733220d4aea9e95c27321f07918",
       "version_major": 2,
       "version_minor": 0
      },
      "text/plain": [
       "FloatProgress(value=0.0, layout=Layout(width='auto'), style=ProgressStyle(bar_color='black'))"
      ]
     },
     "metadata": {},
     "output_type": "display_data"
    },
    {
     "data": {
      "application/vnd.jupyter.widget-view+json": {
       "model_id": "65ed81af6e584b8d8a19c7e415795cc8",
       "version_major": 2,
       "version_minor": 0
      },
      "text/plain": [
       "FloatProgress(value=0.0, layout=Layout(width='auto'), style=ProgressStyle(bar_color='black'))"
      ]
     },
     "metadata": {},
     "output_type": "display_data"
    },
    {
     "data": {
      "application/vnd.jupyter.widget-view+json": {
       "model_id": "8867463d06da4a8f97e6017ec2f29af0",
       "version_major": 2,
       "version_minor": 0
      },
      "text/plain": [
       "FloatProgress(value=0.0, layout=Layout(width='auto'), style=ProgressStyle(bar_color='black'))"
      ]
     },
     "metadata": {},
     "output_type": "display_data"
    },
    {
     "data": {
      "application/vnd.jupyter.widget-view+json": {
       "model_id": "38f0d1f29b49448c875fa180e4a82a4e",
       "version_major": 2,
       "version_minor": 0
      },
      "text/plain": [
       "FloatProgress(value=0.0, layout=Layout(width='auto'), style=ProgressStyle(bar_color='black'))"
      ]
     },
     "metadata": {},
     "output_type": "display_data"
    },
    {
     "data": {
      "application/vnd.jupyter.widget-view+json": {
       "model_id": "ce13982174cd472d96268a4b572794b3",
       "version_major": 2,
       "version_minor": 0
      },
      "text/plain": [
       "FloatProgress(value=0.0, layout=Layout(width='auto'), style=ProgressStyle(bar_color='black'))"
      ]
     },
     "metadata": {},
     "output_type": "display_data"
    },
    {
     "data": {
      "application/vnd.jupyter.widget-view+json": {
       "model_id": "299ce53088954969b2e28439fd25a1e5",
       "version_major": 2,
       "version_minor": 0
      },
      "text/plain": [
       "FloatProgress(value=0.0, layout=Layout(width='auto'), style=ProgressStyle(bar_color='black'))"
      ]
     },
     "metadata": {},
     "output_type": "display_data"
    },
    {
     "data": {
      "application/vnd.jupyter.widget-view+json": {
       "model_id": "663d569939b945438b99fd2609d3eac9",
       "version_major": 2,
       "version_minor": 0
      },
      "text/plain": [
       "FloatProgress(value=0.0, layout=Layout(width='auto'), style=ProgressStyle(bar_color='black'))"
      ]
     },
     "metadata": {},
     "output_type": "display_data"
    },
    {
     "data": {
      "application/vnd.jupyter.widget-view+json": {
       "model_id": "0f558545d4c6492287bba4f53ec0f79d",
       "version_major": 2,
       "version_minor": 0
      },
      "text/plain": [
       "FloatProgress(value=0.0, layout=Layout(width='auto'), style=ProgressStyle(bar_color='black'))"
      ]
     },
     "metadata": {},
     "output_type": "display_data"
    },
    {
     "data": {
      "text/plain": [
       "┌─────────┬────────────────────┐\n",
       "│  fips   │    fipsnrgysum     │\n",
       "│ varchar │       double       │\n",
       "├─────────┼────────────────────┤\n",
       "│ 29069   │  2179175072.302092 │\n",
       "│ 05093   │  4343586557.220324 │\n",
       "│ 47097   │  6412826086.457127 │\n",
       "│ 29155   │ 3659891166.0527077 │\n",
       "│ 05111   │  4853062003.605463 │\n",
       "└─────────┴────────────────────┘"
      ]
     },
     "execution_count": 14,
     "metadata": {},
     "output_type": "execute_result"
    }
   ],
   "source": [
    "'''\n",
    "Iterate through fips.\n",
    "Clip wetlands that aren't riverine to the fips selected by the aoi to calculate total energy within the fips\n",
    "'''\n",
    "tmp = pd.DataFrame()\n",
    "for fip in fullfips:\n",
    "    selectstring = \"\"\"\n",
    "    CREATE OR REPLACE table tmpwet AS\n",
    "    (\n",
    "    SELECT ATTRIBUTE,fips, ST_AsText(ST_Intersection(ST_GeomFromWKB(wetlnd.geometry), dmd.geometry)) as geometry\n",
    "    FROM (SELECT ATTRIBUTE, geometry FROM read_parquet('azure://abdu/nwi/**/*.parquet')\n",
    "    WHERE WETLAND_TYPE != 'Riverine') AS wetlnd\n",
    "    JOIN (SELECT fips, geometry FROM demandfull WHERE fips='{0}') as dmd ON \n",
    "    ST_Intersects(ST_GeomFromWKB(wetlnd.geometry), dmd.geometry)\n",
    "    )\n",
    "    \"\"\".format(fip[0])\n",
    "    con.sql(selectstring)\n",
    "    con.sql(\"\"\"CREATE OR REPLACE TABLE crossnwi AS (UNPIVOT (FROM (SELECT * FROM read_json_auto('aoiWetland.json', maximum_object_size=100000000))) ON COLUMNS(*))\"\"\")\n",
    "    con.sql(\"\"\"CREATE OR REPLACE TABLE crossnwi AS SELECT name, UNNEST(value) AS value FROM crossnwi\"\"\")\n",
    "    con.sql(\"\"\"CREATE OR REPLACE TABLE tmpwet AS\n",
    "    SELECT name, fips, geometry FROM (SELECT * FROM tmpwet) AS wetselect\n",
    "    LEFT JOIN crossnwi ON wetselect.ATTRIBUTE LIKE crossnwi.value\n",
    "    \"\"\")\n",
    "    con.sql(f\"\"\"CREATE OR REPLACE TABLE tmpwet AS\n",
    "    (SELECT replace(tmpwet.name, '_', '') AS name, fips, geometry, kcal FROM tmpwet\n",
    "    LEFT JOIN read_csv_auto('azure://abdu/kcal.csv') ON replace(tmpwet.name, '_', '') = read_csv_auto.habitatType\n",
    "    WHERE tmpwet.name IS NOT NULL)\n",
    "    \"\"\")\n",
    "    con.sql(\"\"\"CREATE OR REPLACE TABLE newdata AS (\n",
    "    SELECT name, fips, kcal, ST_Area(geometry)*0.0001 AS ha, ha*kcal AS avalNrgy FROM(\n",
    "    SELECT name, fips, kcal, ST_Union_Agg(ST_GeomFromText(geometry)) AS geometry FROM tmpwet\n",
    "    GROUP BY name, fips, kcal))\n",
    "    \"\"\")\n",
    "    final = con.sql(\"SELECT fips, SUM(avalNrgy) from newdata GROUP BY fips\").df()\n",
    "    tmp = pd.concat([tmp, final])\n",
    "con.sql(\"\"\"CREATE OR REPLACE TABLE fipsavalNRG AS SELECT fips, \"sum(avalNrgy)\" as fipsnrgysum from tmp\"\"\")\n",
    "con.sql(\"\"\"select * from fipsavalNRG\"\"\")"
   ]
  },
  {
   "cell_type": "code",
   "execution_count": 15,
   "id": "42ae2547",
   "metadata": {},
   "outputs": [],
   "source": [
    "'''\n",
    "######\n",
    "Read in kcal.csv from azure and join to wetlands.\n",
    "This file is the habitat type (habitatType) and the kcal/Ha (kcal)\n",
    "######\n",
    "'''\n",
    "#\n",
    "con.sql(f\"\"\"CREATE OR REPLACE TABLE wetlands AS\n",
    "(SELECT replace(wetlands.name, '_', '') AS name, geometry, kcal FROM wetlands\n",
    "LEFT JOIN read_csv_auto('azure://abdu/kcal.csv') ON replace(wetlands.name, '_', '') = read_csv_auto.habitatType\n",
    "WHERE wetlands.name IS NOT NULL)\n",
    "\"\"\")"
   ]
  },
  {
   "cell_type": "code",
   "execution_count": 16,
   "id": "ee004680",
   "metadata": {},
   "outputs": [],
   "source": [
    "con.sql(\"\"\"CREATE OR REPLACE TABLE hucdemandenergy AS \n",
    "    (SELECT name,fips, huc12, CODE, LTADUD, LTADemand, LTAPopObj, x80DUD, X80Demand, X80PopObj, kcal, \n",
    "    ST_Intersection(ST_GeomFromText(wetlands.geometry), (demand.geometry)) as geometry FROM wetlands\n",
    "    JOIN demand ON ST_Intersects(ST_GeomFromText(wetlands.geometry), (demand.geometry)))\"\"\")"
   ]
  },
  {
   "cell_type": "code",
   "execution_count": 17,
   "id": "70336ac4",
   "metadata": {},
   "outputs": [],
   "source": [
    "'''\n",
    "######\n",
    "Calculate available energy (avalNrgy) of wetlands by calculating area in Hectares (HA) and multiplying by kcal.\n",
    "Select only distinct rows.\n",
    "Create new table habitatenergy\n",
    "######\n",
    "'''\n",
    "#\n",
    "con.sql(\"\"\"CREATE OR REPLACE TABLE hucdemandenergy AS (SELECT DISTINCT name, fips, huc12, CODE, LTADUD, LTADemand, LTAPopObj, x80DUD, X80Demand, X80PopObj, kcal, geometry, ST_Area(geometry)*0.0001 AS ha,ha*kcal AS avalNrgy FROM hucdemandenergy)\"\"\")\n",
    "# DATA CHECK\n",
    "# con.sql(\"\"\"COPY (SELECT DISTINCT name, ST_AsWKB(ST_GeomFromText(geometry)) as geometry, ST_Area(ST_GeomFromText(geometry))*0.0001 AS ha, ha*kcal AS avalNrgy FROM wetlands) TO 'testwetland.parquet' (FORMAT PARQUET)\"\"\")"
   ]
  },
  {
   "cell_type": "code",
   "execution_count": 18,
   "id": "11ab9a85",
   "metadata": {},
   "outputs": [],
   "source": [
    "con.sql(\"\"\"CREATE OR REPLACE TABLE test AS (select name, hucdemandenergy.fips as fips,huc12, CODE, LTADUD, LTADemand, LTAPopObj, x80DUD, X80Demand, X80PopObj, kcal, avalNrgy, fipsnrgysum, (hucdemandenergy.avalNrgy/fipsavalNRG.fipsnrgysum) as pct, geometry from hucdemandenergy\n",
    "    JOIN fipsavalNRG on hucdemandenergy.fips = fipsavalNRG.fips\n",
    "    GROUP BY name, hucdemandenergy.fips, huc12, CODE, LTADUD, LTADemand, LTAPopObj, x80DUD, X80Demand, X80PopObj, kcal, avalNrgy, fipsnrgysum, geometry)\"\"\")"
   ]
  },
  {
   "cell_type": "code",
   "execution_count": 19,
   "id": "679ae053",
   "metadata": {},
   "outputs": [],
   "source": [
    "fullfips = sorted([item for items in fullfips for item in items])\n",
    "sqlcall =\"\"\"CREATE OR REPLACE TABLE rdydemand as SELECT * FROM test WHERE fips In {0}\"\"\".format(tuple(fullfips))\n",
    "con.sql(sqlcall)"
   ]
  },
  {
   "cell_type": "code",
   "execution_count": 24,
   "id": "6d9dc440",
   "metadata": {},
   "outputs": [
    {
     "ename": "BinderException",
     "evalue": "Binder Error: Referenced column \"pct\" not found in FROM clause!\nCandidate bindings: \"rdydemand.CODE\"\nLINE 2: sum(pct * LTADUD) AS LTADUD,\n            ^",
     "output_type": "error",
     "traceback": [
      "\u001b[1;31m---------------------------------------------------------------------------\u001b[0m",
      "\u001b[1;31mBinderException\u001b[0m                           Traceback (most recent call last)",
      "Cell \u001b[1;32mIn[24], line 2\u001b[0m\n\u001b[0;32m      1\u001b[0m \u001b[38;5;66;03m#con.sql(\"\"\"describe rdydemand\"\"\")\u001b[39;00m\n\u001b[1;32m----> 2\u001b[0m \u001b[43mcon\u001b[49m\u001b[38;5;241;43m.\u001b[39;49m\u001b[43msql\u001b[49m\u001b[43m(\u001b[49m\u001b[38;5;124;43m\"\"\"\u001b[39;49m\u001b[38;5;124;43mCREATE OR REPLACE TABLE hucdemand AS (SELECT huc12, code, \u001b[39;49m\n\u001b[0;32m      3\u001b[0m \u001b[38;5;124;43msum(pct * LTADUD) AS LTADUD,\u001b[39;49m\n\u001b[0;32m      4\u001b[0m \u001b[38;5;124;43msum(pct * LTADemand) AS LTADemand,\u001b[39;49m\n\u001b[0;32m      5\u001b[0m \u001b[38;5;124;43msum(pct * LTAPopObj) AS LTAPopObj,\u001b[39;49m\n\u001b[0;32m      6\u001b[0m \u001b[38;5;124;43msum(pct * x80DUD) AS x80DUD,\u001b[39;49m\n\u001b[0;32m      7\u001b[0m \u001b[38;5;124;43msum(pct * X80Demand) AS X80Demand,\u001b[39;49m\n\u001b[0;32m      8\u001b[0m \u001b[38;5;124;43msum(pct * X80PopObj) AS X80PopObj,\u001b[39;49m\n\u001b[0;32m      9\u001b[0m \u001b[38;5;124;43mgeometry\u001b[39;49m\n\u001b[0;32m     10\u001b[0m \u001b[38;5;124;43mFROM rdydemand\u001b[39;49m\n\u001b[0;32m     11\u001b[0m \u001b[38;5;124;43mGROUP BY huc12, code, geometry)\u001b[39;49m\u001b[38;5;124;43m\"\"\"\u001b[39;49m\u001b[43m)\u001b[49m\n",
      "\u001b[1;31mBinderException\u001b[0m: Binder Error: Referenced column \"pct\" not found in FROM clause!\nCandidate bindings: \"rdydemand.CODE\"\nLINE 2: sum(pct * LTADUD) AS LTADUD,\n            ^"
     ]
    }
   ],
   "source": [
    "#con.sql(\"\"\"describe rdydemand\"\"\")\n",
    "con.sql(\"\"\"CREATE OR REPLACE TABLE hucdemand AS (SELECT huc12, code, \n",
    "sum(pct * LTADUD) AS LTADUD,\n",
    "sum(pct * LTADemand) AS LTADemand,\n",
    "sum(pct * LTAPopObj) AS LTAPopObj,\n",
    "sum(pct * x80DUD) AS x80DUD,\n",
    "sum(pct * X80Demand) AS X80Demand,\n",
    "sum(pct * X80PopObj) AS X80PopObj,\n",
    "geometry\n",
    "FROM rdydemand\n",
    "GROUP BY huc12, code, geometry)\"\"\")"
   ]
  },
  {
   "cell_type": "code",
   "execution_count": null,
   "id": "28ad747f",
   "metadata": {},
   "outputs": [],
   "source": [
    "'''\n",
    "END Demand\n",
    "'''"
   ]
  },
  {
   "cell_type": "code",
   "execution_count": null,
   "id": "9e77cd18",
   "metadata": {},
   "outputs": [],
   "source": []
  }
 ],
 "metadata": {
  "kernelspec": {
   "display_name": "Python 3 (ipykernel)",
   "language": "python",
   "name": "python3"
  },
  "language_info": {
   "codemirror_mode": {
    "name": "ipython",
    "version": 3
   },
   "file_extension": ".py",
   "mimetype": "text/x-python",
   "name": "python",
   "nbconvert_exporter": "python",
   "pygments_lexer": "ipython3",
   "version": "3.10.13"
  }
 },
 "nbformat": 4,
 "nbformat_minor": 5
}
