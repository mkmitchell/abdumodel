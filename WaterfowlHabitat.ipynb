{
 "cells": [
  {
   "cell_type": "code",
   "execution_count": 1,
   "id": "70fbf51f",
   "metadata": {},
   "outputs": [],
   "source": [
    "'''\n",
    "Getting the ABDU model to work in notebook\n",
    "\n",
    "EPSG: 5070\n",
    "'''\n",
    "import duckdb\n",
    "import geopandas as gpd\n",
    "import leafmap\n",
    "from shapely import wkt\n",
    "import pandas as pd\n",
    "import pyarrow as pa\n",
    "import geoarrow.pyarrow as ga\n",
    "import geoarrow.pandas as _\n",
    "import rasterio\n",
    "from rasterio import mask\n",
    "from shapely.geometry import shape\n",
    "\n",
    "con = duckdb.connect()\n",
    "con.install_extension(\"spatial\")\n",
    "con.load_extension(\"spatial\")\n",
    "con.install_extension(\"azure\")\n",
    "con.load_extension(\"azure\")\n",
    "con.install_extension(\"json\")\n",
    "con.load_extension(\"json\")"
   ]
  },
  {
   "cell_type": "code",
   "execution_count": 2,
   "id": "d8aac14d",
   "metadata": {},
   "outputs": [
    {
     "data": {
      "text/plain": [
       "'0.14.1'"
      ]
     },
     "execution_count": 2,
     "metadata": {},
     "output_type": "execute_result"
    }
   ],
   "source": [
    "gpd.__version__"
   ]
  },
  {
   "cell_type": "code",
   "execution_count": 3,
   "id": "58d554b4",
   "metadata": {},
   "outputs": [],
   "source": [
    "'''\n",
    "Read in AOI.  Need it projected as 4326 and 5070.  Unfortunately projecting isn't working smoothly for me and keeps providing infinite values.\n",
    "'''\n",
    "inaoifile = 'test.parquet'\n",
    "#con.sql(\"CREATE TABLE aoi AS SELECT * FROM ST_READ('{0}')\".format(inaoi))\n",
    "inaoigpd = gpd.read_parquet(inaoifile)\n",
    "inepsg = inaoigpd.crs.to_epsg()\n",
    "inaoi = pd.read_parquet(inaoifile)\n",
    "if inepsg == 5070:\n",
    "    con.sql(\"CREATE OR REPLACE TABLE aoi5070 AS SELECT * EXCLUDE geometry, ST_AsText(ST_GeomFromWKB(geometry)) AS geometry FROM inaoi\")\n",
    "    inaoi4326 = inaoigpd.to_crs(4326)\n",
    "    inaoi4326['geometry'] = inaoi4326.to_wkb().geometry\n",
    "    inaoi4326 = pd.DataFrame(inaoi4326)\n",
    "    con.sql(\"CREATE OR REPLACE TABLE aoi4326 AS SELECT * EXCLUDE geometry, ST_AsText(ST_GeomFromWKB(geometry)) AS geometry FROM inaoi4326\")\n",
    "elif inepsg == 4326:\n",
    "    con.sql(\"CREATE OR REPLACE TABLE aoi4326 AS SELECT * EXCLUDE geometry, ST_AsText(ST_GeomFromWKB(geometry)) AS geometry FROM inaoi\")\n",
    "    inaoi5070 = inaoi.to_crs(5070)\n",
    "    inaoi5070['geometry'] = inaoi5070.to_wkb().geometry\n",
    "    inaoi5070 = pd.DataFrame(inaoi5070)\n",
    "    con.sql(\"CREATE OR REPLACE TABLE aoi5070 AS SELECT * EXCLUDE geometry, ST_AsText(ST_GeomFromWKB(geometry)) AS geometry FROM inaoi5070\")\n",
    "else:\n",
    "    inaoi5070 = inaoi.to_crs(5070)\n",
    "    inaoi5070['geometry'] = inaoi5070.to_wkb().geometry\n",
    "    inaoi5070 = pd.DataFrame(inaoi5070)\n",
    "    con.sql(\"CREATE OR REPLACE TABLE aoi5070 AS SELECT * EXCLUDE geometry, ST_AsText(ST_GeomFromWKB(geometry)) AS geometry FROM inaoi5070\")\n",
    "    inaoi4326 = inaoi.to_crs(4326)\n",
    "    inaoi4326['geometry'] = inaoi4326.to_wkb().geometry\n",
    "    inaoi4326 = pd.DataFrame(inaoi4326)    \n",
    "    con.sql(\"CREATE OR REPLACE TABLE aoi4326 AS SELECT * EXCLUDE geometry, ST_AsText(ST_GeomFromWKB(geometry)) AS geometry FROM inaoi4326\")"
   ]
  },
  {
   "cell_type": "code",
   "execution_count": 4,
   "id": "3a8b78c3",
   "metadata": {},
   "outputs": [
    {
     "data": {
      "application/vnd.jupyter.widget-view+json": {
       "model_id": "391963fe7ecc4d66b2c3889f954b7177",
       "version_major": 2,
       "version_minor": 0
      },
      "text/plain": [
       "FloatProgress(value=0.0, layout=Layout(width='auto'), style=ProgressStyle(bar_color='black'))"
      ]
     },
     "metadata": {},
     "output_type": "display_data"
    }
   ],
   "source": [
    "'''\n",
    "Read in hucs partitioned to huc2/huc4 level that overlap with the aoi.  Don't clip hucs\n",
    "'''\n",
    "con.sql(\"SET azure_storage_connection_string = 'DefaultEndpointsProtocol=https;AccountName=giscog;EndpointSuffix=core.windows.net';\")\n",
    "con.sql(f\"\"\"\n",
    "CREATE OR REPLACE TABLE huc12 AS\n",
    "SELECT LEFT(huc12,2) AS huc2,LEFT(huc12,4) AS huc4, huc12, areaacres, huc.geometry\n",
    "FROM (SELECT huc12, areaacres, geometry FROM read_parquet('azure://abdu/huc/**/*.parquet')\n",
    "WHERE CAST(LEFT(huc12,2) AS INTEGER)<=12) AS huc\n",
    "JOIN aoi5070 ON \n",
    "ST_Intersects(ST_GeomFromWKB(huc.geometry), ST_GeomFromText(aoi5070.geometry))\n",
    "\"\"\")"
   ]
  },
  {
   "cell_type": "code",
   "execution_count": 5,
   "id": "1383a522",
   "metadata": {},
   "outputs": [
    {
     "name": "stdout",
     "output_type": "stream",
     "text": [
      "['0801', '0802']\n"
     ]
    },
    {
     "data": {
      "application/vnd.jupyter.widget-view+json": {
       "model_id": "f45a47a1fe3b42c5bdb542424b6ad0f1",
       "version_major": 2,
       "version_minor": 0
      },
      "text/plain": [
       "FloatProgress(value=0.0, layout=Layout(width='auto'), style=ProgressStyle(bar_color='black'))"
      ]
     },
     "metadata": {},
     "output_type": "display_data"
    }
   ],
   "source": [
    "%%time\n",
    "hucs = con.sql(\"select huc4 from huc12 GROUP BY huc4\").df().values.tolist()\n",
    "hucs = sorted([item for items in hucs for item in items])\n",
    "print(hucs)\n",
    "'''\n",
    "Clip wetlands that aren't riverine to the hucs selected by the aoi.\n",
    "'''\n",
    "con.sql(\"\"\"\n",
    "CREATE OR REPLACE TABLE wetlands AS\n",
    "SELECT ATTRIBUTE, huc12.geometry\n",
    "FROM (SELECT ATTRIBUTE, geometry FROM read_parquet('azure://abdu/nwi/**/*.parquet')\n",
    "WHERE huc4 IN {0} AND WETLAND_TYPE != 'Riverine') AS wetlnd\n",
    "JOIN huc12 ON \n",
    "ST_Intersects(ST_GeomFromWKB(wetlnd.geometry), ST_GeomFromWKB(huc12.geometry))\n",
    "\"\"\".format(tuple(hucs)))"
   ]
  },
  {
   "cell_type": "code",
   "execution_count": 6,
   "id": "c659b261",
   "metadata": {},
   "outputs": [
    {
     "data": {
      "application/vnd.jupyter.widget-view+json": {
       "model_id": "410fc0ca100f44119d2b4d8527905e42",
       "version_major": 2,
       "version_minor": 0
      },
      "text/plain": [
       "FloatProgress(value=0.0, layout=Layout(width='auto'), style=ProgressStyle(bar_color='black'))"
      ]
     },
     "metadata": {},
     "output_type": "display_data"
    }
   ],
   "source": [
    "'''\n",
    "Clip wetlands that aren't riverine to the hucs selected by the aoi.\n",
    "'''\n",
    "selectstring = \"\"\"CREATE OR REPLACE TABLE wetlands AS\n",
    "SELECT ATTRIBUTE,huc2, huc4, ST_AsText(ST_Intersection(ST_GeomFromWKB(wetlnd.geometry), ST_GeomFromWKB(huc12.geometry))) as geometry\n",
    "FROM (SELECT ATTRIBUTE, geometry FROM read_parquet('azure://abdu/nwi/**/*.parquet') \n",
    "WHERE WETLAND_TYPE != 'Riverine' AND huc4 IN {0}) AS wetlnd\n",
    "JOIN huc12 ON \n",
    "ST_Intersects(ST_GeomFromWKB(wetlnd.geometry), ST_GeomFromWKB(huc12.geometry))\n",
    "\"\"\".format(tuple(hucs))\n",
    "con.sql(selectstring)"
   ]
  },
  {
   "cell_type": "code",
   "execution_count": 7,
   "id": "9bc6f466",
   "metadata": {},
   "outputs": [
    {
     "data": {
      "application/vnd.jupyter.widget-view+json": {
       "model_id": "13e9ed4ffcb149768d78e3d1c04a4584",
       "version_major": 2,
       "version_minor": 0
      },
      "text/plain": [
       "FloatProgress(value=0.0, layout=Layout(width='auto'), style=ProgressStyle(bar_color='black'))"
      ]
     },
     "metadata": {},
     "output_type": "display_data"
    },
    {
     "data": {
      "application/vnd.jupyter.widget-view+json": {
       "model_id": "acae7f00e8d045d8a5e031263ee5713b",
       "version_major": 2,
       "version_minor": 0
      },
      "text/plain": [
       "FloatProgress(value=0.0, layout=Layout(width='auto'), style=ProgressStyle(bar_color='black'))"
      ]
     },
     "metadata": {},
     "output_type": "display_data"
    },
    {
     "data": {
      "text/plain": [
       "'\\nRead in demand clipped by hucs\\n'"
      ]
     },
     "execution_count": 7,
     "metadata": {},
     "output_type": "execute_result"
    }
   ],
   "source": [
    "'''\n",
    "Read in demand clipped by hucs\n",
    "'''\n",
    "con.sql(f\"\"\"\n",
    "CREATE OR REPLACE TABLE demandfull AS SELECT * EXCLUDE geometry, ST_AsText(ST_GeomFromWKB(read_parquet.geometry)) as geometry\n",
    "FROM read_parquet('azure://abdu/Demand9Species.parquet')\n",
    "JOIN aoi5070 ON \n",
    "ST_Intersects(ST_GeomFromWKB(read_parquet.geometry), ST_GeomFromText(aoi5070.geometry))\n",
    "\"\"\")\n",
    "con.sql(f\"\"\"\n",
    "CREATE OR REPLACE TABLE demand AS SELECT * EXCLUDE geometry, ST_AsText(ST_Intersection(ST_GeomFromWKB(huc12.geometry), ST_GeomFromWKB(read_parquet.geometry))) as geometry\n",
    "FROM read_parquet('azure://abdu/Demand9Species.parquet')\n",
    "JOIN huc12 ON \n",
    "ST_Intersects(ST_GeomFromWKB(huc12.geometry), ST_GeomFromWKB(read_parquet.geometry))\n",
    "\"\"\")\n",
    "'''\n",
    "Read in demand clipped by hucs\n",
    "'''\n"
   ]
  },
  {
   "cell_type": "code",
   "execution_count": 8,
   "id": "61983cb9",
   "metadata": {},
   "outputs": [
    {
     "data": {
      "application/vnd.jupyter.widget-view+json": {
       "model_id": "0af28df4af224147a40889200ad28883",
       "version_major": 2,
       "version_minor": 0
      },
      "text/plain": [
       "FloatProgress(value=0.0, layout=Layout(width='auto'), style=ProgressStyle(bar_color='black'))"
      ]
     },
     "metadata": {},
     "output_type": "display_data"
    }
   ],
   "source": [
    "'''\n",
    "Read in PADUS\n",
    "'''\n",
    "con.sql(\"\"\"\n",
    "CREATE OR REPLACE TABLE protected AS \n",
    "SELECT CATEGORY, huc2, huc4, ST_AsText(ST_Intersection(ST_GeomFromWKB(huc12.geometry), ST_GeomFromWKB(prot.geometry))) as geometry\n",
    "FROM (SELECT CATEGORY, geometry FROM read_parquet('azure://abdu/padus/**/*.parquet')\n",
    "WHERE CATEGORY IN ('Fee', 'Easements', 'Other') AND huc4 IN {0}) AS prot\n",
    "JOIN huc12 ON \n",
    "ST_Intersects(ST_GeomFromWKB(huc12.geometry), ST_GeomFromWKB(prot.geometry))\n",
    "\"\"\".format(tuple(hucs)))"
   ]
  },
  {
   "cell_type": "code",
   "execution_count": 9,
   "id": "40468785",
   "metadata": {},
   "outputs": [],
   "source": [
    "'''\n",
    "Read in NLCD clipped to hucs\n",
    "'''\n",
    "with rasterio.open('https://giscog.blob.core.windows.net/newcontainer/nlcd2019_cog.tif') as src:\n",
    "    # Clip the raster to the geometry of the shapefile\n",
    "    clipped_data, transform = mask.mask(src, inaoigpd.geometry, crop=True)\n",
    "\n",
    "clipped_data[clipped_data>23]=0\n",
    "clipped_data[clipped_data<21]=0\n",
    "clipped_data[clipped_data==21]=1\n",
    "clipped_data[clipped_data==22]=1\n",
    "clipped_data[clipped_data==23]=1\n",
    "shapes = rasterio.features.shapes(clipped_data[0], transform=transform, mask=clipped_data[0] == 1)\n",
    "# Create a GeoDataFrame from the vector polygons\n",
    "gdf_vector = gpd.GeoDataFrame({'geometry': [shape(geom) for geom, value in shapes]})\n",
    "gdf_vector['geometry'] = gdf_vector.to_wkb().geometry\n",
    "con.sql(\"CREATE OR REPLACE TABLE urban AS SELECT * EXCLUDE geometry, ST_AsText(ST_GeomFromWKB(geometry)) AS geometry FROM gdf_vector\")"
   ]
  },
  {
   "cell_type": "code",
   "execution_count": 10,
   "id": "8fc1ec5f",
   "metadata": {},
   "outputs": [
    {
     "data": {
      "application/vnd.jupyter.widget-view+json": {
       "model_id": "a443760dca1f46f29b4e027f43b09084",
       "version_major": 2,
       "version_minor": 0
      },
      "text/plain": [
       "FloatProgress(value=0.0, layout=Layout(width='auto'), style=ProgressStyle(bar_color='black'))"
      ]
     },
     "metadata": {},
     "output_type": "display_data"
    },
    {
     "data": {
      "application/vnd.jupyter.widget-view+json": {
       "model_id": "4386e70c2cb14458ac85c18652cf0a62",
       "version_major": 2,
       "version_minor": 0
      },
      "text/plain": [
       "FloatProgress(value=0.0, layout=Layout(width='auto'), style=ProgressStyle(bar_color='black'))"
      ]
     },
     "metadata": {},
     "output_type": "display_data"
    }
   ],
   "source": [
    "'''\n",
    "Import wetland crossclass data and assign classes to the nwi table\n",
    "'''\n",
    "con.sql(\"\"\"CREATE OR REPLACE TABLE crossnwi AS (UNPIVOT (FROM (SELECT * FROM read_json_auto('aoiWetland.json', maximum_object_size=100000000))) ON COLUMNS(*))\"\"\")\n",
    "con.sql(\"\"\"CREATE OR REPLACE TABLE crossnwi AS SELECT name, UNNEST(value) AS value FROM crossnwi\"\"\")\n",
    "con.sql(\"\"\"CREATE OR REPLACE TABLE wetlands AS\n",
    "SELECT name, geometry FROM (SELECT * FROM wetlands) AS wetselect\n",
    "LEFT JOIN crossnwi ON wetselect.ATTRIBUTE LIKE crossnwi.value\n",
    "\"\"\")"
   ]
  },
  {
   "cell_type": "code",
   "execution_count": 11,
   "id": "46fcc924",
   "metadata": {},
   "outputs": [
    {
     "data": {
      "text/plain": [
       "'\\n#################################\\nEnd of data import\\nStarting model process\\n#################################\\n'"
      ]
     },
     "execution_count": 11,
     "metadata": {},
     "output_type": "execute_result"
    }
   ],
   "source": [
    "'''\n",
    "#################################\n",
    "End of data import\n",
    "Starting model process\n",
    "#################################\n",
    "'''\n",
    "#### Prepping energy - Join energy to nwi.  Need to create the spatial kcal table first. What's the best way to do this?\n",
    "# parquet is the best to read in but it's not easily editable.  Rest service would be ok but again, not great because\n",
    "# reading those is difficult.  I wonder if"
   ]
  },
  {
   "cell_type": "code",
   "execution_count": 12,
   "id": "96a32432",
   "metadata": {},
   "outputs": [],
   "source": [
    "'''\n",
    "Demand\n",
    "######\n",
    "Intersect with huc12\n",
    "Done in cell above.\n",
    "######\n",
    "'''\n",
    "#\n",
    "#con.sql(\"\"\"CREATE OR REPLACE TABLE newdemand AS SELECT fips, huc12, CODE, LTADUD, ST_Area(geometry)*0.0001 AS ha, geometry FROM (\n",
    "#SELECT fips, huc12.huc12, CODE, LTADUD, LTADemand, LTAPopObj, x80DUD, X80Demand, X80PopObj, ST_Intersection(ST_GeomFromText(demand.geometry), ST_GeomFromWKB(huc12.geometry)) as geometry FROM demand\n",
    "#JOIN huc12 ON ST_Intersects(ST_GeomFromText(demand.geometry), ST_GeomFromWKB(huc12.geometry))\n",
    "#WHERE species='All'\n",
    "#)\n",
    "#\"\"\")\n",
    "con.sql(\"\"\"COPY (SELECT * EXCLUDE geometry, ST_AsWKB(geometry) as geometry FROM newdemand) TO 'newdemand.parquet' (FORMAT PARQUET)\"\"\")"
   ]
  },
  {
   "cell_type": "code",
   "execution_count": 14,
   "id": "ffcfb106",
   "metadata": {},
   "outputs": [
    {
     "data": {
      "text/plain": [
       "[['05093']]"
      ]
     },
     "execution_count": 14,
     "metadata": {},
     "output_type": "execute_result"
    }
   ],
   "source": [
    "# Need to sum energy within fips\n",
    "# steps dissolve demand by fips selection.\n",
    "# calculate area by intersection and multiply by kcal to get energy\n",
    "\n",
    "con.sql(\"\"\"\n",
    "CREATE OR REPLACE TABLE demandfull AS SELECT DISTINCT fips, ST_Union_Agg(ST_GeomFromText(geometry)) as geometry from demandfull\n",
    "group by fips\n",
    "\"\"\")\n",
    "fullfips = con.sql(\"\"\"SELECT fips from demandfull\"\"\").df().values.tolist()\n",
    "fullfips"
   ]
  },
  {
   "cell_type": "code",
   "execution_count": 15,
   "id": "c2979775",
   "metadata": {},
   "outputs": [
    {
     "data": {
      "application/vnd.jupyter.widget-view+json": {
       "model_id": "02751f8a08dc49db8d0b7bed2ab88c39",
       "version_major": 2,
       "version_minor": 0
      },
      "text/plain": [
       "FloatProgress(value=0.0, layout=Layout(width='auto'), style=ProgressStyle(bar_color='black'))"
      ]
     },
     "metadata": {},
     "output_type": "display_data"
    },
    {
     "data": {
      "application/vnd.jupyter.widget-view+json": {
       "model_id": "13966f317a3c4527913611e574e2a4e8",
       "version_major": 2,
       "version_minor": 0
      },
      "text/plain": [
       "FloatProgress(value=0.0, layout=Layout(width='auto'), style=ProgressStyle(bar_color='black'))"
      ]
     },
     "metadata": {},
     "output_type": "display_data"
    },
    {
     "data": {
      "application/vnd.jupyter.widget-view+json": {
       "model_id": "6950b1e667514911979eda85d0c622b2",
       "version_major": 2,
       "version_minor": 0
      },
      "text/plain": [
       "FloatProgress(value=0.0, layout=Layout(width='auto'), style=ProgressStyle(bar_color='black'))"
      ]
     },
     "metadata": {},
     "output_type": "display_data"
    },
    {
     "data": {
      "application/vnd.jupyter.widget-view+json": {
       "model_id": "4de5315e3fc845fea42c5746eee7fa6d",
       "version_major": 2,
       "version_minor": 0
      },
      "text/plain": [
       "FloatProgress(value=0.0, layout=Layout(width='auto'), style=ProgressStyle(bar_color='black'))"
      ]
     },
     "metadata": {},
     "output_type": "display_data"
    },
    {
     "data": {
      "text/html": [
       "<div>\n",
       "<style scoped>\n",
       "    .dataframe tbody tr th:only-of-type {\n",
       "        vertical-align: middle;\n",
       "    }\n",
       "\n",
       "    .dataframe tbody tr th {\n",
       "        vertical-align: top;\n",
       "    }\n",
       "\n",
       "    .dataframe thead th {\n",
       "        text-align: right;\n",
       "    }\n",
       "</style>\n",
       "<table border=\"1\" class=\"dataframe\">\n",
       "  <thead>\n",
       "    <tr style=\"text-align: right;\">\n",
       "      <th></th>\n",
       "      <th>fips</th>\n",
       "      <th>sum(avalNrgy)</th>\n",
       "    </tr>\n",
       "  </thead>\n",
       "  <tbody>\n",
       "    <tr>\n",
       "      <th>0</th>\n",
       "      <td>05093</td>\n",
       "      <td>4.343587e+09</td>\n",
       "    </tr>\n",
       "  </tbody>\n",
       "</table>\n",
       "</div>"
      ],
      "text/plain": [
       "    fips  sum(avalNrgy)\n",
       "0  05093   4.343587e+09"
      ]
     },
     "execution_count": 15,
     "metadata": {},
     "output_type": "execute_result"
    }
   ],
   "source": [
    "'''\n",
    "Clip wetlands that aren't riverine to the hucs selected by the aoi.\n",
    "'''\n",
    "tmp = pd.DataFrame()\n",
    "for fip in fullfips:\n",
    "    selectstring = \"\"\"\n",
    "    CREATE OR REPLACE table tmpwet AS\n",
    "    (\n",
    "    SELECT ATTRIBUTE,fips, ST_AsText(ST_Intersection(ST_GeomFromWKB(wetlnd.geometry), dmd.geometry)) as geometry\n",
    "    FROM (SELECT ATTRIBUTE, geometry FROM read_parquet('azure://abdu/nwi/**/*.parquet')\n",
    "    WHERE WETLAND_TYPE != 'Riverine') AS wetlnd\n",
    "    JOIN (SELECT fips, geometry FROM demandfull WHERE fips='{0}') as dmd ON \n",
    "    ST_Intersects(ST_GeomFromWKB(wetlnd.geometry), dmd.geometry)\n",
    "    )\n",
    "    \"\"\".format(fip[0])\n",
    "    con.sql(selectstring)\n",
    "    con.sql(\"\"\"CREATE OR REPLACE TABLE crossnwi AS (UNPIVOT (FROM (SELECT * FROM read_json_auto('aoiWetland.json', maximum_object_size=100000000))) ON COLUMNS(*))\"\"\")\n",
    "    con.sql(\"\"\"CREATE OR REPLACE TABLE crossnwi AS SELECT name, UNNEST(value) AS value FROM crossnwi\"\"\")\n",
    "    con.sql(\"\"\"CREATE OR REPLACE TABLE tmpwet AS\n",
    "    SELECT name, fips, geometry FROM (SELECT * FROM tmpwet) AS wetselect\n",
    "    LEFT JOIN crossnwi ON wetselect.ATTRIBUTE LIKE crossnwi.value\n",
    "    \"\"\")\n",
    "    con.sql(f\"\"\"CREATE OR REPLACE TABLE tmpwet AS\n",
    "    (SELECT replace(tmpwet.name, '_', '') AS name, fips, geometry, kcal FROM tmpwet\n",
    "    LEFT JOIN read_csv_auto('azure://abdu/kcal.csv') ON replace(tmpwet.name, '_', '') = read_csv_auto.habitatType\n",
    "    WHERE tmpwet.name IS NOT NULL)\n",
    "    \"\"\")\n",
    "    con.sql(\"\"\"CREATE OR REPLACE TABLE newdata AS (\n",
    "    SELECT name, fips, kcal, ST_Area(geometry)*0.0001 AS ha, ha*kcal AS avalNrgy FROM(\n",
    "    SELECT name, fips, kcal, ST_Union_Agg(ST_GeomFromText(geometry)) AS geometry FROM tmpwet\n",
    "    GROUP BY name, fips, kcal))\n",
    "    \"\"\")\n",
    "    final = con.sql(\"SELECT fips, SUM(avalNrgy) from newdata GROUP BY fips\").df()\n",
    "    tmp = pd.concat([tmp, final])\n",
    "tmp"
   ]
  },
  {
   "cell_type": "code",
   "execution_count": 16,
   "id": "0dffe9cf",
   "metadata": {},
   "outputs": [
    {
     "data": {
      "text/plain": [
       "┌─────────┬───────────────────┐\n",
       "│  fips   │    fipsnrgysum    │\n",
       "│ varchar │      double       │\n",
       "├─────────┼───────────────────┤\n",
       "│ 05093   │ 4343586557.220323 │\n",
       "└─────────┴───────────────────┘"
      ]
     },
     "execution_count": 16,
     "metadata": {},
     "output_type": "execute_result"
    }
   ],
   "source": [
    "con.sql(\"\"\"DESCRIBE SELECT * FROM tmp\"\"\")\n",
    "con.sql(\"\"\"CREATE OR REPLACE TABLE fipsavalNRG AS SELECT fips, \"sum(avalNrgy)\" as fipsnrgysum from tmp\"\"\")\n",
    "con.sql(\"\"\"select * from fipsavalNRG\"\"\")"
   ]
  },
  {
   "cell_type": "code",
   "execution_count": 17,
   "id": "42ae2547",
   "metadata": {},
   "outputs": [],
   "source": [
    "'''\n",
    "Energy availability\n",
    "\n",
    "######\n",
    "Read in kcal.csv from azure and join to wetlands.\n",
    "This file is the habitat type (habitatType) and the kcal/Ha (kcal)\n",
    "######\n",
    "'''\n",
    "#\n",
    "con.sql(f\"\"\"CREATE OR REPLACE TABLE wetlands AS\n",
    "(SELECT replace(wetlands.name, '_', '') AS name, geometry, kcal FROM wetlands\n",
    "LEFT JOIN read_csv_auto('azure://abdu/kcal.csv') ON replace(wetlands.name, '_', '') = read_csv_auto.habitatType\n",
    "WHERE wetlands.name IS NOT NULL)\n",
    "\"\"\")"
   ]
  },
  {
   "cell_type": "code",
   "execution_count": 18,
   "id": "ee004680",
   "metadata": {},
   "outputs": [
    {
     "data": {
      "application/vnd.jupyter.widget-view+json": {
       "model_id": "c8869fe866a042f286842c31d76b060d",
       "version_major": 2,
       "version_minor": 0
      },
      "text/plain": [
       "FloatProgress(value=0.0, layout=Layout(width='auto'), style=ProgressStyle(bar_color='black'))"
      ]
     },
     "metadata": {},
     "output_type": "display_data"
    }
   ],
   "source": [
    "con.sql(\"\"\"CREATE OR REPLACE TABLE hucdemandenergy AS \n",
    "    (SELECT name,fips, kcal, ST_Intersection(ST_GeomFromText(wetlands.geometry), ST_GeomFromText(demand.geometry)) as geometry FROM wetlands\n",
    "    JOIN demand ON ST_Intersects(ST_GeomFromText(wetlands.geometry), ST_GeomFromText(demand.geometry)))\"\"\")"
   ]
  },
  {
   "cell_type": "code",
   "execution_count": 19,
   "id": "70336ac4",
   "metadata": {},
   "outputs": [],
   "source": [
    "'''\n",
    "######\n",
    "Calculate available energy (avalNrgy) of wetlands by calculating area in Hectares (HA) and multiplying by kcal.\n",
    "Select only distinct rows.\n",
    "Create new table habitatenergy\n",
    "######\n",
    "'''\n",
    "#\n",
    "con.sql(\"\"\"CREATE OR REPLACE TABLE hucdemandenergy AS (SELECT DISTINCT name, fips, geometry, ST_Area(geometry)*0.0001 AS ha,kcal, ha*kcal AS avalNrgy FROM hucdemandenergy)\"\"\")\n",
    "# DATA CHECK\n",
    "# con.sql(\"\"\"COPY (SELECT DISTINCT name, ST_AsWKB(ST_GeomFromText(geometry)) as geometry, ST_Area(ST_GeomFromText(geometry))*0.0001 AS ha, ha*kcal AS avalNrgy FROM wetlands) TO 'testwetland.parquet' (FORMAT PARQUET)\"\"\")"
   ]
  },
  {
   "cell_type": "code",
   "execution_count": 20,
   "id": "11ab9a85",
   "metadata": {},
   "outputs": [],
   "source": [
    "con.sql(\"\"\"CREATE OR REPLACE TABLE test AS (select hucdemandenergy.fips, avalNrgy, fipsnrgysum, (hucdemandenergy.avalNrgy/fipsavalNRG.fipsnrgysum) as pct from hucdemandenergy\n",
    "    JOIN fipsavalNRG on hucdemandenergy.fips = fipsavalNRG.fips\n",
    "    GROUP BY hucdemandenergy.fips, avalNrgy, fipsnrgysum)\"\"\")"
   ]
  },
  {
   "cell_type": "code",
   "execution_count": 26,
   "id": "c504f10d",
   "metadata": {},
   "outputs": [
    {
     "data": {
      "text/plain": [
       "┌──────────────────────┬─────────┬───────────────────────────┬───────────────────────┬────────┬────────────────────────┐\n",
       "│         name         │  fips   │         geometry          │          ha           │  kcal  │        avalNrgy        │\n",
       "│       varchar        │ varchar │         geometry          │        double         │ int64  │         double         │\n",
       "├──────────────────────┼─────────┼───────────────────────────┼───────────────────────┼────────┼────────────────────────┤\n",
       "│ FreshwaterWoody      │ 29155   │ POLYGON ((559182.070341…  │ 0.0004973396364774305 │ 238961 │     118.84477687228328 │\n",
       "│ FreshwaterWoody      │ 29069   │ POLYGON ((533597.212200…  │    1.1935644744728964 │ 238961 │      285215.3603845178 │\n",
       "│ FreshMarsh           │ 29069   │ POLYGON ((533264.894799…  │   0.36037225124964684 │ 347006 │     125051.33341713496 │\n",
       "│ FreshwaterWoody      │ 05093   │ POLYGON ((533530.537000…  │    0.1043685603459937 │ 238961 │        24940.015548839 │\n",
       "│ FreshwaterWoody      │ 05093   │ POLYGON ((531313.664799…  │    0.2922292960152095 │ 238961 │      69831.40480509048 │\n",
       "│ FreshwaterWoody      │ 05093   │ POLYGON ((530791.108800…  │   0.06000778631608719 │ 238961 │     14339.520625878511 │\n",
       "│ FreshwaterWoody      │ 05093   │ POLYGON ((531037.286400…  │     3.040226263599676 │ 238961 │      726495.5081760421 │\n",
       "│ FreshwaterWoody      │ 05093   │ POLYGON ((530949.501699…  │   0.44689659742084553 │ 238961 │     106790.85781628267 │\n",
       "│ FreshwaterWoody      │ 05093   │ MULTILINESTRING ((55097…  │                   0.0 │ 238961 │                    0.0 │\n",
       "│ FreshMarsh           │ 05093   │ POLYGON ((533340.556099…  │   0.03096327134299824 │ 347006 │     10744.440935648448 │\n",
       "│     ·                │   ·     │             ·             │             ·         │    ·   │              ·         │\n",
       "│     ·                │   ·     │             ·             │             ·         │    ·   │              ·         │\n",
       "│     ·                │   ·     │             ·             │             ·         │    ·   │              ·         │\n",
       "│ DeepwaterFresh       │ 05093   │ POLYGON ((550098.085499…  │    14.722910043162297 │  61629 │      907358.2230500493 │\n",
       "│ FreshwaterWoody      │ 47097   │ MULTIPOLYGON (((548217.…  │     59.90662763907769 │ 238961 │     14315347.647261644 │\n",
       "│ FreshwaterWoody      │ 05093   │ POLYGON ((550029.505899…  │     43.15064126082349 │ 238961 │     10311320.386327643 │\n",
       "│ FreshShallowOpenWa…  │ 05093   │ POLYGON ((550359.579100…  │     5.311816112664425 │  61629 │     327361.91520739585 │\n",
       "│ FreshwaterWoody      │ 05093   │ POLYGON ((548953.282200…  │    15.319071541503975 │ 238961 │     3660660.6546293315 │\n",
       "│ FreshwaterWoody      │ 05093   │ POLYGON ((549983.255300…  │    12.364463505041536 │ 238961 │     2954624.5636282307 │\n",
       "│ FreshShallowOpenWa…  │ 05093   │ POLYGON ((550202.070500…  │    1.5471478676602455 │  61629 │      95349.17593603327 │\n",
       "│ FreshwaterWoody      │ 05093   │ LINESTRING (548424.5659…  │                   0.0 │ 238961 │                    0.0 │\n",
       "│ FreshwaterWoody      │ 47097   │ POLYGON ((550327.171100…  │     2.888283173265079 │ 238961 │      690187.0353665965 │\n",
       "│ FreshwaterWoody      │ 05111   │ GEOMETRYCOLLECTION (LIN…  │ 7.287059844429679e-15 │ 238961 │ 1.7413231074847604e-09 │\n",
       "├──────────────────────┴─────────┴───────────────────────────┴───────────────────────┴────────┴────────────────────────┤\n",
       "│ 596 rows (20 shown)                                                                                        6 columns │\n",
       "└──────────────────────────────────────────────────────────────────────────────────────────────────────────────────────┘"
      ]
     },
     "execution_count": 26,
     "metadata": {},
     "output_type": "execute_result"
    }
   ],
   "source": [
    "con.sql(\"\"\"select * from hucdemandenergy\"\"\")"
   ]
  },
  {
   "cell_type": "code",
   "execution_count": 25,
   "id": "129d3797",
   "metadata": {},
   "outputs": [
    {
     "data": {
      "text/plain": [
       "┌─────────┬────────────────────┬───────────────────┬────────────────────────┐\n",
       "│  fips   │      avalNrgy      │    fipsnrgysum    │          pct           │\n",
       "│ varchar │       double       │      double       │         double         │\n",
       "├─────────┼────────────────────┼───────────────────┼────────────────────────┤\n",
       "│ 05093   │ 3021386.9976664656 │ 4343586557.220323 │  0.0006955972806951501 │\n",
       "│ 05093   │  90242.39760988954 │ 4343586557.220323 │  2.077600996804819e-05 │\n",
       "│ 05093   │  811373.5715083635 │ 4343586557.220323 │ 0.00018679806671738155 │\n",
       "│ 05093   │   9644758.81293934 │ 4343586557.220323 │  0.0022204596790886795 │\n",
       "│ 05093   │ 101553.60459298066 │ 4343586557.220323 │ 2.3380126827257213e-05 │\n",
       "│ 05093   │ 17498.685100249953 │ 4343586557.220323 │  4.028625853250691e-06 │\n",
       "│ 05093   │ 275627.02275598346 │ 4343586557.220323 │  6.345609075012216e-05 │\n",
       "│ 05093   │ 20622220.149292067 │ 4343586557.220323 │   0.004747740116980483 │\n",
       "│ 05093   │ 172144.12849082804 │ 4343586557.220323 │ 3.9631794191984896e-05 │\n",
       "│ 05093   │  371107.1016108691 │ 4343586557.220323 │   8.54379432116944e-05 │\n",
       "│   ·     │          ·         │         ·         │             ·          │\n",
       "│   ·     │          ·         │         ·         │             ·          │\n",
       "│   ·     │          ·         │         ·         │             ·          │\n",
       "│ 05093   │  2854309.151491027 │ 4343586557.220323 │  0.0006571318687655304 │\n",
       "│ 05093   │ 430.74062819459175 │ 4343586557.220323 │   9.91670414576115e-08 │\n",
       "│ 05093   │    92818.098323998 │ 4343586557.220323 │  2.136899935140165e-05 │\n",
       "│ 05093   │  75179.56743147106 │ 4343586557.220323 │ 1.7308177571942347e-05 │\n",
       "│ 05093   │ 29134.360244191386 │ 4343586557.220323 │   6.70744322931967e-06 │\n",
       "│ 05093   │ 1284061.6044035626 │ 4343586557.220323 │ 0.00029562242802991305 │\n",
       "│ 05093   │  794804.1600744856 │ 4343586557.220323 │ 0.00018298338242006172 │\n",
       "│ 05093   │  85152.33790255652 │ 4343586557.220323 │ 1.9604153567748803e-05 │\n",
       "│ 05093   │   1714416.51035089 │ 4343586557.220323 │  0.0003947006667798582 │\n",
       "│ 05093   │  978598.9391151746 │ 4343586557.220323 │  0.0002252974416933063 │\n",
       "├─────────┴────────────────────┴───────────────────┴────────────────────────┤\n",
       "│ 338 rows (20 shown)                                             4 columns │\n",
       "└───────────────────────────────────────────────────────────────────────────┘"
      ]
     },
     "execution_count": 25,
     "metadata": {},
     "output_type": "execute_result"
    }
   ],
   "source": [
    "con.sql(\"\"\"select * from test\"\"\")"
   ]
  },
  {
   "cell_type": "code",
   "execution_count": 22,
   "id": "e0a88495",
   "metadata": {},
   "outputs": [
    {
     "ename": "CatalogException",
     "evalue": "Catalog Error: Table with name habitatenergy does not exist!\nDid you mean \"hucdemandenergy\"?",
     "output_type": "error",
     "traceback": [
      "\u001b[1;31m---------------------------------------------------------------------------\u001b[0m",
      "\u001b[1;31mCatalogException\u001b[0m                          Traceback (most recent call last)",
      "Cell \u001b[1;32mIn[22], line 7\u001b[0m\n\u001b[0;32m      1\u001b[0m \u001b[38;5;124;03m'''\u001b[39;00m\n\u001b[0;32m      2\u001b[0m \u001b[38;5;124;03m######\u001b[39;00m\n\u001b[0;32m      3\u001b[0m \u001b[38;5;124;03mIntersect with huc12, union geometry by name/huc12/kcal, calculate area (ha), and avalNrgy of each\u001b[39;00m\n\u001b[0;32m      4\u001b[0m \u001b[38;5;124;03m######\u001b[39;00m\n\u001b[0;32m      5\u001b[0m \u001b[38;5;124;03m'''\u001b[39;00m\n\u001b[0;32m      6\u001b[0m \u001b[38;5;66;03m#\u001b[39;00m\n\u001b[1;32m----> 7\u001b[0m \u001b[43mcon\u001b[49m\u001b[38;5;241;43m.\u001b[39;49m\u001b[43msql\u001b[49m\u001b[43m(\u001b[49m\u001b[38;5;124;43m\"\"\"\u001b[39;49m\n\u001b[0;32m      8\u001b[0m \u001b[38;5;124;43mCREATE OR REPLACE TABLE soup AS SELECT name, huc12, kcal, ST_Area(geometry)*0.0001 AS ha, ha*kcal AS avalNrgy, geometry FROM (\u001b[39;49m\n\u001b[0;32m      9\u001b[0m \u001b[38;5;124;43mSELECT name, huc12, kcal, ST_Intersection(ST_GeomFromText(habitatenergy.geometry), ST_GeomFromWKB(huc12.geometry)) as geometry from habitatenergy\u001b[39;49m\n\u001b[0;32m     10\u001b[0m \u001b[38;5;124;43mJOIN huc12 ON ST_Intersects(ST_GeomFromText(habitatenergy.geometry), ST_GeomFromWKB(huc12.geometry)))\u001b[39;49m\n\u001b[0;32m     11\u001b[0m \u001b[38;5;124;43m\"\"\"\u001b[39;49m\u001b[43m)\u001b[49m\n\u001b[0;32m     12\u001b[0m \u001b[38;5;66;03m#\u001b[39;00m\n\u001b[0;32m     13\u001b[0m con\u001b[38;5;241m.\u001b[39msql(\u001b[38;5;124m\"\"\"\u001b[39m\u001b[38;5;124mCREATE OR REPLACE TABLE soup AS (\u001b[39m\n\u001b[0;32m     14\u001b[0m \u001b[38;5;124mSELECT name, huc12, kcal, ST_Area(geometry)*0.0001 AS ha, ha*kcal AS avalNrgy, geometry FROM(\u001b[39m\n\u001b[0;32m     15\u001b[0m \u001b[38;5;124mSELECT name, huc12, kcal, ST_Union_Agg(geometry) AS geometry FROM soup\u001b[39m\n\u001b[0;32m     16\u001b[0m \u001b[38;5;124mGROUP BY name, huc12, kcal))\u001b[39m\n\u001b[0;32m     17\u001b[0m \u001b[38;5;124m\"\"\"\u001b[39m)\n",
      "\u001b[1;31mCatalogException\u001b[0m: Catalog Error: Table with name habitatenergy does not exist!\nDid you mean \"hucdemandenergy\"?"
     ]
    }
   ],
   "source": [
    "'''\n",
    "######\n",
    "Intersect with huc12, union geometry by name/huc12/kcal, calculate area (ha), and avalNrgy of each\n",
    "######\n",
    "'''\n",
    "#\n",
    "con.sql(\"\"\"\n",
    "CREATE OR REPLACE TABLE soup AS SELECT name, huc12, kcal, ST_Area(geometry)*0.0001 AS ha, ha*kcal AS avalNrgy, geometry FROM (\n",
    "SELECT name, huc12, kcal, ST_Intersection(ST_GeomFromText(habitatenergy.geometry), ST_GeomFromWKB(huc12.geometry)) as geometry from habitatenergy\n",
    "JOIN huc12 ON ST_Intersects(ST_GeomFromText(habitatenergy.geometry), ST_GeomFromWKB(huc12.geometry)))\n",
    "\"\"\")\n",
    "#\n",
    "con.sql(\"\"\"CREATE OR REPLACE TABLE soup AS (\n",
    "SELECT name, huc12, kcal, ST_Area(geometry)*0.0001 AS ha, ha*kcal AS avalNrgy, geometry FROM(\n",
    "SELECT name, huc12, kcal, ST_Union_Agg(geometry) AS geometry FROM soup\n",
    "GROUP BY name, huc12, kcal))\n",
    "\"\"\")"
   ]
  },
  {
   "cell_type": "code",
   "execution_count": 35,
   "id": "0c826d01",
   "metadata": {},
   "outputs": [
    {
     "data": {
      "text/plain": [
       "┌─────────┬────────────────────┬───────────────────┬────────────────────────┐\n",
       "│  fips   │      avalNrgy      │    fipsnrgysum    │          pct           │\n",
       "│ varchar │       double       │      double       │         double         │\n",
       "├─────────┼────────────────────┼───────────────────┼────────────────────────┤\n",
       "│ 05093   │ 3021386.9976664656 │ 4343586557.220323 │  0.0006955972806951501 │\n",
       "│ 05093   │  90242.39760988954 │ 4343586557.220323 │  2.077600996804819e-05 │\n",
       "│ 05093   │  811373.5715083635 │ 4343586557.220323 │ 0.00018679806671738155 │\n",
       "│ 05093   │   9644758.81293934 │ 4343586557.220323 │  0.0022204596790886795 │\n",
       "│ 05093   │ 101553.60459298066 │ 4343586557.220323 │ 2.3380126827257213e-05 │\n",
       "│ 05093   │ 17498.685100249953 │ 4343586557.220323 │  4.028625853250691e-06 │\n",
       "│ 05093   │ 275627.02275598346 │ 4343586557.220323 │  6.345609075012216e-05 │\n",
       "│ 05093   │ 20622220.149292067 │ 4343586557.220323 │   0.004747740116980483 │\n",
       "│ 05093   │ 172144.12849082804 │ 4343586557.220323 │ 3.9631794191984896e-05 │\n",
       "│ 05093   │  371107.1016108691 │ 4343586557.220323 │   8.54379432116944e-05 │\n",
       "│   ·     │          ·         │         ·         │             ·          │\n",
       "│   ·     │          ·         │         ·         │             ·          │\n",
       "│   ·     │          ·         │         ·         │             ·          │\n",
       "│ 05093   │  2854309.151491027 │ 4343586557.220323 │  0.0006571318687655304 │\n",
       "│ 05093   │ 430.74062819459175 │ 4343586557.220323 │   9.91670414576115e-08 │\n",
       "│ 05093   │    92818.098323998 │ 4343586557.220323 │  2.136899935140165e-05 │\n",
       "│ 05093   │  75179.56743147106 │ 4343586557.220323 │ 1.7308177571942347e-05 │\n",
       "│ 05093   │ 29134.360244191386 │ 4343586557.220323 │   6.70744322931967e-06 │\n",
       "│ 05093   │ 1284061.6044035626 │ 4343586557.220323 │ 0.00029562242802991305 │\n",
       "│ 05093   │  794804.1600744856 │ 4343586557.220323 │ 0.00018298338242006172 │\n",
       "│ 05093   │  85152.33790255652 │ 4343586557.220323 │ 1.9604153567748803e-05 │\n",
       "│ 05093   │   1714416.51035089 │ 4343586557.220323 │  0.0003947006667798582 │\n",
       "│ 05093   │  978598.9391151746 │ 4343586557.220323 │  0.0002252974416933063 │\n",
       "├─────────┴────────────────────┴───────────────────┴────────────────────────┤\n",
       "│ 338 rows (20 shown)                                             4 columns │\n",
       "└───────────────────────────────────────────────────────────────────────────┘"
      ]
     },
     "execution_count": 35,
     "metadata": {},
     "output_type": "execute_result"
    }
   ],
   "source": [
    "con.sql(\"\"\"select * from test\"\"\")"
   ]
  },
  {
   "cell_type": "code",
   "execution_count": 27,
   "id": "5aae0011",
   "metadata": {},
   "outputs": [],
   "source": [
    "con.sql(\"\"\"COPY (SELECT * EXCLUDE geometry, ST_AsWKB(geometry) as geometry FROM hucdemandenergy) TO 'hucdemandenergy.parquet' (FORMAT PARQUET)\"\"\")"
   ]
  },
  {
   "cell_type": "code",
   "execution_count": null,
   "id": "b7bb9297",
   "metadata": {},
   "outputs": [],
   "source": []
  }
 ],
 "metadata": {
  "kernelspec": {
   "display_name": "Python 3 (ipykernel)",
   "language": "python",
   "name": "python3"
  },
  "language_info": {
   "codemirror_mode": {
    "name": "ipython",
    "version": 3
   },
   "file_extension": ".py",
   "mimetype": "text/x-python",
   "name": "python",
   "nbconvert_exporter": "python",
   "pygments_lexer": "ipython3",
   "version": "3.10.13"
  }
 },
 "nbformat": 4,
 "nbformat_minor": 5
}
