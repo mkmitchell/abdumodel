{
 "cells": [
  {
   "cell_type": "code",
   "execution_count": 1,
   "id": "70fbf51f",
   "metadata": {},
   "outputs": [],
   "source": [
    "'''\n",
    "Getting the ABDU model to work in notebook\n",
    "\n",
    "EPSG: 5070\n",
    "'''\n",
    "import duckdb #version 0.9.2\n",
    "import geopandas as gpd #version 0.14.1\n",
    "import leafmap, os, time\n",
    "from shapely import wkt\n",
    "import pandas as pd\n",
    "import pyarrow as pa\n",
    "import geoarrow.pyarrow as ga\n",
    "import geoarrow.pandas as _\n",
    "import rasterio\n",
    "from rasterio import mask\n",
    "from shapely.geometry import shape\n",
    "from threading import Thread, current_thread\n",
    "\n",
    "con = duckdb.connect()\n",
    "con.install_extension(\"spatial\")\n",
    "con.load_extension(\"spatial\")\n",
    "con.install_extension(\"azure\")\n",
    "con.load_extension(\"azure\")\n",
    "con.install_extension(\"json\")\n",
    "con.load_extension(\"json\")"
   ]
  },
  {
   "cell_type": "code",
   "execution_count": 2,
   "id": "d8aac14d",
   "metadata": {},
   "outputs": [
    {
     "name": "stdout",
     "output_type": "stream",
     "text": [
      "0.14.1\n",
      "0.9.2\n"
     ]
    }
   ],
   "source": [
    "print(gpd.__version__)\n",
    "print(duckdb.__version__)\n",
    "#con.sql('''SELECT * FROM duckdb_settings()''')"
   ]
  },
  {
   "cell_type": "code",
   "execution_count": 3,
   "id": "afce3077",
   "metadata": {
    "tags": [
     "parameters"
    ]
   },
   "outputs": [
    {
     "data": {
      "text/plain": [
       "'Wed Feb 14 08:10:43 2024'"
      ]
     },
     "execution_count": 3,
     "metadata": {},
     "output_type": "execute_result"
    }
   ],
   "source": [
    "inaoifile = ''"
   ]
  },
  {
   "cell_type": "code",
   "execution_count": null,
   "id": "94a4edff",
   "metadata": {},
   "outputs": [],
   "source": [
    "local_time = time.ctime(time.time())\n",
    "local_time"
   ]
  },
  {
   "cell_type": "code",
   "execution_count": 4,
   "id": "58d554b4",
   "metadata": {},
   "outputs": [],
   "source": [
    "'''\n",
    "Read in AOI.  Need it projected as 4326 and 5070.  Unfortunately projecting isn't working smoothly for me and keeps providing infinite values.\n",
    "'''\n",
    "#con.sql(\"CREATE TABLE aoi AS SELECT * FROM ST_READ('{0}')\".format(inaoi))\n",
    "inaoigpd = gpd.read_parquet(inaoifile)\n",
    "inepsg = inaoigpd.crs.to_epsg()\n",
    "inaoi = pd.read_parquet(inaoifile)\n",
    "if inepsg == 5070:\n",
    "    con.sql(\"CREATE OR REPLACE TABLE aoi5070 AS SELECT * EXCLUDE geometry, ST_AsText(ST_GeomFromWKB(geometry)) AS geometry FROM inaoi\")\n",
    "    inaoi4326 = inaoigpd.to_crs(4326)\n",
    "    inaoi4326['geometry'] = inaoi4326.to_wkb().geometry\n",
    "    inaoi4326 = pd.DataFrame(inaoi4326)\n",
    "    con.sql(\"CREATE OR REPLACE TABLE aoi4326 AS SELECT * EXCLUDE geometry, ST_AsText(ST_GeomFromWKB(geometry)) AS geometry FROM inaoi4326\")\n",
    "elif inepsg == 4326:\n",
    "    con.sql(\"CREATE OR REPLACE TABLE aoi4326 AS SELECT * EXCLUDE geometry, ST_AsText(ST_GeomFromWKB(geometry)) AS geometry FROM inaoi\")\n",
    "    inaoi5070 = inaoi.to_crs(5070)\n",
    "    inaoi5070['geometry'] = inaoi5070.to_wkb().geometry\n",
    "    inaoi5070 = pd.DataFrame(inaoi5070)\n",
    "    con.sql(\"CREATE OR REPLACE TABLE aoi5070 AS SELECT * EXCLUDE geometry, ST_AsText(ST_GeomFromWKB(geometry)) AS geometry FROM inaoi5070\")\n",
    "else:\n",
    "    inaoi5070 = inaoi.to_crs(5070)\n",
    "    inaoi5070['geometry'] = inaoi5070.to_wkb().geometry\n",
    "    inaoi5070 = pd.DataFrame(inaoi5070)\n",
    "    con.sql(\"CREATE OR REPLACE TABLE aoi5070 AS SELECT * EXCLUDE geometry, ST_AsText(ST_GeomFromWKB(geometry)) AS geometry FROM inaoi5070\")\n",
    "    inaoi4326 = inaoi.to_crs(4326)\n",
    "    inaoi4326['geometry'] = inaoi4326.to_wkb().geometry\n",
    "    inaoi4326 = pd.DataFrame(inaoi4326)    \n",
    "    con.sql(\"CREATE OR REPLACE TABLE aoi4326 AS SELECT * EXCLUDE geometry, ST_AsText(ST_GeomFromWKB(geometry)) AS geometry FROM inaoi4326\")"
   ]
  },
  {
   "cell_type": "code",
   "execution_count": 5,
   "id": "3a8b78c3",
   "metadata": {},
   "outputs": [
    {
     "data": {
      "application/vnd.jupyter.widget-view+json": {
       "model_id": "794fc40c25094b89892a631d3e00ab1f",
       "version_major": 2,
       "version_minor": 0
      },
      "text/plain": [
       "FloatProgress(value=0.0, layout=Layout(width='auto'), style=ProgressStyle(bar_color='black'))"
      ]
     },
     "metadata": {},
     "output_type": "display_data"
    }
   ],
   "source": [
    "'''\n",
    "Read in hucs partitioned to huc2/huc4 level that overlap with the aoi.  Don't clip hucs\n",
    "'''\n",
    "con.sql(\"SET azure_storage_connection_string = 'DefaultEndpointsProtocol=https;AccountName=giscog;EndpointSuffix=core.windows.net';\")\n",
    "con.sql(f\"\"\"\n",
    "CREATE OR REPLACE TABLE huc12 AS\n",
    "SELECT LEFT(huc12,2) AS huc2,LEFT(huc12,4) AS huc4, huc12, areaacres, huc.geometry\n",
    "FROM (SELECT huc12, areaacres, geometry FROM read_parquet('azure://abdu/huc/**/*.parquet')\n",
    "WHERE CAST(LEFT(huc12,2) AS INTEGER)<=12) AS huc\n",
    "JOIN aoi5070 ON \n",
    "ST_Intersects(ST_GeomFromWKB(huc.geometry), ST_GeomFromText(aoi5070.geometry))\n",
    "\"\"\")"
   ]
  },
  {
   "cell_type": "code",
   "execution_count": 6,
   "id": "32e60c3e",
   "metadata": {},
   "outputs": [
    {
     "data": {
      "text/plain": [
       "'\\nWetland energy calculation\\n'"
      ]
     },
     "execution_count": 6,
     "metadata": {},
     "output_type": "execute_result"
    }
   ],
   "source": [
    "#################################\n",
    "#################################\n",
    "#################################\n",
    "#################################\n",
    "#################################\n",
    "#################################\n",
    "#################################\n",
    "#################################\n",
    "#################################\n",
    "#################################\n",
    "'''\n",
    "Wetland energy calculation\n",
    "'''"
   ]
  },
  {
   "cell_type": "code",
   "execution_count": 7,
   "id": "e9277213",
   "metadata": {},
   "outputs": [
    {
     "name": "stdout",
     "output_type": "stream",
     "text": [
      "['0801', '0802']\n"
     ]
    }
   ],
   "source": [
    "hucs = con.sql(\"select huc4 from huc12 GROUP BY huc4\").df().values.tolist()\n",
    "hucs = sorted([item for items in hucs for item in items])\n",
    "print(hucs)"
   ]
  },
  {
   "cell_type": "code",
   "execution_count": 8,
   "id": "1383a522",
   "metadata": {},
   "outputs": [
    {
     "data": {
      "text/plain": [
       "' NOT NEEDED.  Using threading instead\\n%%time\\nClip wetlands that aren\\'t riverine to the hucs selected by the aoi.\\n\\nselectstring = \"\"\"CREATE OR REPLACE TABLE nothreadwetlands AS\\n\\nSELECT ATTRIBUTE,huc2, huc4, huc12, ST_AsText(ST_Intersection(ST_GeomFromWKB(wetlnd.geometry), \\nST_GeomFromWKB(huc12.geometry))) as geometry\\nFROM (SELECT ATTRIBUTE, geometry FROM read_parquet(\\'azure://abdu/nwi/**/*.parquet\\') \\nWHERE WETLAND_TYPE != \\'Riverine\\' AND huc4 IN {0}) AS wetlnd\\nJOIN huc12 ON \\nST_Intersects(ST_GeomFromWKB(wetlnd.geometry), ST_GeomFromWKB(huc12.geometry))\\n\"\"\".format(tuple(hucs))\\ncon.sql(selectstring)\\n'"
      ]
     },
     "execution_count": 8,
     "metadata": {},
     "output_type": "execute_result"
    }
   ],
   "source": [
    "''' NOT NEEDED.  Using threading instead\n",
    "%%time\n",
    "Clip wetlands that aren't riverine to the hucs selected by the aoi.\n",
    "\n",
    "selectstring = \"\"\"CREATE OR REPLACE TABLE nothreadwetlands AS\n",
    "\n",
    "SELECT ATTRIBUTE,huc2, huc4, huc12, ST_AsText(ST_Intersection(ST_GeomFromWKB(wetlnd.geometry), \n",
    "ST_GeomFromWKB(huc12.geometry))) as geometry\n",
    "FROM (SELECT ATTRIBUTE, geometry FROM read_parquet('azure://abdu/nwi/**/*.parquet') \n",
    "WHERE WETLAND_TYPE != 'Riverine' AND huc4 IN {0}) AS wetlnd\n",
    "JOIN huc12 ON \n",
    "ST_Intersects(ST_GeomFromWKB(wetlnd.geometry), ST_GeomFromWKB(huc12.geometry))\n",
    "\"\"\".format(tuple(hucs))\n",
    "con.sql(selectstring)\n",
    "'''"
   ]
  },
  {
   "cell_type": "code",
   "execution_count": 9,
   "id": "88cbddf0",
   "metadata": {},
   "outputs": [],
   "source": [
    "##### TEST THREADING #####"
   ]
  },
  {
   "cell_type": "code",
   "execution_count": 10,
   "id": "f902dfbc",
   "metadata": {},
   "outputs": [],
   "source": [
    "con.execute(\"\"\"\n",
    "    CREATE OR REPLACE TABLE my_wetlands (\n",
    "        ATTRIBUTE VARCHAR,\n",
    "        huc2 VARCHAR,\n",
    "        huc4 VARCHAR,\n",
    "        huc12 VARCHAR,\n",
    "        geometry VARCHAR,\n",
    "    )\n",
    "\"\"\")\n",
    "def write_from_thread(con):\n",
    "    local_con = con.cursor()\n",
    "    huc = str(current_thread().name)\n",
    "    local_con.sql(\"SET azure_storage_connection_string = 'DefaultEndpointsProtocol=https;AccountName=giscog;EndpointSuffix=core.windows.net';\")\n",
    "    result = local_con.execute('''INSERT INTO my_wetlands (SELECT ATTRIBUTE,huc2, huc4, huc12, ST_AsText(ST_Intersection(ST_GeomFromWKB(wetlnd.geometry), \n",
    "        ST_GeomFromWKB(huc12.geometry))) as geometry\n",
    "        FROM (SELECT ATTRIBUTE, geometry FROM read_parquet('azure://abdu/nwi/**/*.parquet') \n",
    "        WHERE WETLAND_TYPE != 'Riverine' AND huc4 = '{0}') AS wetlnd\n",
    "        JOIN huc12 ON \n",
    "        ST_Intersects(ST_GeomFromWKB(wetlnd.geometry), ST_GeomFromWKB(huc12.geometry)))'''.format(huc)).fetchall()"
   ]
  },
  {
   "cell_type": "code",
   "execution_count": 11,
   "id": "38cb8035",
   "metadata": {},
   "outputs": [
    {
     "name": "stdout",
     "output_type": "stream",
     "text": [
      "['0801', '0802']\n",
      "0801\n",
      "0802\n"
     ]
    },
    {
     "data": {
      "text/plain": [
       "[<Thread(0801, initial)>, <Thread(0802, initial)>]"
      ]
     },
     "execution_count": 11,
     "metadata": {},
     "output_type": "execute_result"
    }
   ],
   "source": [
    "threads = []\n",
    "print(hucs)\n",
    "for i in range(len(hucs)):\n",
    "    huc = hucs[i]\n",
    "    print(huc)\n",
    "    threads.append(Thread(target = write_from_thread,\n",
    "                            args = (con,),\n",
    "                            name = huc))\n",
    "    \n",
    "threads"
   ]
  },
  {
   "cell_type": "code",
   "execution_count": 12,
   "id": "e56b5bec",
   "metadata": {},
   "outputs": [
    {
     "name": "stdout",
     "output_type": "stream",
     "text": [
      "CPU times: total: 6.8 s\n",
      "Wall time: 42.9 s\n"
     ]
    }
   ],
   "source": [
    "%%time\n",
    "# Kick off all threads in parallel\n",
    "for thread in threads:\n",
    "    thread.start()\n",
    "\n",
    "# Ensure all threads complete before printing final results\n",
    "for thread in threads:\n",
    "    thread.join()\n",
    "\n",
    "con.sql(\"\"\"\n",
    "    CREATE OR REPLACE TABLE wetlands AS \n",
    "    SELECT * FROM my_wetlands \n",
    "\"\"\")"
   ]
  },
  {
   "cell_type": "code",
   "execution_count": 13,
   "id": "4b99611e",
   "metadata": {},
   "outputs": [],
   "source": [
    "##### END THREADING #####"
   ]
  },
  {
   "cell_type": "code",
   "execution_count": 14,
   "id": "8fc1ec5f",
   "metadata": {},
   "outputs": [
    {
     "data": {
      "application/vnd.jupyter.widget-view+json": {
       "model_id": "937e622345f64e0492c2adc6077d9800",
       "version_major": 2,
       "version_minor": 0
      },
      "text/plain": [
       "FloatProgress(value=0.0, layout=Layout(width='auto'), style=ProgressStyle(bar_color='black'))"
      ]
     },
     "metadata": {},
     "output_type": "display_data"
    },
    {
     "data": {
      "application/vnd.jupyter.widget-view+json": {
       "model_id": "6e35ebfc828c45d1938625f4c2777fb3",
       "version_major": 2,
       "version_minor": 0
      },
      "text/plain": [
       "FloatProgress(value=0.0, layout=Layout(width='auto'), style=ProgressStyle(bar_color='black'))"
      ]
     },
     "metadata": {},
     "output_type": "display_data"
    }
   ],
   "source": [
    "'''\n",
    "Import wetland crossclass data and assign classes to the nwi table\n",
    "'''\n",
    "con.sql(\"\"\"CREATE OR REPLACE TABLE crossnwi AS (UNPIVOT (FROM (SELECT * FROM read_json_auto('aoiWetland.json', maximum_object_size=100000000))) ON COLUMNS(*))\"\"\")\n",
    "con.sql(\"\"\"CREATE OR REPLACE TABLE crossnwi AS SELECT name, UNNEST(value) AS value FROM crossnwi\"\"\")\n",
    "con.sql(\"\"\"CREATE OR REPLACE TABLE wetlands AS\n",
    "SELECT name, huc12, geometry FROM (SELECT * FROM wetlands) AS wetselect\n",
    "LEFT JOIN crossnwi ON wetselect.ATTRIBUTE LIKE crossnwi.value\n",
    "\"\"\")\n",
    "con.sql(f\"\"\"CREATE OR REPLACE TABLE wetlands AS\n",
    "(SELECT replace(wetlands.name, '_', '') AS name, huc12, ST_Area(ST_geomfromtext(geometry))*0.0001 AS ha, kcal, kcal*ha AS avalNrgy, geometry FROM wetlands\n",
    "LEFT JOIN read_csv_auto('azure://abdu/kcal.csv') ON replace(wetlands.name, '_', '') = read_csv_auto.habitatType\n",
    "WHERE wetlands.name IS NOT NULL)\n",
    "\"\"\")"
   ]
  },
  {
   "cell_type": "code",
   "execution_count": 15,
   "id": "f6b3eca5",
   "metadata": {},
   "outputs": [],
   "source": [
    "#################################\n",
    "#################################\n",
    "#################################\n",
    "#################################\n",
    "#################################\n",
    "#################################\n",
    "#################################\n",
    "#################################\n",
    "#################################\n",
    "#################################"
   ]
  },
  {
   "cell_type": "code",
   "execution_count": 16,
   "id": "61983cb9",
   "metadata": {},
   "outputs": [
    {
     "data": {
      "application/vnd.jupyter.widget-view+json": {
       "model_id": "f0508c216bf94d308f8eca3a30a8a4a6",
       "version_major": 2,
       "version_minor": 0
      },
      "text/plain": [
       "FloatProgress(value=0.0, layout=Layout(width='auto'), style=ProgressStyle(bar_color='black'))"
      ]
     },
     "metadata": {},
     "output_type": "display_data"
    }
   ],
   "source": [
    "'''\n",
    "Read in PADUS\n",
    "'''\n",
    "con.sql(\"\"\"\n",
    "CREATE OR REPLACE TABLE protected AS \n",
    "SELECT CATEGORY, huc12, huc2, huc4, ST_AsText(ST_Intersection(ST_GeomFromWKB(huc12.geometry), ST_GeomFromWKB(prot.geometry))) as geometry\n",
    "FROM (SELECT CATEGORY, geometry FROM read_parquet('azure://abdu/padus/**/*.parquet')\n",
    "WHERE CATEGORY IN ('Fee', 'Easements', 'Other') AND huc4 IN {0}) AS prot\n",
    "JOIN huc12 ON \n",
    "ST_Intersects(ST_GeomFromWKB(huc12.geometry), ST_GeomFromWKB(prot.geometry))\n",
    "\"\"\".format(tuple(hucs)))"
   ]
  },
  {
   "cell_type": "code",
   "execution_count": 17,
   "id": "00a51875",
   "metadata": {},
   "outputs": [],
   "source": [
    "con.sql(\"\"\"\n",
    "CREATE OR REPLACE TABLE protwetlands AS\n",
    "SELECT name, wetlands.huc12, kcal, ST_AsText(ST_Intersection(ST_GeomFromText(protected.geometry), ST_GeomFromText(wetlands.geometry))) as geometry\n",
    "FROM (SELECT * from protected) as protected\n",
    "JOIN wetlands ON \n",
    "ST_Intersects(ST_GeomFromText(wetlands.geometry), ST_GeomFromText(protected.geometry))\n",
    "\"\"\")"
   ]
  },
  {
   "cell_type": "code",
   "execution_count": 18,
   "id": "68528bf5",
   "metadata": {},
   "outputs": [],
   "source": [
    "con.sql(\"\"\"\n",
    "CREATE OR REPLACE TABLE protwetlands AS\n",
    "SELECT DISTINCT name, huc12, ST_Area(ST_GeomFromText(geometry))*0.0001 AS ProtHabHa, kcal, kcal*ProtHabHa AS protNrgy, geometry FROM protwetlands\n",
    "\"\"\")"
   ]
  },
  {
   "cell_type": "code",
   "execution_count": 19,
   "id": "6643d598",
   "metadata": {},
   "outputs": [],
   "source": [
    "#################################\n",
    "#################################\n",
    "#################################\n",
    "#################################\n",
    "#################################\n",
    "#################################\n",
    "#################################\n",
    "#################################\n",
    "#################################\n",
    "#################################"
   ]
  },
  {
   "cell_type": "code",
   "execution_count": 20,
   "id": "f0af6999",
   "metadata": {},
   "outputs": [],
   "source": [
    "# Need huc12 geometry\n",
    "df = con.sql('SELECT ST_AsText(ST_geomfromwkb(geometry)) as geometry from huc12').df()\n",
    "df['geometry'] = df['geometry'].apply(wkt.loads)\n",
    "df = gpd.GeoDataFrame(df, geometry='geometry', crs=5070)"
   ]
  },
  {
   "cell_type": "code",
   "execution_count": 21,
   "id": "40468785",
   "metadata": {},
   "outputs": [],
   "source": [
    "'''\n",
    "Read in NLCD clipped to hucs\n",
    "'''\n",
    "with rasterio.open('https://giscog.blob.core.windows.net/newcontainer/nlcd2019_cog.tif') as src:\n",
    "    # Clip the raster to the geometry of the shapefile\n",
    "    clipped_data, transform = mask.mask(src, df.geometry, crop=True)\n",
    "\n",
    "clipped_data[clipped_data>23]=0\n",
    "clipped_data[clipped_data<21]=0\n",
    "clipped_data[clipped_data==21]=1\n",
    "clipped_data[clipped_data==22]=1\n",
    "clipped_data[clipped_data==23]=1\n",
    "shapes = rasterio.features.shapes(clipped_data[0], transform=transform, mask=clipped_data[0] == 1)\n",
    "# Create a GeoDataFrame from the vector polygons\n",
    "gdf_vector = gpd.GeoDataFrame({'geometry': [shape(geom) for geom, value in shapes]})\n",
    "gdf_vector['geometry'] = gdf_vector.to_wkb().geometry\n",
    "con.sql(\"CREATE OR REPLACE TABLE urban AS SELECT * EXCLUDE geometry, ST_AsText(ST_GeomFromWKB(geometry)) AS geometry FROM gdf_vector\")"
   ]
  },
  {
   "cell_type": "code",
   "execution_count": 22,
   "id": "56e27c2d",
   "metadata": {},
   "outputs": [],
   "source": [
    "con.sql(\"\"\"\n",
    "CREATE OR REPLACE TABLE urban AS \n",
    "SELECT huc12, ST_Intersection(ST_GeomFromWKB(huc12.geometry), ST_GeomFromText(urban.geometry)) as geometry\n",
    "FROM (SELECT  geometry FROM urban) as urban\n",
    "JOIN huc12 ON \n",
    "ST_Intersects(ST_GeomFromWKB(huc12.geometry), ST_GeomFromText(urban.geometry))\n",
    "\"\"\")"
   ]
  },
  {
   "cell_type": "code",
   "execution_count": 23,
   "id": "99a8c0a8",
   "metadata": {},
   "outputs": [
    {
     "data": {
      "application/vnd.jupyter.widget-view+json": {
       "model_id": "35e9831dd7324be2b7f2b408f132840c",
       "version_major": 2,
       "version_minor": 0
      },
      "text/plain": [
       "FloatProgress(value=0.0, layout=Layout(width='auto'), style=ProgressStyle(bar_color='black'))"
      ]
     },
     "metadata": {},
     "output_type": "display_data"
    }
   ],
   "source": [
    "con.sql(\"\"\"\n",
    "CREATE OR REPLACE TABLE urbanwetlands AS\n",
    "SELECT name, wetlands.huc12, kcal, ST_AsText(ST_Intersection((urban.geometry), ST_GeomFromText(wetlands.geometry))) as geometry\n",
    "FROM (SELECT * from urban) as urban\n",
    "JOIN wetlands ON \n",
    "ST_Intersects(ST_GeomFromText(wetlands.geometry), (urban.geometry))\n",
    "\"\"\")\n",
    "con.sql(\"\"\"\n",
    "CREATE OR REPLACE TABLE urbanwetlands AS\n",
    "SELECT DISTINCT name, huc12, ST_Area(ST_geomfromtext(geometry))*0.0001 AS ha, kcal, kcal*ha AS urbanNrgy, geometry FROM urbanwetlands\n",
    "\"\"\")"
   ]
  },
  {
   "cell_type": "code",
   "execution_count": 24,
   "id": "5540cd74",
   "metadata": {},
   "outputs": [],
   "source": [
    "con.sql(\"\"\"\n",
    "CREATE OR REPLACE TABLE urban AS\n",
    "SELECT huc12, ST_Area(geometry)*0.0001 AS urbanHa, geometry FROM urban\n",
    "\"\"\")"
   ]
  },
  {
   "cell_type": "code",
   "execution_count": 25,
   "id": "32db5e52",
   "metadata": {},
   "outputs": [],
   "source": [
    "con.sql(\"\"\"\n",
    "CREATE OR REPLACE TABLE unavailable AS\n",
    "SELECT huc12, ST_Area(geometry)*0.0001 AS unavailHa, ST_Union_Agg(geometry) as geometry FROM\n",
    "(\n",
    "SELECT huc12, geometry FROM urban\n",
    "UNION ALL\n",
    "SELECT huc12, geometry from protected\n",
    ")\n",
    "group by huc12, geometry\n",
    "\"\"\")"
   ]
  },
  {
   "cell_type": "code",
   "execution_count": 26,
   "id": "46fcc924",
   "metadata": {},
   "outputs": [
    {
     "data": {
      "text/plain": [
       "'\\n#################################\\nEnd of data import\\nStarting model process\\n#################################\\n'"
      ]
     },
     "execution_count": 26,
     "metadata": {},
     "output_type": "execute_result"
    }
   ],
   "source": [
    "#################################\n",
    "#################################\n",
    "#################################\n",
    "#################################\n",
    "#################################\n",
    "#################################\n",
    "#################################\n",
    "#################################\n",
    "#################################\n",
    "#################################\n",
    "'''\n",
    "#################################\n",
    "End of data import\n",
    "Starting model process\n",
    "#################################\n",
    "'''\n",
    "#### Prepping energy - Join energy to nwi.  Need to create the spatial kcal table first. What's the best way to do this?\n",
    "# parquet is the best to read in but it's not easily editable.  Rest service would be ok but again, not great because\n",
    "# reading those is difficult.  I wonder if"
   ]
  },
  {
   "cell_type": "code",
   "execution_count": 27,
   "id": "96a32432",
   "metadata": {},
   "outputs": [
    {
     "data": {
      "text/plain": [
       "'\\nDemand\\n\\n######\\nNeed to proportion demand based on available energy.  Available energy is spatially explicit but demand is at the fips\\ncount level.  We need to calculate total energy and demand at the huc12 scale.\\nTo proportion demand we need to calclulate total energy by fips then calculate how much energy is in each huc12. A proportion\\ncan then be calculated by dividing total energy within a fips by (huc12,fips) group.  Demand at the huc12 level is multiplied\\nby that energy proportion.\\n######\\n'"
      ]
     },
     "execution_count": 27,
     "metadata": {},
     "output_type": "execute_result"
    }
   ],
   "source": [
    "'''\n",
    "Demand\n",
    "\n",
    "######\n",
    "Need to proportion demand based on available energy.  Available energy is spatially explicit but demand is at the fips\n",
    "count level.  We need to calculate total energy and demand at the huc12 scale.\n",
    "To proportion demand we need to calclulate total energy by fips then calculate how much energy is in each huc12. A proportion\n",
    "can then be calculated by dividing total energy within a fips by (huc12,fips) group.  Demand at the huc12 level is multiplied\n",
    "by that energy proportion.\n",
    "######\n",
    "'''"
   ]
  },
  {
   "cell_type": "code",
   "execution_count": 28,
   "id": "9bc6f466",
   "metadata": {},
   "outputs": [],
   "source": [
    "'''\n",
    "Read in demand clipped by hucs\n",
    "'''\n",
    "con.sql(f\"\"\"\n",
    "CREATE OR REPLACE TABLE demandfull AS SELECT * EXCLUDE geometry, ST_AsText(ST_GeomFromWKB(read_parquet.geometry)) as geometry\n",
    "FROM read_parquet('azure://abdu/Demand9Species.parquet')\n",
    "JOIN huc12 ON \n",
    "ST_Intersects(ST_GeomFromWKB(read_parquet.geometry), ST_GeomFromWKB(huc12.geometry))\n",
    "\"\"\")\n",
    "con.sql(f\"\"\"\n",
    "CREATE OR REPLACE TABLE demand AS SELECT * EXCLUDE geometry, ST_AsText(ST_Intersection(ST_GeomFromWKB(huc12.geometry), ST_GeomFromWKB(read_parquet.geometry))) as geometry\n",
    "FROM read_parquet('azure://abdu/Demand9Species.parquet')\n",
    "JOIN huc12 ON \n",
    "ST_Intersects(ST_GeomFromWKB(huc12.geometry), ST_GeomFromWKB(read_parquet.geometry))\n",
    "\"\"\")\n",
    "con.sql(\"\"\"CREATE OR REPLACE TABLE demand AS SELECT fips, huc12, CODE, LTADUD, LTADemand, LTAPopObj, x80DUD, X80Demand, X80PopObj, ST_Area(geometry)*0.0001 AS ha, geometry FROM (\n",
    "SELECT fips, huc12.huc12, CODE, LTADUD, LTADemand, LTAPopObj, x80DUD, X80Demand, X80PopObj, ST_Intersection(ST_GeomFromText(demand.geometry), ST_GeomFromWKB(huc12.geometry)) as geometry FROM demand\n",
    "JOIN huc12 ON ST_Intersects(ST_GeomFromText(demand.geometry), ST_GeomFromWKB(huc12.geometry))\n",
    "WHERE species='All'\n",
    ")\n",
    "\"\"\")"
   ]
  },
  {
   "cell_type": "code",
   "execution_count": 29,
   "id": "ffcfb106",
   "metadata": {},
   "outputs": [
    {
     "data": {
      "text/plain": [
       "[['47097'], ['05093'], ['29155'], ['29069'], ['05111']]"
      ]
     },
     "execution_count": 29,
     "metadata": {},
     "output_type": "execute_result"
    }
   ],
   "source": [
    "con.sql(\"\"\"\n",
    "CREATE OR REPLACE TABLE demandfull AS SELECT DISTINCT fips, ST_Union_Agg(ST_GeomFromText(geometry)) as geometry from demandfull\n",
    "group by fips\n",
    "\"\"\")\n",
    "fullfips = con.sql(\"\"\"SELECT fips from demandfull\"\"\").df().values.tolist()\n",
    "fullfips"
   ]
  },
  {
   "cell_type": "code",
   "execution_count": 30,
   "id": "c2979775",
   "metadata": {},
   "outputs": [
    {
     "data": {
      "text/plain": [
       "'\\n%%time\\n\\nIterate through fips.\\nClip wetlands that aren\\'t riverine to the fips selected by the aoi to calculate total energy within the fips\\n\\ntmp = pd.DataFrame()\\nfor fip in fullfips:\\n    print(fip)\\n    selectstring = \"\"\"\\n    CREATE OR REPLACE table tmpwet AS\\n    (\\n    SELECT ATTRIBUTE,fips, ST_AsText(ST_Intersection(ST_GeomFromWKB(wetlnd.geometry), dmd.geometry)) as geometry\\n    FROM (SELECT ATTRIBUTE, geometry FROM read_parquet(\\'azure://abdu/nwi/**/*.parquet\\')\\n    WHERE WETLAND_TYPE != \\'Riverine\\') AS wetlnd\\n    JOIN (SELECT fips, geometry FROM demandfull WHERE fips=\\'{0}\\') as dmd ON \\n    ST_Intersects(ST_GeomFromWKB(wetlnd.geometry), dmd.geometry)\\n    )\\n    \"\"\".format(fip[0])\\n    con.sql(selectstring)\\n    con.sql(\"\"\"CREATE OR REPLACE TABLE crossnwi AS (UNPIVOT (FROM (SELECT * FROM read_json_auto(\\'aoiWetland.json\\', maximum_object_size=100000000))) ON COLUMNS(*))\"\"\")\\n    con.sql(\"\"\"CREATE OR REPLACE TABLE crossnwi AS SELECT name, UNNEST(value) AS value FROM crossnwi\"\"\")\\n    con.sql(\"\"\"CREATE OR REPLACE TABLE tmpwet AS\\n    SELECT name, fips, geometry FROM (SELECT * FROM tmpwet) AS wetselect\\n    LEFT JOIN crossnwi ON wetselect.ATTRIBUTE LIKE crossnwi.value\\n    \"\"\")\\n    con.sql(f\"\"\"CREATE OR REPLACE TABLE tmpwet AS\\n    (SELECT replace(tmpwet.name, \\'_\\', \\'\\') AS name, fips, geometry, kcal FROM tmpwet\\n    LEFT JOIN read_csv_auto(\\'azure://abdu/kcal.csv\\') ON replace(tmpwet.name, \\'_\\', \\'\\') = read_csv_auto.habitatType\\n    WHERE tmpwet.name IS NOT NULL)\\n    \"\"\")\\n    con.sql(\"\"\"CREATE OR REPLACE TABLE newdata AS (\\n    SELECT name, fips, kcal, ST_Area(geometry)*0.0001 AS ha, ha*kcal AS avalNrgy FROM(\\n    SELECT name, fips, kcal, ST_Union_Agg(ST_GeomFromText(geometry)) AS geometry FROM tmpwet\\n    GROUP BY name, fips, kcal))\\n    \"\"\")\\n    final = con.sql(\"SELECT fips, SUM(avalNrgy) from newdata GROUP BY fips\").df()\\n    tmp = pd.concat([tmp, final])\\ncon.sql(\"\"\"CREATE OR REPLACE TABLE fipsavalNRGtext AS SELECT fips, \"sum(avalNrgy)\" as fipsnrgysum from tmp\"\"\")\\ncon.sql(\"\"\"select * from fipsavalNRGtext\"\"\")\\n'"
      ]
     },
     "execution_count": 30,
     "metadata": {},
     "output_type": "execute_result"
    }
   ],
   "source": [
    "'''\n",
    "%%time\n",
    "\n",
    "Iterate through fips.\n",
    "Clip wetlands that aren't riverine to the fips selected by the aoi to calculate total energy within the fips\n",
    "\n",
    "tmp = pd.DataFrame()\n",
    "for fip in fullfips:\n",
    "    print(fip)\n",
    "    selectstring = \"\"\"\n",
    "    CREATE OR REPLACE table tmpwet AS\n",
    "    (\n",
    "    SELECT ATTRIBUTE,fips, ST_AsText(ST_Intersection(ST_GeomFromWKB(wetlnd.geometry), dmd.geometry)) as geometry\n",
    "    FROM (SELECT ATTRIBUTE, geometry FROM read_parquet('azure://abdu/nwi/**/*.parquet')\n",
    "    WHERE WETLAND_TYPE != 'Riverine') AS wetlnd\n",
    "    JOIN (SELECT fips, geometry FROM demandfull WHERE fips='{0}') as dmd ON \n",
    "    ST_Intersects(ST_GeomFromWKB(wetlnd.geometry), dmd.geometry)\n",
    "    )\n",
    "    \"\"\".format(fip[0])\n",
    "    con.sql(selectstring)\n",
    "    con.sql(\"\"\"CREATE OR REPLACE TABLE crossnwi AS (UNPIVOT (FROM (SELECT * FROM read_json_auto('aoiWetland.json', maximum_object_size=100000000))) ON COLUMNS(*))\"\"\")\n",
    "    con.sql(\"\"\"CREATE OR REPLACE TABLE crossnwi AS SELECT name, UNNEST(value) AS value FROM crossnwi\"\"\")\n",
    "    con.sql(\"\"\"CREATE OR REPLACE TABLE tmpwet AS\n",
    "    SELECT name, fips, geometry FROM (SELECT * FROM tmpwet) AS wetselect\n",
    "    LEFT JOIN crossnwi ON wetselect.ATTRIBUTE LIKE crossnwi.value\n",
    "    \"\"\")\n",
    "    con.sql(f\"\"\"CREATE OR REPLACE TABLE tmpwet AS\n",
    "    (SELECT replace(tmpwet.name, '_', '') AS name, fips, geometry, kcal FROM tmpwet\n",
    "    LEFT JOIN read_csv_auto('azure://abdu/kcal.csv') ON replace(tmpwet.name, '_', '') = read_csv_auto.habitatType\n",
    "    WHERE tmpwet.name IS NOT NULL)\n",
    "    \"\"\")\n",
    "    con.sql(\"\"\"CREATE OR REPLACE TABLE newdata AS (\n",
    "    SELECT name, fips, kcal, ST_Area(geometry)*0.0001 AS ha, ha*kcal AS avalNrgy FROM(\n",
    "    SELECT name, fips, kcal, ST_Union_Agg(ST_GeomFromText(geometry)) AS geometry FROM tmpwet\n",
    "    GROUP BY name, fips, kcal))\n",
    "    \"\"\")\n",
    "    final = con.sql(\"SELECT fips, SUM(avalNrgy) from newdata GROUP BY fips\").df()\n",
    "    tmp = pd.concat([tmp, final])\n",
    "con.sql(\"\"\"CREATE OR REPLACE TABLE fipsavalNRGtext AS SELECT fips, \"sum(avalNrgy)\" as fipsnrgysum from tmp\"\"\")\n",
    "con.sql(\"\"\"select * from fipsavalNRGtext\"\"\")\n",
    "'''"
   ]
  },
  {
   "cell_type": "code",
   "execution_count": 31,
   "id": "304d2515",
   "metadata": {},
   "outputs": [],
   "source": [
    "##### TEST THREADING #####"
   ]
  },
  {
   "cell_type": "code",
   "execution_count": 32,
   "id": "a1e48bc4",
   "metadata": {},
   "outputs": [
    {
     "name": "stdout",
     "output_type": "stream",
     "text": [
      "[['47097'], ['05093'], ['29155'], ['29069'], ['05111']]\n",
      "['05093', '05111', '29069', '29155', '47097']\n"
     ]
    }
   ],
   "source": [
    "print(fullfips)\n",
    "listfips = sorted([item for items in fullfips for item in items])\n",
    "print(listfips)"
   ]
  },
  {
   "cell_type": "code",
   "execution_count": 33,
   "id": "4f7a7793",
   "metadata": {},
   "outputs": [],
   "source": [
    "con.execute(\"\"\"\n",
    "    CREATE OR REPLACE TABLE my_inserts (\n",
    "        ATTRIBUTE VARCHAR,\n",
    "        fips VARCHAR,\n",
    "        geometry VARCHAR\n",
    "    )\"\"\")\n",
    "def write_from_thread(con):\n",
    "    local_con = con.cursor()\n",
    "    fip = str(current_thread().name)\n",
    "    local_con.sql(\"SET azure_storage_connection_string = 'DefaultEndpointsProtocol=https;AccountName=giscog;EndpointSuffix=core.windows.net';\")\n",
    "    result = local_con.execute(\"\"\"\n",
    "    INSERT INTO my_inserts\n",
    "    (\n",
    "    SELECT ATTRIBUTE,fips, ST_AsText(ST_Intersection(ST_GeomFromWKB(wetlnd.geometry), dmd.geometry)) as geometry\n",
    "    FROM (SELECT ATTRIBUTE, geometry FROM read_parquet('azure://abdu/nwi/**/*.parquet')\n",
    "    WHERE WETLAND_TYPE != 'Riverine') AS wetlnd\n",
    "    JOIN (SELECT fips, geometry FROM demandfull WHERE fips='{0}') as dmd ON \n",
    "    ST_Intersects(ST_GeomFromWKB(wetlnd.geometry), dmd.geometry)\n",
    "    )\n",
    "    \"\"\".format(fip)).fetchall()"
   ]
  },
  {
   "cell_type": "code",
   "execution_count": 34,
   "id": "263e78d0",
   "metadata": {},
   "outputs": [
    {
     "name": "stdout",
     "output_type": "stream",
     "text": [
      "['05093', '05111', '29069', '29155', '47097']\n",
      "05093\n",
      "05111\n",
      "29069\n",
      "29155\n",
      "47097\n"
     ]
    },
    {
     "data": {
      "text/plain": [
       "[<Thread(05093, initial)>,\n",
       " <Thread(05111, initial)>,\n",
       " <Thread(29069, initial)>,\n",
       " <Thread(29155, initial)>,\n",
       " <Thread(47097, initial)>]"
      ]
     },
     "execution_count": 34,
     "metadata": {},
     "output_type": "execute_result"
    }
   ],
   "source": [
    "threads = []\n",
    "print(listfips)\n",
    "for i in range(len(listfips)):\n",
    "    fip = listfips[i]\n",
    "    print(fip)\n",
    "    threads.append(Thread(target = write_from_thread,\n",
    "                            args = (con,),\n",
    "                            name = fip))\n",
    "    \n",
    "threads"
   ]
  },
  {
   "cell_type": "code",
   "execution_count": 35,
   "id": "846b7a4a",
   "metadata": {},
   "outputs": [
    {
     "name": "stdout",
     "output_type": "stream",
     "text": [
      "CPU times: total: 15min 23s\n",
      "Wall time: 39min 51s\n"
     ]
    }
   ],
   "source": [
    "%%time\n",
    "# Kick off all threads in parallel\n",
    "for thread in threads:\n",
    "    thread.start()\n",
    "\n",
    "# Ensure all threads complete before printing final results\n",
    "for thread in threads:\n",
    "    thread.join()"
   ]
  },
  {
   "cell_type": "code",
   "execution_count": 36,
   "id": "27cf76c9",
   "metadata": {},
   "outputs": [
    {
     "data": {
      "application/vnd.jupyter.widget-view+json": {
       "model_id": "9fbf97ad94e545ae94001325c2b5fa66",
       "version_major": 2,
       "version_minor": 0
      },
      "text/plain": [
       "FloatProgress(value=0.0, layout=Layout(width='auto'), style=ProgressStyle(bar_color='black'))"
      ]
     },
     "metadata": {},
     "output_type": "display_data"
    },
    {
     "data": {
      "application/vnd.jupyter.widget-view+json": {
       "model_id": "05f3b9043c4743b2a893e64dc13d343d",
       "version_major": 2,
       "version_minor": 0
      },
      "text/plain": [
       "FloatProgress(value=0.0, layout=Layout(width='auto'), style=ProgressStyle(bar_color='black'))"
      ]
     },
     "metadata": {},
     "output_type": "display_data"
    },
    {
     "data": {
      "application/vnd.jupyter.widget-view+json": {
       "model_id": "d7d95a8a25c2414ab33994b9f07f87fb",
       "version_major": 2,
       "version_minor": 0
      },
      "text/plain": [
       "FloatProgress(value=0.0, layout=Layout(width='auto'), style=ProgressStyle(bar_color='black'))"
      ]
     },
     "metadata": {},
     "output_type": "display_data"
    },
    {
     "name": "stdout",
     "output_type": "stream",
     "text": [
      "CPU times: total: 20min 21s\n",
      "Wall time: 4min 20s\n"
     ]
    }
   ],
   "source": [
    "%%time\n",
    "con.sql(\"\"\"CREATE OR REPLACE TABLE crossnwi AS (UNPIVOT (FROM (SELECT * FROM read_json_auto('aoiWetland.json', maximum_object_size=100000000))) ON COLUMNS(*))\"\"\")\n",
    "con.sql(\"\"\"CREATE OR REPLACE TABLE crossnwi AS SELECT name, UNNEST(value) AS value FROM crossnwi\"\"\")\n",
    "con.sql(\"\"\"CREATE OR REPLACE TABLE tmpwet AS\n",
    "SELECT name, fips, geometry FROM (SELECT * FROM my_inserts) AS wetselect\n",
    "LEFT JOIN crossnwi ON wetselect.ATTRIBUTE LIKE crossnwi.value\n",
    "\"\"\")\n",
    "con.sql(f\"\"\"CREATE OR REPLACE TABLE tmpwet AS\n",
    "(SELECT replace(tmpwet.name, '_', '') AS name, fips, geometry, kcal FROM tmpwet\n",
    "LEFT JOIN read_csv_auto('azure://abdu/kcal.csv') ON replace(tmpwet.name, '_', '') = read_csv_auto.habitatType\n",
    "WHERE tmpwet.name IS NOT NULL)\n",
    "\"\"\")\n",
    "con.sql(\"\"\"CREATE OR REPLACE TABLE newdata AS (\n",
    "SELECT name, fips, kcal, ST_Area(geometry)*0.0001 AS ha, ha*kcal AS avalNrgy FROM(\n",
    "SELECT name, fips, kcal, ST_Union_Agg(ST_GeomFromText(geometry)) AS geometry FROM tmpwet\n",
    "GROUP BY name, fips, kcal))\n",
    "\"\"\")"
   ]
  },
  {
   "cell_type": "code",
   "execution_count": 37,
   "id": "414f171e",
   "metadata": {},
   "outputs": [
    {
     "data": {
      "text/plain": [
       "┌─────────────┬─────────────┬─────────┬─────────┬─────────┬───────┐\n",
       "│ column_name │ column_type │  null   │   key   │ default │ extra │\n",
       "│   varchar   │   varchar   │ varchar │ varchar │ varchar │ int32 │\n",
       "├─────────────┼─────────────┼─────────┼─────────┼─────────┼───────┤\n",
       "│ name        │ VARCHAR     │ YES     │ NULL    │ NULL    │  NULL │\n",
       "│ fips        │ VARCHAR     │ YES     │ NULL    │ NULL    │  NULL │\n",
       "│ kcal        │ BIGINT      │ YES     │ NULL    │ NULL    │  NULL │\n",
       "│ ha          │ DOUBLE      │ YES     │ NULL    │ NULL    │  NULL │\n",
       "│ avalNrgy    │ DOUBLE      │ YES     │ NULL    │ NULL    │  NULL │\n",
       "└─────────────┴─────────────┴─────────┴─────────┴─────────┴───────┘"
      ]
     },
     "execution_count": 37,
     "metadata": {},
     "output_type": "execute_result"
    }
   ],
   "source": [
    "con.sql('describe newdata')"
   ]
  },
  {
   "cell_type": "code",
   "execution_count": 38,
   "id": "cd2ae29d",
   "metadata": {},
   "outputs": [
    {
     "data": {
      "text/plain": [
       "┌─────────┬────────────────────┐\n",
       "│  fips   │    fipsnrgysum     │\n",
       "│ varchar │       double       │\n",
       "├─────────┼────────────────────┤\n",
       "│ 47097   │  6412826086.457126 │\n",
       "│ 29155   │  3659891166.052708 │\n",
       "│ 05093   │  4343586557.220324 │\n",
       "│ 29069   │ 2179175072.3020926 │\n",
       "│ 05111   │  4853062003.605463 │\n",
       "└─────────┴────────────────────┘"
      ]
     },
     "execution_count": 38,
     "metadata": {},
     "output_type": "execute_result"
    }
   ],
   "source": [
    "con.sql(\"\"\"CREATE OR REPLACE TABLE fipsavalNRG AS SELECT fips, sum(avalNrgy) as fipsnrgysum from newdata group by fips\"\"\")\n",
    "con.sql(\"\"\"select * from fipsavalNRG\"\"\")"
   ]
  },
  {
   "cell_type": "code",
   "execution_count": 39,
   "id": "ad9b44da",
   "metadata": {},
   "outputs": [],
   "source": [
    "##### END TEST THREADING #####"
   ]
  },
  {
   "cell_type": "code",
   "execution_count": 40,
   "id": "42ae2547",
   "metadata": {},
   "outputs": [],
   "source": [
    "'''\n",
    "######\n",
    "Read in kcal.csv from azure and join to wetlands.\n",
    "This file is the habitat type (habitatType) and the kcal/Ha (kcal)\n",
    "######\n",
    "'''\n",
    "#\n",
    "con.sql(f\"\"\"CREATE OR REPLACE TABLE demandwetlands AS\n",
    "(SELECT replace(wetlands.name, '_', '') AS name, huc12, geometry, read_csv_auto.kcal FROM wetlands\n",
    "LEFT JOIN read_csv_auto('azure://abdu/kcal.csv') ON replace(wetlands.name, '_', '') = read_csv_auto.habitatType\n",
    "WHERE wetlands.name IS NOT NULL)\n",
    "\"\"\")"
   ]
  },
  {
   "cell_type": "code",
   "execution_count": 41,
   "id": "ee004680",
   "metadata": {},
   "outputs": [],
   "source": [
    "con.sql(\"\"\"CREATE OR REPLACE TABLE hucdemandenergy AS \n",
    "    (SELECT name,fips, demandwetlands.huc12, CODE, LTADUD, LTADemand, LTAPopObj, x80DUD, X80Demand, X80PopObj, kcal, \n",
    "    ST_Intersection(ST_GeomFromText(demandwetlands.geometry), (demand.geometry)) as geometry FROM demandwetlands\n",
    "    JOIN demand ON ST_Intersects(ST_GeomFromText(demandwetlands.geometry), (demand.geometry)))\"\"\")"
   ]
  },
  {
   "cell_type": "code",
   "execution_count": 42,
   "id": "70336ac4",
   "metadata": {},
   "outputs": [],
   "source": [
    "'''\n",
    "######\n",
    "Calculate available energy (avalNrgy) of wetlands by calculating area in Hectares (HA) and multiplying by kcal.\n",
    "Select only distinct rows.\n",
    "Create new table habitatenergy\n",
    "######\n",
    "'''\n",
    "#\n",
    "con.sql(\"\"\"CREATE OR REPLACE TABLE hucdemandenergy AS (SELECT DISTINCT name, fips, huc12, CODE, LTADUD, LTADemand, LTAPopObj, x80DUD, X80Demand, X80PopObj, kcal, geometry, ST_Area(geometry)*0.0001 AS ha,ha*kcal AS avalNrgy FROM hucdemandenergy)\"\"\")\n",
    "# DATA CHECK\n",
    "#con.sql(\"\"\"COPY (SELECT DISTINCT name, ST_AsWKB(ST_GeomFromText(geometry)) as geometry, ST_Area(ST_GeomFromText(geometry))*0.0001 AS ha, ha*kcal AS avalNrgy FROM wetlands) TO 'testwetland.parquet' (FORMAT PARQUET)\"\"\")"
   ]
  },
  {
   "cell_type": "code",
   "execution_count": 43,
   "id": "11ab9a85",
   "metadata": {},
   "outputs": [],
   "source": [
    "con.sql(\"\"\"CREATE OR REPLACE TABLE test AS (select name, hucdemandenergy.fips as fips,huc12, CODE, LTADUD, LTADemand, LTAPopObj, x80DUD, X80Demand, X80PopObj, kcal, avalNrgy, fipsnrgysum, (hucdemandenergy.avalNrgy/fipsavalNRG.fipsnrgysum) as pct, geometry from hucdemandenergy\n",
    "    JOIN fipsavalNRG on hucdemandenergy.fips = fipsavalNRG.fips\n",
    "    GROUP BY name, hucdemandenergy.fips, huc12, CODE, LTADUD, LTADemand, LTAPopObj, x80DUD, X80Demand, X80PopObj, kcal, avalNrgy, fipsnrgysum, geometry)\"\"\")"
   ]
  },
  {
   "cell_type": "code",
   "execution_count": 44,
   "id": "b3c8a06f",
   "metadata": {},
   "outputs": [],
   "source": [
    "fullfips = sorted([item for items in fullfips for item in items])\n",
    "sqlcall =\"\"\"CREATE OR REPLACE TABLE rdydemand as SELECT * FROM test WHERE fips In {0}\"\"\".format(tuple(fullfips))\n",
    "con.sql(sqlcall)"
   ]
  },
  {
   "cell_type": "code",
   "execution_count": 45,
   "id": "e116794a",
   "metadata": {},
   "outputs": [],
   "source": [
    "#con.sql(\"\"\"describe rdydemand\"\"\")\n",
    "con.sql(\"\"\"CREATE OR REPLACE TABLE hucdemand AS (SELECT huc12, code, \n",
    "sum(pct * LTADUD) AS LTADUD,\n",
    "sum(pct * LTADemand) AS LTADemand,\n",
    "sum(pct * LTAPopObj) AS LTAPopObj,\n",
    "sum(pct * x80DUD) AS x80DUD,\n",
    "sum(pct * X80Demand) AS X80Demand,\n",
    "sum(pct * X80PopObj) AS X80PopObj,\n",
    "FROM rdydemand\n",
    "GROUP BY huc12, code)\"\"\")"
   ]
  },
  {
   "cell_type": "code",
   "execution_count": 46,
   "id": "0a4df329",
   "metadata": {},
   "outputs": [
    {
     "data": {
      "text/plain": [
       "'\\nEND Demand\\n'"
      ]
     },
     "execution_count": 46,
     "metadata": {},
     "output_type": "execute_result"
    }
   ],
   "source": [
    "'''\n",
    "END Demand\n",
    "'''\n",
    "#################################\n",
    "#################################\n",
    "#################################\n",
    "#################################\n",
    "#################################\n",
    "#################################\n",
    "#################################\n",
    "#################################\n",
    "#################################\n",
    "#################################"
   ]
  },
  {
   "cell_type": "code",
   "execution_count": 47,
   "id": "05a8c6a2",
   "metadata": {},
   "outputs": [
    {
     "data": {
      "application/vnd.jupyter.widget-view+json": {
       "model_id": "c5a80d052e99459896875f09e03d8ae7",
       "version_major": 2,
       "version_minor": 0
      },
      "text/plain": [
       "FloatProgress(value=0.0, layout=Layout(width='auto'), style=ProgressStyle(bar_color='black'))"
      ]
     },
     "metadata": {},
     "output_type": "display_data"
    }
   ],
   "source": [
    "# Just added urbanNrgy line.  Going a very long time.  Might be a problem.\n",
    "# Testing unavailHa.still running.  TAking a long time.  Check this line too.\n",
    "\n",
    "# Specified selection in a cell or two below.  Many don't need geometry at this later point.  Joining is by huc12 so selecting\n",
    "# only the required columns makes the join go much faster.\n",
    "con.sql(\"\"\"CREATE OR REPLACE TABLE athuclevel AS SELECT huc12.huc12, CODE, \n",
    "LTADUD, LTADemand, LTAPopObj, X80DUD, X80Demand, X80PopObj, \n",
    "sum(avalNrgy) as tothabitat_kcal, \n",
    "sum(protNrgy) as protected_kcal, \n",
    "sum(ProtHabHa) as protectedhabitat_ha,\n",
    "sum(urbanHa) as urbanHa,\n",
    "huc12.geometry\n",
    "FROM huc12\n",
    "LEFT JOIN hucdemand on hucdemand.huc12 = huc12.huc12\n",
    "LEFT JOIN wetlands on wetlands.huc12 = huc12.huc12\n",
    "LEFT JOIN protwetlands on protwetlands.huc12 = huc12.huc12\n",
    "LEFT JOIN urban on urban.huc12 = huc12.huc12\n",
    "GROUP BY huc12.huc12, CODE, LTADUD, LTADemand, LTAPopObj, X80DUD, X80Demand, X80PopObj, huc12.geometry\n",
    "\"\"\")"
   ]
  },
  {
   "cell_type": "code",
   "execution_count": 48,
   "id": "ab8194f5",
   "metadata": {},
   "outputs": [
    {
     "data": {
      "text/plain": [
       "┌─────────┬─────────┬──────────────┬───────────┬───────────────────────────────────────────────────────────────────────┐\n",
       "│  huc2   │  huc4   │    huc12     │ areaacres │                               geometry                                │\n",
       "│ varchar │ varchar │   varchar    │  double   │                                 blob                                  │\n",
       "├─────────┼─────────┼──────────────┼───────────┼───────────────────────────────────────────────────────────────────────┤\n",
       "│ 08      │ 0801    │ 080101000604 │  51086.98 │ \\x01\\x06\\x00\\x00\\x00\\x01\\x00\\x00\\x00\\x01\\x03\\x00\\x00\\x00\\x01\\x00\\x0…  │\n",
       "│ 08      │ 0802    │ 080202031201 │  34522.78 │ \\x01\\x06\\x00\\x00\\x00\\x01\\x00\\x00\\x00\\x01\\x03\\x00\\x00\\x00\\x01\\x00\\x0…  │\n",
       "│ 08      │ 0802    │ 080202031203 │  30202.13 │ \\x01\\x06\\x00\\x00\\x00\\x01\\x00\\x00\\x00\\x01\\x03\\x00\\x00\\x00\\x01\\x00\\x0…  │\n",
       "│ 08      │ 0802    │ 080202031204 │  23311.82 │ \\x01\\x06\\x00\\x00\\x00\\x01\\x00\\x00\\x00\\x01\\x03\\x00\\x00\\x00\\x01\\x00\\x0…  │\n",
       "│ 08      │ 0802    │ 080202040712 │  40088.72 │ \\x01\\x06\\x00\\x00\\x00\\x01\\x00\\x00\\x00\\x01\\x03\\x00\\x00\\x00\\x01\\x00\\x0…  │\n",
       "│ 08      │ 0802    │ 080202040901 │  24612.73 │ \\x01\\x06\\x00\\x00\\x00\\x01\\x00\\x00\\x00\\x01\\x03\\x00\\x00\\x00\\x01\\x00\\x0…  │\n",
       "│ 08      │ 0802    │ 080202040902 │  31380.78 │ \\x01\\x06\\x00\\x00\\x00\\x01\\x00\\x00\\x00\\x01\\x03\\x00\\x00\\x00\\x01\\x00\\x0…  │\n",
       "└─────────┴─────────┴──────────────┴───────────┴───────────────────────────────────────────────────────────────────────┘"
      ]
     },
     "execution_count": 48,
     "metadata": {},
     "output_type": "execute_result"
    }
   ],
   "source": [
    "con.sql('''select count(huc12) from huc12''')\n",
    "con.sql('select * from huc12 order by huc12')"
   ]
  },
  {
   "cell_type": "code",
   "execution_count": 49,
   "id": "d790d3f5",
   "metadata": {},
   "outputs": [],
   "source": [
    "con.sql(\"\"\"CREATE OR REPLACE TABLE athuclevel AS \n",
    "SELECT athuclevel.huc12,\n",
    "ST_Area(ST_GeomFromWKB(geometry))*0.0001 huc12_ha,\n",
    "CODE, \n",
    "COALESCE(LTADUD, 0) dud_lta,\n",
    "COALESCE(LTADemand,0) demand_lta_kcal, \n",
    "COALESCE(LTAPopObj,0) popobj_lta, \n",
    "COALESCE(X80DUD,0) dud_80th, \n",
    "COALESCE(X80Demand,0) demand_80th_kcal, \n",
    "COALESCE(X80PopObj,0) popobj_80th, \n",
    "COALESCE(tothabitat_kcal,0) tothabitat_kcal,\n",
    "COALESCE(protected_kcal,0) protected_kcal,\n",
    "COALESCE(protectedhabitat_ha,0) protectedhabitat_ha,\n",
    "COALESCE(urbanHa,0) urbanHa, \n",
    "COALESCE(sum(urbanNrgy),0) urbanNrgy,\n",
    "COALESCE(sum(unavailHa),0) unavailha,\n",
    "COALESCE(sum(unavailHa),0) huc12_ha_unavailha,\n",
    "COALESCE(tothabitat_kcal - demand_lta_kcal,0) surpdef_lta_kcal,\n",
    "COALESCE(tothabitat_kcal - demand_80th_kcal,0) surpdef_80th_kcal,\n",
    "athuclevel.geometry\n",
    "FROM athuclevel\n",
    "LEFT JOIN (SELECT huc12, urbanNrgy FROM urbanwetlands) as urbanwetlands on urbanwetlands.huc12 = athuclevel.huc12\n",
    "LEFT JOIN (SELECT huc12, unavailHa FROM unavailable) as unavailable on unavailable.huc12 = athuclevel.huc12\n",
    "GROUP BY athuclevel.huc12, CODE, LTADUD, LTADemand, LTAPopObj, X80DUD, X80Demand, X80PopObj, tothabitat_kcal, protected_kcal, protectedhabitat_ha,urbanHa, geometry\n",
    "\"\"\")"
   ]
  },
  {
   "cell_type": "code",
   "execution_count": 50,
   "id": "c529f46d",
   "metadata": {},
   "outputs": [
    {
     "data": {
      "text/plain": [
       "┌──────────────┬────────────────────┬─────────┬───┬────────────────────┬────────────────────┬──────────────────────┐\n",
       "│    huc12     │      huc12_ha      │  CODE   │ … │  surpdef_lta_kcal  │ surpdef_80th_kcal  │       geometry       │\n",
       "│   varchar    │       double       │ varchar │   │       double       │       double       │         blob         │\n",
       "├──────────────┼────────────────────┼─────────┼───┼────────────────────┼────────────────────┼──────────────────────┤\n",
       "│ 080101000604 │ 20674.165854007184 │ 4B      │ … │ 56639275059168.625 │  56639275010604.04 │ \\x01\\x06\\x00\\x00\\x…  │\n",
       "│ 080101000604 │ 20674.165854007184 │ 4D      │ … │  56638785024753.72 │  56638672828820.29 │ \\x01\\x06\\x00\\x00\\x…  │\n",
       "│ 080202031201 │ 13970.871465084027 │ 4D      │ … │  8873379862.022955 │   8871696741.83188 │ \\x01\\x06\\x00\\x00\\x…  │\n",
       "│ 080202031203 │ 12222.365149180703 │ 4D      │ … │  5552134614.293705 │  5550898957.422803 │ \\x01\\x06\\x00\\x00\\x…  │\n",
       "│ 080202031204 │   9433.95872268888 │ 4B      │ … │  5478210909.224758 │  5478210893.766541 │ \\x01\\x06\\x00\\x00\\x…  │\n",
       "│ 080202031204 │   9433.95872268888 │ 4D      │ … │  5463752021.479194 │  5460560361.458877 │ \\x01\\x06\\x00\\x00\\x…  │\n",
       "│ 080202040712 │ 16223.329679622433 │ 4D      │ … │ 194606215479.92554 │ 194604480990.53622 │ \\x01\\x06\\x00\\x00\\x…  │\n",
       "│ 080202040712 │ 16223.329679622433 │ 4B      │ … │ 194613813974.72394 │ 194613792046.81424 │ \\x01\\x06\\x00\\x00\\x…  │\n",
       "│ 080202040901 │  9960.416785892472 │ 4D      │ … │ 13219379833.218306 │ 13215288254.500555 │ \\x01\\x06\\x00\\x00\\x…  │\n",
       "│ 080202040902 │ 12699.349679892162 │ 4D      │ … │ 12662055930.219698 │ 12657066235.598036 │ \\x01\\x06\\x00\\x00\\x…  │\n",
       "├──────────────┴────────────────────┴─────────┴───┴────────────────────┴────────────────────┴──────────────────────┤\n",
       "│ 10 rows                                                                                     19 columns (6 shown) │\n",
       "└──────────────────────────────────────────────────────────────────────────────────────────────────────────────────┘"
      ]
     },
     "execution_count": 50,
     "metadata": {},
     "output_type": "execute_result"
    }
   ],
   "source": [
    "con.sql('''select count(huc12) from athuclevel''')\n",
    "con.sql('select * from athuclevel order by huc12')"
   ]
  },
  {
   "cell_type": "code",
   "execution_count": 51,
   "id": "60b7e8ad",
   "metadata": {},
   "outputs": [],
   "source": [
    "con.sql(''' CREATE OR REPLACE TABLE athuclevel AS \n",
    "SELECT *,\n",
    "CASE WHEN \n",
    "demand_lta_kcal - protected_kcal > 0\n",
    "THEN\n",
    "demand_lta_kcal - protected_kcal\n",
    "ELSE 0\n",
    "END\n",
    "AS nrgprot_lta_kcal,\n",
    "CASE WHEN\n",
    "demand_80th_kcal - protected_kcal > 0 \n",
    "THEN\n",
    "demand_80th_kcal - protected_kcal\n",
    "ELSE 0\n",
    "END\n",
    "AS nrgprot_80th_kcal\n",
    "FROM athuclevel\n",
    "''')"
   ]
  },
  {
   "cell_type": "code",
   "execution_count": 52,
   "id": "84385d4f",
   "metadata": {},
   "outputs": [],
   "source": [
    "'''\n",
    "Calculate weighted mean\n",
    "'''\n",
    "con.sql('''\n",
    "CREATE OR REPLACE TABLE wtmean AS \n",
    "SELECT huctotal.huc12, name, avalNrgname/avalNrgtot as pct, hucnametotal.avalNrgname * pct as wtmean FROM\n",
    "((SELECT huc12, sum(avalNrgy) as avalNrgtot from wetlands group by huc12) huctotal\n",
    "join\n",
    "(SELECT huc12, name, sum(avalNrgy) as avalNrgname from wetlands group by huc12, name) hucnametotal\n",
    "on hucnametotal.huc12 = huctotal.huc12)\n",
    "''')\n",
    "con.sql('''CREATE OR REPLACE TABLE wtmeanpivot AS\n",
    "(select * exclude pct FROM\n",
    "(pivot wtmean\n",
    "    on name\n",
    "    USING sum(wtmean)))\n",
    "''')\n",
    "con.sql('''CREATE OR REPLACE TABLE wtmeanpivot AS \n",
    "SELECT\n",
    "huc12,\n",
    "COALESCE(DeepwaterFresh, 0) DeepwaterFresh,\n",
    "COALESCE(FreshMarsh, 0) FreshMarsh, \n",
    "COALESCE(FreshShallowOpenWater, 0) FreshShallowOpenWater,\n",
    "COALESCE(FreshwaterWoody, 0) FreshwaterWoody,\n",
    "COALESCE(ManagedFreshMarsh, 0) ManagedFreshMarsh,\n",
    "COALESCE(ManagedFreshShallowOpenWater, 0) ManagedFreshShallowOpenWater,\n",
    "COALESCE(ManagedFreshwaterAquaticBed, 0) ManagedFreshwaterAquaticBed\n",
    "FROM wtmeanpivot\n",
    "''')\n",
    "con.sql('''create or replace table wtmeanbyhuc as\n",
    "        select huc12, \n",
    "        sum(DeepwaterFresh + FreshMarsh + FreshShallowOpenWater + FreshwaterWoody + ManagedFreshMarsh +ManagedFreshShallowOpenWater + ManagedFreshwaterAquaticBed)\n",
    "        as wtmean from wtmeanpivot group by huc12''')"
   ]
  },
  {
   "cell_type": "code",
   "execution_count": 53,
   "id": "727cbb3c",
   "metadata": {},
   "outputs": [
    {
     "data": {
      "text/plain": [
       "┌──────────────┬────────────────────┬─────────┬───┬──────────────────────┬────────────────────┬────────────────────┐\n",
       "│    huc12     │      huc12_ha      │  CODE   │ … │       geometry       │  nrgprot_lta_kcal  │ nrgprot_80th_kcal  │\n",
       "│   varchar    │       double       │ varchar │   │         blob         │       double       │       double       │\n",
       "├──────────────┼────────────────────┼─────────┼───┼──────────────────────┼────────────────────┼────────────────────┤\n",
       "│ 080101000604 │ 20674.165854007184 │ 4B      │ … │ \\x01\\x06\\x00\\x00\\x…  │                0.0 │                0.0 │\n",
       "│ 080101000604 │ 20674.165854007184 │ 4D      │ … │ \\x01\\x06\\x00\\x00\\x…  │                0.0 │                0.0 │\n",
       "│ 080202031201 │ 13970.871465084027 │ 4D      │ … │ \\x01\\x06\\x00\\x00\\x…  │  7638924.053511167 │    9322044.2445851 │\n",
       "│ 080202031203 │ 12222.365149180703 │ 4D      │ … │ \\x01\\x06\\x00\\x00\\x…  │  5608089.691441812 │  6843746.562343769 │\n",
       "│ 080202031204 │   9433.95872268888 │ 4B      │ … │ \\x01\\x06\\x00\\x00\\x…  │  55.43671709444248 │  70.89493498688859 │\n",
       "│ 080202031204 │   9433.95872268888 │ 4D      │ … │ \\x01\\x06\\x00\\x00\\x…  │ 14458943.182281507 │ 17650603.202598877 │\n",
       "│ 080202040712 │ 16223.329679622433 │ 4D      │ … │ \\x01\\x06\\x00\\x00\\x…  │                0.0 │                0.0 │\n",
       "│ 080202040712 │ 16223.329679622433 │ 4B      │ … │ \\x01\\x06\\x00\\x00\\x…  │                0.0 │                0.0 │\n",
       "│ 080202040901 │  9960.416785892472 │ 4D      │ … │ \\x01\\x06\\x00\\x00\\x…  │                0.0 │                0.0 │\n",
       "│ 080202040902 │ 12699.349679892162 │ 4D      │ … │ \\x01\\x06\\x00\\x00\\x…  │    22645975.294709 │ 27635669.916370627 │\n",
       "├──────────────┴────────────────────┴─────────┴───┴──────────────────────┴────────────────────┴────────────────────┤\n",
       "│ 10 rows                                                                                     21 columns (6 shown) │\n",
       "└──────────────────────────────────────────────────────────────────────────────────────────────────────────────────┘"
      ]
     },
     "execution_count": 53,
     "metadata": {},
     "output_type": "execute_result"
    }
   ],
   "source": [
    "con.sql('''select count(huc12) from athuclevel''')\n",
    "con.sql('select * from athuclevel order by huc12')"
   ]
  },
  {
   "cell_type": "code",
   "execution_count": 54,
   "id": "6ab447f3",
   "metadata": {},
   "outputs": [
    {
     "data": {
      "text/plain": [
       "┌──────────────┬────────────────────┐\n",
       "│    huc12     │       wtmean       │\n",
       "│   varchar    │       double       │\n",
       "├──────────────┼────────────────────┤\n",
       "│ 080101000604 │ 2139736477.4576807 │\n",
       "│ 080202031201 │ 20558285.142592266 │\n",
       "│ 080202031203 │   8137433.75467029 │\n",
       "│ 080202031204 │  18741296.25220691 │\n",
       "│ 080202040712 │  37346920.11745108 │\n",
       "│ 080202040901 │ 26822207.628195055 │\n",
       "│ 080202040902 │ 33087927.504779287 │\n",
       "└──────────────┴────────────────────┘"
      ]
     },
     "execution_count": 54,
     "metadata": {},
     "output_type": "execute_result"
    }
   ],
   "source": [
    "con.sql('select * from wtmeanbyhuc order by huc12')"
   ]
  },
  {
   "cell_type": "code",
   "execution_count": 55,
   "id": "e66e9387",
   "metadata": {},
   "outputs": [],
   "source": [
    "##########\n",
    "########    Way too many rows after join.\n",
    "con.sql('''CREATE OR REPLACE TABLE athuclevel AS\n",
    "SELECT * \n",
    "from athuclevel\n",
    "left join wtmeanbyhuc on athuclevel.huc12=wtmeanbyhuc.huc12\n",
    "order by athuclevel.huc12\n",
    "''')\n",
    "con.sql('ALTER TABLE athuclevel RENAME wtmean TO wtMean_kcal_per_ha')"
   ]
  },
  {
   "cell_type": "code",
   "execution_count": 56,
   "id": "0f7cde1e",
   "metadata": {},
   "outputs": [],
   "source": [
    "con.sql('''CREATE OR REPLACE TABLE athuclevel AS\n",
    "SELECT *,\n",
    "CASE WHEN \n",
    "surpdef_lta_kcal < 0\n",
    "THEN\n",
    "abs(surpdef_lta_kcal/wtMean_kcal_per_ha)\n",
    "ELSE 0\n",
    "END\n",
    "AS restoregoal_lta_ha,\n",
    "\n",
    "CASE WHEN \n",
    "surpdef_80th_kcal < 0\n",
    "THEN\n",
    "abs(surpdef_80th_kcal/wtMean_kcal_per_ha)\n",
    "ELSE 0\n",
    "END\n",
    "AS restoregoal_80th_ha\n",
    "\n",
    "FROM athuclevel\n",
    "''')"
   ]
  },
  {
   "cell_type": "code",
   "execution_count": 57,
   "id": "d486d414",
   "metadata": {},
   "outputs": [],
   "source": [
    "## Need to double check huc12_ha and unavailha\n",
    "con.sql('''CREATE OR REPLACE TABLE athuclevel AS \n",
    "        select huc12, huc12_ha, CODE as code, dud_lta, demand_lta_kcal, popobj_lta, dud_80th, demand_80th_kcal, popobj_80th,\n",
    "        tothabitat_kcal, protected_kcal, protectedhabitat_ha, urbanHa, urbanNrgy, unavailha, surpdef_lta_kcal, surpdef_80th_kcal,\n",
    "        nrgprot_lta_kcal, nrgprot_80th_kcal, wtMean_kcal_per_ha, restoregoal_lta_ha, restoregoal_80th_ha, \n",
    "        CASE WHEN\n",
    "        huc12_ha - unavailha > 0\n",
    "        THEN\n",
    "        huc12_ha - unavailha\n",
    "        ELSE 0\n",
    "        END \n",
    "        AS available_ha,\n",
    "        geometry\n",
    "        FROM athuclevel\n",
    "        ''')"
   ]
  },
  {
   "cell_type": "code",
   "execution_count": 58,
   "id": "650228cf",
   "metadata": {},
   "outputs": [],
   "source": [
    "con.sql('''CREATE OR REPLACE TABLE athuclevel AS\n",
    "SELECT * EXCLUDE (restoregoal_lta_ha, restoregoal_80th_ha),\n",
    "CASE WHEN \n",
    "restoregoal_lta_ha > available_ha\n",
    "THEN\n",
    "available_ha\n",
    "ELSE restoregoal_lta_ha\n",
    "END\n",
    "AS restoregoal_lta_ha,\n",
    "\n",
    "CASE WHEN \n",
    "restoregoal_80th_ha > available_ha\n",
    "THEN\n",
    "available_ha\n",
    "ELSE restoregoal_80th_ha\n",
    "END\n",
    "AS restoregoal_80th_ha,\n",
    "\n",
    "FROM athuclevel\n",
    "''')"
   ]
  },
  {
   "cell_type": "code",
   "execution_count": 59,
   "id": "e994973a",
   "metadata": {},
   "outputs": [],
   "source": [
    "#field='protectgoal_lta_ha', expression=\"(!nrgprot_lta_kcal!/!wtMean_kcal_per_ha!) if !nrgprot_lta_kcal! > 0 else 0\"\n",
    "#field='protectgoal_80th_ha', expression=\"(!nrgprot_80th_kcal!/!wtMean_kcal_per_ha!) if !nrgprot_80th_kcal! > 0 else 0\"\n",
    "con.sql('''CREATE OR REPLACE TABLE athuclevel AS\n",
    "SELECT *,\n",
    "CASE WHEN \n",
    "nrgprot_lta_kcal > 0 \n",
    "THEN\n",
    "nrgprot_lta_kcal/wtMean_kcal_per_ha\n",
    "ELSE 0\n",
    "END\n",
    "AS protectgoal_lta_ha,\n",
    "\n",
    "CASE WHEN \n",
    "nrgprot_80th_kcal > 0\n",
    "THEN\n",
    "nrgprot_80th_kcal/wtMean_kcal_per_ha\n",
    "ELSE 0\n",
    "END\n",
    "AS protectgoal_80th_ha,\n",
    "FROM athuclevel\n",
    "''')"
   ]
  },
  {
   "cell_type": "code",
   "execution_count": 60,
   "id": "792d570e",
   "metadata": {},
   "outputs": [],
   "source": [
    "#field='protectgoal_lta_ha', expression=\"!available_ha! if !protectgoal_lta_ha! > !available_ha! else !protectgoal_lta_ha!\"\n",
    "#field='protectgoal_80th_ha', expression=\"!available_ha! if !protectgoal_80th_ha! > !available_ha! else !protectgoal_80th_ha!\"\n",
    "con.sql('''CREATE OR REPLACE TABLE athuclevel AS\n",
    "SELECT * EXCLUDE (protectgoal_lta_ha, protectgoal_80th_ha),\n",
    "CASE WHEN \n",
    "protectgoal_lta_ha > available_ha\n",
    "THEN\n",
    "available_ha\n",
    "ELSE protectgoal_lta_ha\n",
    "END\n",
    "AS  protectgoal_lta_ha,\n",
    "\n",
    "CASE WHEN \n",
    "protectgoal_80th_ha > available_ha\n",
    "THEN\n",
    "available_ha\n",
    "ELSE protectgoal_80th_ha\n",
    "END\n",
    "AS protectgoal_80th_ha,\n",
    "FROM athuclevel\n",
    "''')"
   ]
  },
  {
   "cell_type": "code",
   "execution_count": 61,
   "id": "e7d664be",
   "metadata": {},
   "outputs": [
    {
     "data": {
      "text/plain": [
       "'\\nProtected wetlands, urban wetlands, and wetland energy all calculated by huc12.  Need to calculate total urban outside of\\nwetland energy\\n\\nCalculations:\\n    Energy supply\\n        Total habitat energy within huc - THabNrg\\n        Total habitat hectares within huc - THabHA\\n\\n    Energy demand\\n        LTA and X80 DUD by huc - TLTADUD anc X80DUD\\n        LTA and X80 Demand by huc - TLTADemand and X80Demand\\n        LTA and X80 Population objective by huc - LTAPopObj and X80PopObj\\n        \\n    Protected lands\\n        Total protected hectares by huc - ProtHA\\n\\n    Protected habitat hectares and energy\\n        Total protected hectares - ProtHabHA\\n        Total protected energy - ProtHabNrg\\n\\n    Weighted mean and calculations based off of it\\n        Weighted mean kcal/ha with weight being Total habitat energy\\n        Energy Protection needed - NrgProtRq\\n        Restoration HA based off of weighted mean - RstorHA\\n        Protection HA based off weighted mean - RstorProtHA  \\n\\n'"
      ]
     },
     "execution_count": 61,
     "metadata": {},
     "output_type": "execute_result"
    }
   ],
   "source": [
    "'''\n",
    "Protected wetlands, urban wetlands, and wetland energy all calculated by huc12.  Need to calculate total urban outside of\n",
    "wetland energy\n",
    "\n",
    "Calculations:\n",
    "    Energy supply\n",
    "        Total habitat energy within huc - THabNrg\n",
    "        Total habitat hectares within huc - THabHA\n",
    "\n",
    "    Energy demand\n",
    "        LTA and X80 DUD by huc - TLTADUD anc X80DUD\n",
    "        LTA and X80 Demand by huc - TLTADemand and X80Demand\n",
    "        LTA and X80 Population objective by huc - LTAPopObj and X80PopObj\n",
    "        \n",
    "    Protected lands\n",
    "        Total protected hectares by huc - ProtHA\n",
    "\n",
    "    Protected habitat hectares and energy\n",
    "        Total protected hectares - ProtHabHA\n",
    "        Total protected energy - ProtHabNrg\n",
    "\n",
    "    Weighted mean and calculations based off of it\n",
    "        Weighted mean kcal/ha with weight being Total habitat energy\n",
    "        Energy Protection needed - NrgProtRq\n",
    "        Restoration HA based off of weighted mean - RstorHA\n",
    "        Protection HA based off weighted mean - RstorProtHA  \n",
    "\n",
    "'''\n",
    "#################################\n",
    "#################################\n",
    "#################################\n"
   ]
  },
  {
   "cell_type": "code",
   "execution_count": 62,
   "id": "e5763099",
   "metadata": {},
   "outputs": [
    {
     "data": {
      "text/html": [
       "<div>\n",
       "<style scoped>\n",
       "    .dataframe tbody tr th:only-of-type {\n",
       "        vertical-align: middle;\n",
       "    }\n",
       "\n",
       "    .dataframe tbody tr th {\n",
       "        vertical-align: top;\n",
       "    }\n",
       "\n",
       "    .dataframe thead th {\n",
       "        text-align: right;\n",
       "    }\n",
       "</style>\n",
       "<table border=\"1\" class=\"dataframe\">\n",
       "  <thead>\n",
       "    <tr style=\"text-align: right;\">\n",
       "      <th></th>\n",
       "      <th>column_name</th>\n",
       "      <th>column_type</th>\n",
       "      <th>null</th>\n",
       "      <th>key</th>\n",
       "      <th>default</th>\n",
       "      <th>extra</th>\n",
       "    </tr>\n",
       "  </thead>\n",
       "  <tbody>\n",
       "    <tr>\n",
       "      <th>0</th>\n",
       "      <td>huc12</td>\n",
       "      <td>VARCHAR</td>\n",
       "      <td>YES</td>\n",
       "      <td>None</td>\n",
       "      <td>None</td>\n",
       "      <td>NaN</td>\n",
       "    </tr>\n",
       "    <tr>\n",
       "      <th>1</th>\n",
       "      <td>huc12_ha</td>\n",
       "      <td>DOUBLE</td>\n",
       "      <td>YES</td>\n",
       "      <td>None</td>\n",
       "      <td>None</td>\n",
       "      <td>NaN</td>\n",
       "    </tr>\n",
       "    <tr>\n",
       "      <th>2</th>\n",
       "      <td>code</td>\n",
       "      <td>VARCHAR</td>\n",
       "      <td>YES</td>\n",
       "      <td>None</td>\n",
       "      <td>None</td>\n",
       "      <td>NaN</td>\n",
       "    </tr>\n",
       "    <tr>\n",
       "      <th>3</th>\n",
       "      <td>dud_lta</td>\n",
       "      <td>DOUBLE</td>\n",
       "      <td>YES</td>\n",
       "      <td>None</td>\n",
       "      <td>None</td>\n",
       "      <td>NaN</td>\n",
       "    </tr>\n",
       "    <tr>\n",
       "      <th>4</th>\n",
       "      <td>demand_lta_kcal</td>\n",
       "      <td>DOUBLE</td>\n",
       "      <td>YES</td>\n",
       "      <td>None</td>\n",
       "      <td>None</td>\n",
       "      <td>NaN</td>\n",
       "    </tr>\n",
       "    <tr>\n",
       "      <th>5</th>\n",
       "      <td>popobj_lta</td>\n",
       "      <td>DOUBLE</td>\n",
       "      <td>YES</td>\n",
       "      <td>None</td>\n",
       "      <td>None</td>\n",
       "      <td>NaN</td>\n",
       "    </tr>\n",
       "    <tr>\n",
       "      <th>6</th>\n",
       "      <td>dud_80th</td>\n",
       "      <td>DOUBLE</td>\n",
       "      <td>YES</td>\n",
       "      <td>None</td>\n",
       "      <td>None</td>\n",
       "      <td>NaN</td>\n",
       "    </tr>\n",
       "    <tr>\n",
       "      <th>7</th>\n",
       "      <td>demand_80th_kcal</td>\n",
       "      <td>DOUBLE</td>\n",
       "      <td>YES</td>\n",
       "      <td>None</td>\n",
       "      <td>None</td>\n",
       "      <td>NaN</td>\n",
       "    </tr>\n",
       "    <tr>\n",
       "      <th>8</th>\n",
       "      <td>popobj_80th</td>\n",
       "      <td>DOUBLE</td>\n",
       "      <td>YES</td>\n",
       "      <td>None</td>\n",
       "      <td>None</td>\n",
       "      <td>NaN</td>\n",
       "    </tr>\n",
       "    <tr>\n",
       "      <th>9</th>\n",
       "      <td>tothabitat_kcal</td>\n",
       "      <td>DOUBLE</td>\n",
       "      <td>YES</td>\n",
       "      <td>None</td>\n",
       "      <td>None</td>\n",
       "      <td>NaN</td>\n",
       "    </tr>\n",
       "    <tr>\n",
       "      <th>10</th>\n",
       "      <td>protected_kcal</td>\n",
       "      <td>DOUBLE</td>\n",
       "      <td>YES</td>\n",
       "      <td>None</td>\n",
       "      <td>None</td>\n",
       "      <td>NaN</td>\n",
       "    </tr>\n",
       "    <tr>\n",
       "      <th>11</th>\n",
       "      <td>protectedhabitat_ha</td>\n",
       "      <td>DOUBLE</td>\n",
       "      <td>YES</td>\n",
       "      <td>None</td>\n",
       "      <td>None</td>\n",
       "      <td>NaN</td>\n",
       "    </tr>\n",
       "    <tr>\n",
       "      <th>12</th>\n",
       "      <td>urbanHa</td>\n",
       "      <td>DOUBLE</td>\n",
       "      <td>YES</td>\n",
       "      <td>None</td>\n",
       "      <td>None</td>\n",
       "      <td>NaN</td>\n",
       "    </tr>\n",
       "    <tr>\n",
       "      <th>13</th>\n",
       "      <td>urbanNrgy</td>\n",
       "      <td>DOUBLE</td>\n",
       "      <td>YES</td>\n",
       "      <td>None</td>\n",
       "      <td>None</td>\n",
       "      <td>NaN</td>\n",
       "    </tr>\n",
       "    <tr>\n",
       "      <th>14</th>\n",
       "      <td>unavailha</td>\n",
       "      <td>DOUBLE</td>\n",
       "      <td>YES</td>\n",
       "      <td>None</td>\n",
       "      <td>None</td>\n",
       "      <td>NaN</td>\n",
       "    </tr>\n",
       "    <tr>\n",
       "      <th>15</th>\n",
       "      <td>surpdef_lta_kcal</td>\n",
       "      <td>DOUBLE</td>\n",
       "      <td>YES</td>\n",
       "      <td>None</td>\n",
       "      <td>None</td>\n",
       "      <td>NaN</td>\n",
       "    </tr>\n",
       "    <tr>\n",
       "      <th>16</th>\n",
       "      <td>surpdef_80th_kcal</td>\n",
       "      <td>DOUBLE</td>\n",
       "      <td>YES</td>\n",
       "      <td>None</td>\n",
       "      <td>None</td>\n",
       "      <td>NaN</td>\n",
       "    </tr>\n",
       "    <tr>\n",
       "      <th>17</th>\n",
       "      <td>nrgprot_lta_kcal</td>\n",
       "      <td>DOUBLE</td>\n",
       "      <td>YES</td>\n",
       "      <td>None</td>\n",
       "      <td>None</td>\n",
       "      <td>NaN</td>\n",
       "    </tr>\n",
       "    <tr>\n",
       "      <th>18</th>\n",
       "      <td>nrgprot_80th_kcal</td>\n",
       "      <td>DOUBLE</td>\n",
       "      <td>YES</td>\n",
       "      <td>None</td>\n",
       "      <td>None</td>\n",
       "      <td>NaN</td>\n",
       "    </tr>\n",
       "    <tr>\n",
       "      <th>19</th>\n",
       "      <td>wtMean_kcal_per_ha</td>\n",
       "      <td>DOUBLE</td>\n",
       "      <td>YES</td>\n",
       "      <td>None</td>\n",
       "      <td>None</td>\n",
       "      <td>NaN</td>\n",
       "    </tr>\n",
       "    <tr>\n",
       "      <th>20</th>\n",
       "      <td>available_ha</td>\n",
       "      <td>DOUBLE</td>\n",
       "      <td>YES</td>\n",
       "      <td>None</td>\n",
       "      <td>None</td>\n",
       "      <td>NaN</td>\n",
       "    </tr>\n",
       "    <tr>\n",
       "      <th>21</th>\n",
       "      <td>geometry</td>\n",
       "      <td>BLOB</td>\n",
       "      <td>YES</td>\n",
       "      <td>None</td>\n",
       "      <td>None</td>\n",
       "      <td>NaN</td>\n",
       "    </tr>\n",
       "    <tr>\n",
       "      <th>22</th>\n",
       "      <td>restoregoal_lta_ha</td>\n",
       "      <td>DOUBLE</td>\n",
       "      <td>YES</td>\n",
       "      <td>None</td>\n",
       "      <td>None</td>\n",
       "      <td>NaN</td>\n",
       "    </tr>\n",
       "    <tr>\n",
       "      <th>23</th>\n",
       "      <td>restoregoal_80th_ha</td>\n",
       "      <td>DOUBLE</td>\n",
       "      <td>YES</td>\n",
       "      <td>None</td>\n",
       "      <td>None</td>\n",
       "      <td>NaN</td>\n",
       "    </tr>\n",
       "    <tr>\n",
       "      <th>24</th>\n",
       "      <td>protectgoal_lta_ha</td>\n",
       "      <td>DOUBLE</td>\n",
       "      <td>YES</td>\n",
       "      <td>None</td>\n",
       "      <td>None</td>\n",
       "      <td>NaN</td>\n",
       "    </tr>\n",
       "    <tr>\n",
       "      <th>25</th>\n",
       "      <td>protectgoal_80th_ha</td>\n",
       "      <td>DOUBLE</td>\n",
       "      <td>YES</td>\n",
       "      <td>None</td>\n",
       "      <td>None</td>\n",
       "      <td>NaN</td>\n",
       "    </tr>\n",
       "  </tbody>\n",
       "</table>\n",
       "</div>"
      ],
      "text/plain": [
       "            column_name column_type null   key default  extra\n",
       "0                 huc12     VARCHAR  YES  None    None    NaN\n",
       "1              huc12_ha      DOUBLE  YES  None    None    NaN\n",
       "2                  code     VARCHAR  YES  None    None    NaN\n",
       "3               dud_lta      DOUBLE  YES  None    None    NaN\n",
       "4       demand_lta_kcal      DOUBLE  YES  None    None    NaN\n",
       "5            popobj_lta      DOUBLE  YES  None    None    NaN\n",
       "6              dud_80th      DOUBLE  YES  None    None    NaN\n",
       "7      demand_80th_kcal      DOUBLE  YES  None    None    NaN\n",
       "8           popobj_80th      DOUBLE  YES  None    None    NaN\n",
       "9       tothabitat_kcal      DOUBLE  YES  None    None    NaN\n",
       "10       protected_kcal      DOUBLE  YES  None    None    NaN\n",
       "11  protectedhabitat_ha      DOUBLE  YES  None    None    NaN\n",
       "12              urbanHa      DOUBLE  YES  None    None    NaN\n",
       "13            urbanNrgy      DOUBLE  YES  None    None    NaN\n",
       "14            unavailha      DOUBLE  YES  None    None    NaN\n",
       "15     surpdef_lta_kcal      DOUBLE  YES  None    None    NaN\n",
       "16    surpdef_80th_kcal      DOUBLE  YES  None    None    NaN\n",
       "17     nrgprot_lta_kcal      DOUBLE  YES  None    None    NaN\n",
       "18    nrgprot_80th_kcal      DOUBLE  YES  None    None    NaN\n",
       "19   wtMean_kcal_per_ha      DOUBLE  YES  None    None    NaN\n",
       "20         available_ha      DOUBLE  YES  None    None    NaN\n",
       "21             geometry        BLOB  YES  None    None    NaN\n",
       "22   restoregoal_lta_ha      DOUBLE  YES  None    None    NaN\n",
       "23  restoregoal_80th_ha      DOUBLE  YES  None    None    NaN\n",
       "24   protectgoal_lta_ha      DOUBLE  YES  None    None    NaN\n",
       "25  protectgoal_80th_ha      DOUBLE  YES  None    None    NaN"
      ]
     },
     "execution_count": 62,
     "metadata": {},
     "output_type": "execute_result"
    }
   ],
   "source": [
    "con.sql('describe athuclevel').df()"
   ]
  },
  {
   "cell_type": "code",
   "execution_count": 63,
   "id": "57ac5437",
   "metadata": {},
   "outputs": [
    {
     "data": {
      "text/plain": [
       "'Wed Feb 14 08:58:15 2024'"
      ]
     },
     "execution_count": 63,
     "metadata": {},
     "output_type": "execute_result"
    }
   ],
   "source": [
    "end_time = time.ctime(time.time())\n",
    "end_time"
   ]
  },
  {
   "cell_type": "code",
   "execution_count": 64,
   "id": "91fa9de8",
   "metadata": {},
   "outputs": [],
   "source": [
    "con.sql(\"\"\"COPY (SELECT * EXCLUDE geometry, ST_AsWKB(ST_GeomFromWKB(geometry)) as geometry, FROM athuclevel) TO 'testwetland.parquet' (FORMAT PARQUET)\"\"\")"
   ]
  },
  {
   "cell_type": "code",
   "execution_count": null,
   "id": "0de6b638",
   "metadata": {},
   "outputs": [],
   "source": []
  }
 ],
 "metadata": {
  "celltoolbar": "Tags",
  "kernelspec": {
   "display_name": "Python 3 (ipykernel)",
   "language": "python",
   "name": "python3"
  },
  "language_info": {
   "codemirror_mode": {
    "name": "ipython",
    "version": 3
   },
   "file_extension": ".py",
   "mimetype": "text/x-python",
   "name": "python",
   "nbconvert_exporter": "python",
   "pygments_lexer": "ipython3",
   "version": "3.10.13"
  }
 },
 "nbformat": 4,
 "nbformat_minor": 5
}
